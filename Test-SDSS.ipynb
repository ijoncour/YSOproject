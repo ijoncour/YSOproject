{
 "cells": [
  {
   "cell_type": "code",
   "execution_count": 1,
   "metadata": {},
   "outputs": [],
   "source": [
    "# Standard definitions needed for script\n",
    "import numpy as np\n",
    "import matplotlib.pyplot as plt\n",
    "import numpy.ma as ma\n",
    "import math\n",
    "from astropy.table import Table,Column\n",
    "from astropy.io import fits\n",
    "import astropy.units as u\n",
    "from astropy.coordinates.sky_coordinate import SkyCoord\n",
    "from astropy.units import Quantity\n",
    "from numpy.polynomial.polynomial import polyfit"
   ]
  },
  {
   "cell_type": "code",
   "execution_count": 2,
   "metadata": {},
   "outputs": [
    {
     "name": "stdout",
     "output_type": "stream",
     "text": [
      "Did your bidding master\n"
     ]
    }
   ],
   "source": [
    "#import sys\n",
    "#sys.path.append(\"../\") # go to parent dir\n",
    "from functionzfolder import functionz as fz\n",
    "import imp\n",
    "imp.reload(fz)\n",
    "fz.printit(\"test\")"
   ]
  },
  {
   "cell_type": "code",
   "execution_count": 3,
   "metadata": {},
   "outputs": [],
   "source": [
    "# Enter Source name = directory name, ra and dec in decimal degrees\n",
    "myname = 'SerpNE'\n",
    "myra = '279.50375'\n",
    "mydec = '0.008278'\n",
    "YSOcat = \"SerpensNE-YSOs.tbl\"\n",
    "FullCat = \"catalog-SerpensNE-FULL.tbl\"\n",
    "SDSSCat = \"SDSS-NE.votable\"\n"
   ]
  },
  {
   "cell_type": "code",
   "execution_count": 4,
   "metadata": {},
   "outputs": [
    {
     "name": "stdout",
     "output_type": "stream",
     "text": [
      "Created TAP+ (v1.0.1) - Connection:\n",
      "\tHost: gea.esac.esa.int\n",
      "\tUse HTTPS: False\n",
      "\tPort: 80\n",
      "\tSSL Port: 443\n",
      "Retrieving tables...\n",
      "Parsing tables...\n",
      "Done.\n",
      "external.external.gaiadr2_geometric_distance\n",
      "public.public.dual\n",
      "public.public.hipparcos\n",
      "public.public.hipparcos_newreduction\n",
      "public.public.hubble_sc\n",
      "public.public.igsl_source\n",
      "public.public.igsl_source_catalog_ids\n",
      "public.public.tycho2\n",
      "tap_schema.tap_schema.columns\n",
      "tap_schema.tap_schema.key_columns\n",
      "tap_schema.tap_schema.keys\n",
      "tap_schema.tap_schema.schemas\n",
      "tap_schema.tap_schema.tables\n",
      "gaiadr1.gaiadr1.aux_qso_icrf2_match\n",
      "gaiadr1.gaiadr1.ext_phot_zero_point\n",
      "gaiadr1.gaiadr1.allwise_best_neighbour\n",
      "gaiadr1.gaiadr1.allwise_neighbourhood\n",
      "gaiadr1.gaiadr1.gsc23_best_neighbour\n",
      "gaiadr1.gaiadr1.gsc23_neighbourhood\n",
      "gaiadr1.gaiadr1.ppmxl_best_neighbour\n",
      "gaiadr1.gaiadr1.ppmxl_neighbourhood\n",
      "gaiadr1.gaiadr1.sdss_dr9_best_neighbour\n",
      "gaiadr1.gaiadr1.sdss_dr9_neighbourhood\n",
      "gaiadr1.gaiadr1.tmass_best_neighbour\n",
      "gaiadr1.gaiadr1.tmass_neighbourhood\n",
      "gaiadr1.gaiadr1.ucac4_best_neighbour\n",
      "gaiadr1.gaiadr1.ucac4_neighbourhood\n",
      "gaiadr1.gaiadr1.urat1_best_neighbour\n",
      "gaiadr1.gaiadr1.urat1_neighbourhood\n",
      "gaiadr1.gaiadr1.cepheid\n",
      "gaiadr1.gaiadr1.phot_variable_time_series_gfov\n",
      "gaiadr1.gaiadr1.phot_variable_time_series_gfov_statistical_parameters\n",
      "gaiadr1.gaiadr1.rrlyrae\n",
      "gaiadr1.gaiadr1.variable_summary\n",
      "gaiadr1.gaiadr1.allwise_original_valid\n",
      "gaiadr1.gaiadr1.gsc23_original_valid\n",
      "gaiadr1.gaiadr1.ppmxl_original_valid\n",
      "gaiadr1.gaiadr1.sdssdr9_original_valid\n",
      "gaiadr1.gaiadr1.tmass_original_valid\n",
      "gaiadr1.gaiadr1.ucac4_original_valid\n",
      "gaiadr1.gaiadr1.urat1_original_valid\n",
      "gaiadr1.gaiadr1.gaia_source\n",
      "gaiadr1.gaiadr1.tgas_source\n",
      "gaiadr2.gaiadr2.aux_allwise_agn_gdr2_cross_id\n",
      "gaiadr2.gaiadr2.aux_iers_gdr2_cross_id\n",
      "gaiadr2.gaiadr2.aux_sso_orbit_residuals\n",
      "gaiadr2.gaiadr2.aux_sso_orbits\n",
      "gaiadr2.gaiadr2.dr1_neighbourhood\n",
      "gaiadr2.gaiadr2.allwise_best_neighbour\n",
      "gaiadr2.gaiadr2.allwise_neighbourhood\n",
      "gaiadr2.gaiadr2.apassdr9_best_neighbour\n",
      "gaiadr2.gaiadr2.apassdr9_neighbourhood\n",
      "gaiadr2.gaiadr2.gsc23_best_neighbour\n",
      "gaiadr2.gaiadr2.gsc23_neighbourhood\n",
      "gaiadr2.gaiadr2.hipparcos2_best_neighbour\n",
      "gaiadr2.gaiadr2.hipparcos2_neighbourhood\n",
      "gaiadr2.gaiadr2.panstarrs1_best_neighbour\n",
      "gaiadr2.gaiadr2.panstarrs1_neighbourhood\n",
      "gaiadr2.gaiadr2.ppmxl_best_neighbour\n",
      "gaiadr2.gaiadr2.ppmxl_neighbourhood\n",
      "gaiadr2.gaiadr2.ravedr5_best_neighbour\n",
      "gaiadr2.gaiadr2.ravedr5_neighbourhood\n",
      "gaiadr2.gaiadr2.sdssdr9_best_neighbour\n",
      "gaiadr2.gaiadr2.sdssdr9_neighbourhood\n",
      "gaiadr2.gaiadr2.tmass_best_neighbour\n",
      "gaiadr2.gaiadr2.tmass_neighbourhood\n",
      "gaiadr2.gaiadr2.tycho2_best_neighbour\n",
      "gaiadr2.gaiadr2.tycho2_neighbourhood\n",
      "gaiadr2.gaiadr2.urat1_best_neighbour\n",
      "gaiadr2.gaiadr2.urat1_neighbourhood\n",
      "gaiadr2.gaiadr2.sso_observation\n",
      "gaiadr2.gaiadr2.sso_source\n",
      "gaiadr2.gaiadr2.vari_cepheid\n",
      "gaiadr2.gaiadr2.vari_classifier_class_definition\n",
      "gaiadr2.gaiadr2.vari_classifier_definition\n",
      "gaiadr2.gaiadr2.vari_classifier_result\n",
      "gaiadr2.gaiadr2.vari_long_period_variable\n",
      "gaiadr2.gaiadr2.vari_rotation_modulation\n",
      "gaiadr2.gaiadr2.vari_rrlyrae\n",
      "gaiadr2.gaiadr2.vari_short_timescale\n",
      "gaiadr2.gaiadr2.vari_time_series_statistics\n",
      "gaiadr2.gaiadr2.panstarrs1_original_valid\n",
      "gaiadr2.gaiadr2.gaia_source\n"
     ]
    }
   ],
   "source": [
    "# set-up for query to GAIA archive\n",
    "from astroquery.gaia import Gaia\n",
    "tables = Gaia.load_tables(only_names=True)\n",
    "for table in (tables):\n",
    "    print (table.get_qualified_name())"
   ]
  },
  {
   "cell_type": "code",
   "execution_count": 5,
   "metadata": {},
   "outputs": [
    {
     "name": "stderr",
     "output_type": "stream",
     "text": [
      "WARNING: W35: None:5:0: W35: 'value' attribute required for INFO elements [astropy.io.votable.tree]\n",
      "WARNING: W35: None:6:0: W35: 'value' attribute required for INFO elements [astropy.io.votable.tree]\n",
      "WARNING: W35: None:7:0: W35: 'value' attribute required for INFO elements [astropy.io.votable.tree]\n",
      "WARNING: W35: None:8:0: W35: 'value' attribute required for INFO elements [astropy.io.votable.tree]\n",
      "WARNING: W35: None:10:0: W35: 'value' attribute required for INFO elements [astropy.io.votable.tree]\n",
      "WARNING: W27: None:11:0: W27: COOSYS deprecated in VOTable 1.2 [astropy.io.votable.tree]\n",
      "WARNING: W27: None:12:0: W27: COOSYS deprecated in VOTable 1.2 [astropy.io.votable.tree]\n",
      "WARNING: W06: None:48:0: W06: Invalid UCD 'arith.ratio': Secondary word 'arith.ratio' is not valid as a primary word [astropy.io.votable.tree]\n",
      "WARNING: W50: None:51:0: W50: Invalid unit string 'mas.yr**-1' [astropy.io.votable.tree]\n",
      "WARNING: W50: None:54:0: W50: Invalid unit string 'mas.yr**-1' [astropy.io.votable.tree]\n",
      "WARNING: W50: None:57:0: W50: Invalid unit string 'mas.yr**-1' [astropy.io.votable.tree]\n",
      "WARNING: W50: None:60:0: W50: Invalid unit string 'mas.yr**-1' [astropy.io.votable.tree]\n",
      "WARNING: W50: None:123:0: W50: Invalid unit string 'mas**-2' [astropy.io.votable.tree]\n",
      "WARNING: W50: None:126:0: W50: Invalid unit string 'um**-1' [astropy.io.votable.tree]\n",
      "WARNING: W06: None:129:0: W06: Invalid UCD 'em.wavenumber;stat.error': Primary word 'stat.error' is not valid as a secondary word [astropy.io.votable.tree]\n",
      "WARNING: W50: None:129:0: W50: Invalid unit string 'um**-1' [astropy.io.votable.tree]\n",
      "WARNING: W06: None:141:0: W06: Invalid UCD 'pos.errorEllipse;stat.max': Secondary word 'pos.errorEllipse' is not valid as a primary word [astropy.io.votable.tree]\n",
      "WARNING: W50: None:156:0: W50: Invalid unit string ''electron'.s**-1' [astropy.io.votable.tree]\n",
      "WARNING: W50: None:159:0: W50: Invalid unit string ''electron'.s**-1' [astropy.io.votable.tree]\n",
      "WARNING: W06: None:162:0: W06: Invalid UCD 'arith.ratio': Secondary word 'arith.ratio' is not valid as a primary word [astropy.io.votable.tree]\n",
      "WARNING: W50: None:171:0: W50: Invalid unit string ''electron'.s**-1' (suppressing further warnings of this type...) [astropy.io.votable.tree]\n",
      "WARNING: W06: None:177:0: W06: Invalid UCD 'arith.ratio': Secondary word 'arith.ratio' is not valid as a primary word [astropy.io.votable.tree]\n",
      "WARNING: W06: None:192:0: W06: Invalid UCD 'arith.ratio': Secondary word 'arith.ratio' is not valid as a primary word [astropy.io.votable.tree]\n",
      "WARNING: W06: None:204:0: W06: Invalid UCD 'phot.color': Unknown word 'phot.color' [astropy.io.votable.tree]\n",
      "WARNING: W06: None:207:0: W06: Invalid UCD 'phot.color': Unknown word 'phot.color' [astropy.io.votable.tree]\n",
      "WARNING: W06: None:210:0: W06: Invalid UCD 'phot.color': Unknown word 'phot.color' [astropy.io.votable.tree]\n",
      "WARNING: W06: None:282:0: W06: Invalid UCD 'phys.size.radius;stat.error': Primary word 'stat.error' is not valid as a secondary word (suppressing further warnings of this type...) [astropy.io.votable.tree]\n",
      "WARNING: W32: None:303:0: W32: Duplicate ID 'source_id' renamed to 'source_id_2' to ensure uniqueness [astropy.io.votable.tree]\n",
      "WARNING: W32: None:368:0: W32: Duplicate ID 'tmass_oid' renamed to 'tmass_oid_2' to ensure uniqueness [astropy.io.votable.tree]\n",
      "WARNING: W32: None:373:0: W32: Duplicate ID 'designation' renamed to 'designation_2' to ensure uniqueness [astropy.io.votable.tree]\n",
      "WARNING: W32: None:378:0: W32: Duplicate ID 'ra' renamed to 'ra_2' to ensure uniqueness [astropy.io.votable.tree]\n",
      "WARNING: W32: None:381:0: W32: Duplicate ID 'dec' renamed to 'dec_2' to ensure uniqueness [astropy.io.votable.tree]\n",
      "WARNING: W33: None:303:0: W33: Column name 'source_id' renamed to 'source_id 2' to ensure uniqueness [astropy.io.votable.tree]\n",
      "WARNING: W33: None:368:0: W33: Column name 'tmass_oid' renamed to 'tmass_oid 2' to ensure uniqueness [astropy.io.votable.tree]\n",
      "WARNING: W33: None:373:0: W33: Column name 'designation' renamed to 'designation 2' to ensure uniqueness [astropy.io.votable.tree]\n",
      "WARNING: W33: None:378:0: W33: Column name 'ra' renamed to 'ra 2' to ensure uniqueness [astropy.io.votable.tree]\n",
      "WARNING: W33: None:381:0: W33: Column name 'dec' renamed to 'dec 2' to ensure uniqueness [astropy.io.votable.tree]\n"
     ]
    },
    {
     "name": "stdout",
     "output_type": "stream",
     "text": [
      "Query finished.\n"
     ]
    }
   ],
   "source": [
    "# send request to GAIA archive\n",
    "# the items in the box command are (corrdinate system, RA in deg, Dec in deg, box width in RA and Dec in deg)\n",
    "query = \"SELECT * \\\n",
    "FROM gaiadr2.gaia_source AS g, gaiadr2.tmass_best_neighbour AS tbest, gaiadr1.tmass_original_valid AS tmass \\\n",
    "WHERE g.source_id = tbest.source_id AND tbest.tmass_oid = tmass.tmass_oid \\\n",
    "AND CONTAINS(POINT('ICRS',g.ra,g.dec),BOX('ICRS',myra,mydec,1.,1.))=1 ;\"\n",
    "query1 = query.replace('myra',myra)\n",
    "query2 = query1.replace('mydec',mydec)\n",
    "job1 = Gaia.launch_job_async(query2, dump_to_file=False)"
   ]
  },
  {
   "cell_type": "code",
   "execution_count": 6,
   "metadata": {},
   "outputs": [
    {
     "name": "stdout",
     "output_type": "stream",
     "text": [
      "['solution_id', 'designation', 'source_id', 'random_index', 'ref_epoch', 'ra', 'ra_error', 'dec', 'dec_error', 'parallax', 'parallax_error', 'parallax_over_error', 'pmra', 'pmra_error', 'pmdec', 'pmdec_error', 'ra_dec_corr', 'ra_parallax_corr', 'ra_pmra_corr', 'ra_pmdec_corr', 'dec_parallax_corr', 'dec_pmra_corr', 'dec_pmdec_corr', 'parallax_pmra_corr', 'parallax_pmdec_corr', 'pmra_pmdec_corr', 'astrometric_n_obs_al', 'astrometric_n_obs_ac', 'astrometric_n_good_obs_al', 'astrometric_n_bad_obs_al', 'astrometric_gof_al', 'astrometric_chi2_al', 'astrometric_excess_noise', 'astrometric_excess_noise_sig', 'astrometric_params_solved', 'astrometric_primary_flag', 'astrometric_weight_al', 'astrometric_pseudo_colour', 'astrometric_pseudo_colour_error', 'mean_varpi_factor_al', 'astrometric_matched_observations', 'visibility_periods_used', 'astrometric_sigma5d_max', 'frame_rotator_object_type', 'matched_observations', 'duplicated_source', 'phot_g_n_obs', 'phot_g_mean_flux', 'phot_g_mean_flux_error', 'phot_g_mean_flux_over_error', 'phot_g_mean_mag', 'phot_bp_n_obs', 'phot_bp_mean_flux', 'phot_bp_mean_flux_error', 'phot_bp_mean_flux_over_error', 'phot_bp_mean_mag', 'phot_rp_n_obs', 'phot_rp_mean_flux', 'phot_rp_mean_flux_error', 'phot_rp_mean_flux_over_error', 'phot_rp_mean_mag', 'phot_bp_rp_excess_factor', 'phot_proc_mode', 'bp_rp', 'bp_g', 'g_rp', 'radial_velocity', 'radial_velocity_error', 'rv_nb_transits', 'rv_template_teff', 'rv_template_logg', 'rv_template_fe_h', 'phot_variable_flag', 'l', 'b', 'ecl_lon', 'ecl_lat', 'priam_flags', 'teff_val', 'teff_percentile_lower', 'teff_percentile_upper', 'a_g_val', 'a_g_percentile_lower', 'a_g_percentile_upper', 'e_bp_min_rp_val', 'e_bp_min_rp_percentile_lower', 'e_bp_min_rp_percentile_upper', 'flame_flags', 'radius_val', 'radius_percentile_lower', 'radius_percentile_upper', 'lum_val', 'lum_percentile_lower', 'lum_percentile_upper', 'datalink_url', 'epoch_photometry_url', 'source_id_2', 'original_ext_source_id', 'angular_distance', 'gaia_astrometric_params', 'tmass_oid', 'number_of_neighbours', 'number_of_mates', 'best_neighbour_multiplicity', 'ph_qual', 'tmass_oid_2', 'designation_2', 'ra_2', 'dec_2', 'err_maj', 'err_min', 'err_ang', 'j_m', 'j_msigcom', 'h_m', 'h_msigcom', 'ks_m', 'ks_msigcom', 'ext_key', 'j_date']\n"
     ]
    }
   ],
   "source": [
    "# this retrieves the result from the query above and puts into a table with the name \"p\"\n",
    "# The next line prints out the labels for all of the columns in the table\n",
    "p = job1.get_results() \n",
    "print (p.colnames) "
   ]
  },
  {
   "cell_type": "code",
   "execution_count": 2,
   "metadata": {},
   "outputs": [
    {
     "name": "stderr",
     "output_type": "stream",
     "text": [
      "WARNING: W06: None:28:3: W06: Invalid UCD 'arith.ratio': Secondary word 'arith.ratio' is not valid as a primary word [astropy.io.votable.tree]\n",
      "WARNING: W50: None:53:3: W50: Invalid unit string ''electron'.s**-1' [astropy.io.votable.tree]\n",
      "WARNING: W50: None:58:3: W50: Invalid unit string ''electron'.s**-1' [astropy.io.votable.tree]\n",
      "WARNING: W50: None:68:3: W50: Invalid unit string ''electron'.s**-1' [astropy.io.votable.tree]\n",
      "WARNING: W50: None:73:3: W50: Invalid unit string ''electron'.s**-1' [astropy.io.votable.tree]\n",
      "WARNING: W50: None:83:3: W50: Invalid unit string ''electron'.s**-1' [astropy.io.votable.tree]\n",
      "WARNING: W50: None:88:3: W50: Invalid unit string ''electron'.s**-1' [astropy.io.votable.tree]\n"
     ]
    }
   ],
   "source": [
    "p = Table.read(\"GAIA_SDSS_GB.votable\")"
   ]
  },
  {
   "cell_type": "code",
   "execution_count": 5,
   "metadata": {
    "scrolled": true
   },
   "outputs": [
    {
     "data": {
      "text/plain": [
       "['source_id',\n",
       " 'ra',\n",
       " 'dec',\n",
       " 'parallax',\n",
       " 'parallax_over_error',\n",
       " 'a_g_val',\n",
       " 'a_g_percentile_lower',\n",
       " 'a_g_percentile_upper',\n",
       " 'phot_g_mean_mag',\n",
       " 'phot_g_mean_flux',\n",
       " 'phot_g_mean_flux_error',\n",
       " 'phot_bp_mean_mag',\n",
       " 'phot_bp_mean_flux',\n",
       " 'phot_bp_mean_flux_error',\n",
       " 'phot_rp_mean_mag',\n",
       " 'phot_rp_mean_flux',\n",
       " 'phot_rp_mean_flux_error',\n",
       " 'j_m',\n",
       " 'j_msigcom',\n",
       " 'h_m',\n",
       " 'h_msigcom',\n",
       " 'ks_m',\n",
       " 'ks_msigcom',\n",
       " 'SDSS_id',\n",
       " 'u_SDSS',\n",
       " 'u_SDSS_err',\n",
       " 'g_SDSS',\n",
       " 'g_SDSS_err',\n",
       " 'r_SDSS',\n",
       " 'r_SDSS_err',\n",
       " 'i_SDSS',\n",
       " 'i_SDSS_err',\n",
       " 'z_SDSS',\n",
       " 'z_SDSS_err',\n",
       " 'GB_id',\n",
       " 'GB_object',\n",
       " 'GB_alpha',\n",
       " 'GB_Av',\n",
       " 'GB_Av_err',\n",
       " 'I1_flux',\n",
       " 'I1_flux_err',\n",
       " 'I2_flux',\n",
       " 'I2_flux_err',\n",
       " 'I3_flux',\n",
       " 'I3_flux_err',\n",
       " 'I4_flux',\n",
       " 'I4_flux_err',\n",
       " 'M1_flux',\n",
       " 'M1_flux_err',\n",
       " 'All_data_flag']"
      ]
     },
     "execution_count": 5,
     "metadata": {},
     "output_type": "execute_result"
    }
   ],
   "source": [
    "p.colnames"
   ]
  },
  {
   "cell_type": "code",
   "execution_count": 7,
   "metadata": {},
   "outputs": [
    {
     "name": "stdout",
     "output_type": "stream",
     "text": [
      "Number of Sources:  31475\n"
     ]
    }
   ],
   "source": [
    "# This assigns some of the columns in the table to specific variable names for further use in the notebook\n",
    "# par = parallax, epar = error in parallax, pmra = proper motion in RA, pmdec = proper motion in Dec\n",
    "# A_G = GAIA estimated extinction in G-band, Gmag = GAIA G-band mag, Kmag = 2MASS K-band mag,\n",
    "# separ = seperation between GAIA and 2MASS source in arcsecs, Dist = distance in pc calculated from parallax\n",
    "# This assigns some of the columns in the table to specific variable names for further use in the notebook\n",
    "# par = parallax, epar = error in parallax, pmra = proper motion in RA, pmdec = proper motion in Dec\n",
    "# A_G = GAIA estimated extinction in G-band, Gmag = GAIA G-band mag, Kmag = 2MASS K-band mag,\n",
    "# separ = seperation between GAIA and 2MASS source in arcsecs, Dist = distance in pc calculated from parallax\n",
    "ra = p[\"ra\"]\n",
    "dec = p[\"dec\"]\n",
    "par = p[\"parallax\"]\n",
    "par_sn= p[\"parallax_over_error\"]\n",
    "epar  = par/par_sn\n",
    "#\n",
    "A_G = p[\"a_g_val\"]\n",
    "if False:\n",
    "    pmra = p[\"pmra\"]\n",
    "    pmdec = p[\"pmdec\"]\n",
    "    Gflux_bad = p[\"phot_g_mean_flux\"]\n",
    "    GBflux_bad = p[\"phot_bp_mean_flux\"]\n",
    "    GRflux_bad = p[\"phot_rp_mean_flux\"]\n",
    "    Gflux_error = p[\"phot_g_mean_flux_error\"]\n",
    "    GBflux_error = p[\"phot_bp_mean_flux_error\"]\n",
    "    GRflux_error = p[\"phot_rp_mean_flux_error\"]\n",
    "    Gsn = p[\"phot_g_mean_flux_over_error\"]\n",
    "    GBsn = p[\"phot_bp_mean_flux_over_error\"]\n",
    "    GRsn = p[\"phot_rp_mean_flux_over_error\"]\n",
    "    Gmag = p[\"phot_g_mean_mag\"]\n",
    "    GBmag = p[\"phot_bp_mean_mag\"]\n",
    "    GRmag = p[\"phot_rp_mean_mag\"]\n",
    "    Gflux = np.power(10,(Gmag/-2.5))*(2835.1e3)\n",
    "    GBflux = np.power(10,(GBmag/-2.5))*(3393.3e3)\n",
    "    GRflux = np.power(10,(GRmag/-2.5))*(2485.1e3)\n",
    "    Gmag_error = -2.5*(np.log(10))*((Gflux_error)/(Gflux_bad))\n",
    "    GBmag_error = -2.5*(np.log(10))*((GBflux_error)/(GBflux_bad))\n",
    "    GRmag_error = -2.5*(np.log(10))*((GRflux_error)/(GRflux_bad))\n",
    "    Kmag = p[\"ks_m\"]\n",
    "    separ = p[\"angular_distance\"]\n",
    "    Gaia2MASS = p[\"designation_2\"]\n",
    "Dist = 1000./par\n",
    "print(\"Number of Sources: \",len(ra))"
   ]
  },
  {
   "cell_type": "code",
   "execution_count": 11,
   "metadata": {},
   "outputs": [
    {
     "name": "stdout",
     "output_type": "stream",
     "text": [
      "Sources with Parallaxes with S/N > 5:  1288\n",
      "        and with A_G measurements:  413\n",
      "Sources with A_G measurements:  876\n"
     ]
    },
    {
     "data": {
      "image/png": "[encoded data removed]",
      "text/plain": [
       "<Figure size 432x288 with 1 Axes>"
      ]
     },
     "metadata": {},
     "output_type": "display_data"
    },
    {
     "name": "stderr",
     "output_type": "stream",
     "text": [
      "/n/algol2/mpound/anaconda3/lib/python3.6/site-packages/numpy/lib/function_base.py:780: RuntimeWarning: invalid value encountered in greater_equal\n",
      "  keep = (tmp_a >= first_edge)\n",
      "/n/algol2/mpound/anaconda3/lib/python3.6/site-packages/numpy/lib/function_base.py:781: RuntimeWarning: invalid value encountered in less_equal\n",
      "  keep &= (tmp_a <= last_edge)\n"
     ]
    },
    {
     "data": {
      "image/png": "[encoded data removed]",
      "text/plain": [
       "<Figure size 432x288 with 1 Axes>"
      ]
     },
     "metadata": {},
     "output_type": "display_data"
    },
    {
     "data": {
      "image/png": "[encoded data removed]",
      "text/plain": [
       "<Figure size 432x288 with 1 Axes>"
      ]
     },
     "metadata": {},
     "output_type": "display_data"
    },
    {
     "data": {
      "image/png": "[encoded data removed]",
      "text/plain": [
       "<Figure size 432x288 with 1 Axes>"
      ]
     },
     "metadata": {},
     "output_type": "display_data"
    }
   ],
   "source": [
    "# find out the number of GAIA sources with parallaxes\n",
    "# and the number of GAIA source with both parallax and A_G measurements in the catalog\n",
    "# Then find the number of source in the GAIA catalog with A_G measurements (regardless of parallax)\n",
    "# Then make some plots\n",
    "npars = 0\n",
    "navs = 0\n",
    "for i in range(0,len(ra)):\n",
    "    if(par_sn[i] > 5.0):\n",
    "        npars = npars + 1\n",
    "        if(A_G[i] > -0.1):\n",
    "            navs = navs + 1\n",
    "print(\"Sources with Parallaxes with S/N > 5: \", npars)\n",
    "print(\"        and with A_G measurements: \",navs)\n",
    "navs = 0\n",
    "for i in range(0,len(ra)):\n",
    "    if(A_G[i] > -0.1):\n",
    "        navs = navs + 1\n",
    "print(\"Sources with A_G measurements: \", navs)\n",
    "plt.xlabel(\"RA in deg\")\n",
    "plt.ylabel(\"Dec in deg\")\n",
    "plt.axis(\"equal\")\n",
    "plt.gca().tick_params(axis=\"both\",direction=\"in\",bottom=True,top=True,left=True,right=True)\n",
    "plt.title(\"GAIA source positions\")\n",
    "plt.scatter(ra,dec,s=2)\n",
    "plt.show()\n",
    "\n",
    "plt.xlabel(\"Extinction in GAIA G-band\")\n",
    "plt.ylabel(\"Number of sources\")\n",
    "plt.title(\"Histogram of $A_G$ values\")\n",
    "plt.hist(A_G,bins=20,range=(0,3))\n",
    "plt.gca().tick_params(axis=\"both\",direction=\"in\",bottom=True,top=True,left=True,right=True)\n",
    "\n",
    "plt.savefig(\"SerpensNE_hist_A_G.png\",dpi=300)\n",
    "plt.show()\n",
    "\n",
    "plt.title(\"$A_G$ as a function of distance\")\n",
    "plt.xlabel(\"Distance in pc\")\n",
    "plt.ylabel(\"Extinction in GAIA G-band (mag)\")\n",
    "plt.xlim(0,1600.)\n",
    "plt.scatter(Dist,A_G,s=3)\n",
    "plt.gca().tick_params(axis=\"both\",direction=\"in\",bottom=True,top=True,left=True,right=True)\n",
    "plt.savefig(\"SerpensNE_Dist_A_G.png\",dpi=300)\n",
    "plt.show()\n",
    "\n",
    "plt.hist(Dist,bins=25,range=(0.,800.))\n",
    "plt.xlabel(\"Distance (pc)\")\n",
    "plt.ylabel(\"Number of sources\")\n",
    "plt.gca().tick_params(axis=\"both\",direction=\"in\",bottom=True,top=True,left=True,right=True)\n",
    "plt.savefig(\"SerpensNE_hist_Dist.png\",dpi=300)\n",
    "plt.show()\n"
   ]
  },
  {
   "cell_type": "code",
   "execution_count": 95,
   "metadata": {},
   "outputs": [
    {
     "name": "stdout",
     "output_type": "stream",
     "text": [
      "['GBS_ID', 'ra', 'D_ra', 'dec', 'D_dec', 'Q_pos', 'Q_merge', 'id2mass', 'Prob_Galc', 'alpha', 'D_alpha', 'alpha_chi2', 'alpha_nfit', 'object_type', 'Av', 'D_Av', 'mag_IR1', 'D_mag_IR1', 'Av_chi2', 'Av_nfit', 'J_flux_c', 'J_D_flux_c', 'J_date_c', 'J_Q_det_c', 'H_flux_c', 'H_D_flux_c', 'H_date_c', 'H_Q_det_c', 'Ks_flux_c', 'Ks_D_flux_c', 'Ks_date_c', 'Ks_Q_det_c', 'IR1_flux_1', 'IR1_D_flux_1', 'IR1_date_1', 'IR1_Q_det_1', 'IR1_flux_2', 'IR1_D_flux_2', 'IR1_date_2', 'IR1_Q_det_2', 'IR1_flux_c', 'IR1_D_flux_c', 'IR1_date_c', 'IR1_Q_det_c', 'IR1_Q_flux_m', 'IR1_imtype', 'IR1_src_area', 'IR1_amajor', 'IR1_aminor', 'IR1_tilt', 'IR2_flux_1', 'IR2_D_flux_1', 'IR2_date_1', 'IR2_Q_det_1', 'IR2_flux_2', 'IR2_D_flux_2', 'IR2_date_2', 'IR2_Q_det_2', 'IR2_flux_c', 'IR2_D_flux_c', 'IR2_date_c', 'IR2_Q_det_c', 'IR2_Q_flux_m', 'IR2_imtype', 'IR2_src_area', 'IR2_amajor', 'IR2_aminor', 'IR2_tilt', 'IR3_flux_1', 'IR3_D_flux_1', 'IR3_date_1', 'IR3_Q_det_1', 'IR3_flux_2', 'IR3_D_flux_2', 'IR3_date_2', 'IR3_Q_det_2', 'IR3_flux_c', 'IR3_D_flux_c', 'IR3_date_c', 'IR3_Q_det_c', 'IR3_Q_flux_m', 'IR3_imtype', 'IR3_src_area', 'IR3_amajor', 'IR3_aminor', 'IR3_tilt', 'IR4_flux_1', 'IR4_D_flux_1', 'IR4_date_1', 'IR4_Q_det_1', 'IR4_flux_2', 'IR4_D_flux_2', 'IR4_date_2', 'IR4_Q_det_2', 'IR4_flux_c', 'IR4_D_flux_c', 'IR4_date_c', 'IR4_Q_det_c', 'IR4_Q_flux_m', 'IR4_imtype', 'IR4_src_area', 'IR4_amajor', 'IR4_aminor', 'IR4_tilt', 'MP1_flux_1', 'MP1_D_flux_1', 'MP1_date_1', 'MP1_Q_det_1', 'MP1_flux_2', 'MP1_D_flux_2', 'MP1_date_2', 'MP1_Q_det_2', 'MP1_flux_c', 'MP1_D_flux_c', 'MP1_date_c', 'MP1_Q_det_c', 'MP1_Q_flux_m', 'MP1_imtype', 'MP1_src_area', 'MP1_amajor', 'MP1_aminor', 'MP1_tilt', 'MP2_flux_1', 'MP2_D_flux_1', 'MP2_date_1', 'MP2_Q_det_1', 'MP2_flux_2', 'MP2_D_flux_2', 'MP2_date_2', 'MP2_Q_det_2', 'MP2_flux_c', 'MP2_D_flux_c', 'MP2_date_c', 'MP2_Q_det_c', 'MP2_Q_flux_m', 'MP2_imtype', 'MP2_src_area', 'MP2_amajor', 'MP2_aminor', 'MP2_tilt']\n",
      "Number of YSOs:  176\n"
     ]
    },
    {
     "name": "stderr",
     "output_type": "stream",
     "text": [
      "/astromake/opt/python/anaconda3/lib/python3.6/site-packages/ipykernel_launcher.py:25: RuntimeWarning: invalid value encountered in log10\n",
      "/astromake/opt/python/anaconda3/lib/python3.6/site-packages/ipykernel_launcher.py:26: RuntimeWarning: invalid value encountered in log10\n",
      "/astromake/opt/python/anaconda3/lib/python3.6/site-packages/ipykernel_launcher.py:27: RuntimeWarning: invalid value encountered in log10\n",
      "/astromake/opt/python/anaconda3/lib/python3.6/site-packages/ipykernel_launcher.py:33: RuntimeWarning: divide by zero encountered in log10\n",
      "/astromake/opt/python/anaconda3/lib/python3.6/site-packages/ipykernel_launcher.py:33: RuntimeWarning: invalid value encountered in log10\n"
     ]
    }
   ],
   "source": [
    "# read in the YSO catalog from GB for core\n",
    "# print out some things about each YSO and create a regions file for ds9 which puts a circle around each YSO\n",
    "TabGB = Table.read(YSOcat, format=\"ascii.ipac\")\n",
    "print(Tabc2d.colnames)\n",
    "GBra = TabGB[\"ra\"]\n",
    "GBdec = TabGB[\"dec\"]\n",
    "GBid = TabGB[\"GBS_ID\"]\n",
    "GB2mass = TabGB[\"id2mass\"]\n",
    "GBalph = TabGB[\"alpha\"]\n",
    "GBobj = TabGB[\"object_type\"]\n",
    "GBJflux = TabGB[\"J_flux_c\"]\n",
    "GBHflux = TabGB[\"H_flux_c\"]\n",
    "GBKflux = TabGB[\"Ks_flux_c\"]\n",
    "GBI1flux = TabGB[\"IR1_flux_c\"]\n",
    "GBI2flux = TabGB[\"IR2_flux_c\"]\n",
    "GBI3flux = TabGB[\"IR3_flux_c\"]\n",
    "GBI4flux = TabGB[\"IR4_flux_c\"]\n",
    "GBM1flux = TabGB[\"MP1_flux_c\"]\n",
    "GBM2flux = TabGB[\"MP2_flux_c\"]\n",
    "GBI1err = TabGB[\"IR1_D_flux_c\"]\n",
    "GBI2err = TabGB[\"IR2_D_flux_c\"]\n",
    "GBI3err = TabGB[\"IR3_D_flux_c\"]\n",
    "GBI4err = TabGB[\"IR4_D_flux_c\"]\n",
    "GBI1err = TabGB[\"MP1_D_flux_c\"]\n",
    "GBJmag = -2.5*np.log10(TabGB[\"J_flux_c\"]/1594.0e3)\n",
    "GBHmag = -2.5*np.log10(TabGB[\"H_flux_c\"]/1024.0e3)\n",
    "GBKmag = -2.5*np.log10(TabGB[\"Ks_flux_c\"]/666.7e3)\n",
    "GBI1mag = -2.5*np.log10(TabGB[\"IR1_flux_c\"]/280.9e3)\n",
    "GBI2mag = -2.5*np.log10(TabGB[\"IR2_flux_c\"]/179.7e3)\n",
    "GBI3mag = -2.5*np.log10(TabGB[\"IR3_flux_c\"]/115.0e3)\n",
    "GBI4mag = -2.5*np.log10(TabGB[\"IR4_flux_c\"]/64.13e3)\n",
    "GBMP1mag = -2.5*np.log10(TabGB[\"MP1_flux_c\"]/7.14e3)\n",
    "GBMP2mag = -2.5*np.log10(TabGB[\"MP2_flux_c\"]/0.775e3)\n",
    "print(\"Number of YSOs: \", len(GBra))"
   ]
  },
  {
   "cell_type": "code",
   "execution_count": 16,
   "metadata": {},
   "outputs": [
    {
     "name": "stdout",
     "output_type": "stream",
     "text": [
      "GAIA Index numbers of GAIA-GB YSO matches:  [27942 21973 22119 28709 22255 20516 20916 12522 21954 11747 10723 10915\n",
      " 23395 13514 14816 21832 20575 13766 13262 13569 17110 11926 14738 14978\n",
      " 20215 16070 20033 13761 22443 22555 23339 12252 18634 20598 14976   331\n",
      " 19545 16885   507 19094 11810 21006 13786 14286 26797 12415 26055    -2\n",
      "    -2    -2    -2 13066    -2 23037  9047 21208 20357  2873  3200  3026\n",
      " 15927 22991 13344 17218    -2 16904    -2 18770 20827 11951 17891   362\n",
      "    -2 23428 30714    -2    -2  5520  5412  2796 30787 14627 15417 15773\n",
      "  6068  8463 11316 22388  5684 30059 31247    -2  6406 24922    -2 30816\n",
      " 16751 22166 30117 30759  9377 18485 30801 13616    -2    -2 31381 15831\n",
      "    -2 12696   540 26080 27514 30662    -2 17938 26541 27626 28018    -2\n",
      " 18415   187 27591 16047 11008 15117  4415    -2  9692 29515   637 16993\n",
      " 15267  1101 24947    -2  3861 23800  9714 26563 23600    -2 29223 23690\n",
      "  3671 29216    -2    -2  9649    -2  1077 24106  7713 26978 27924 27731\n",
      "  8441  9773    -2 25433 26937 23650 29267 25057 10218    -2 26986    -2\n",
      " 24213 10246 10303 27097 26571 10226    -2    -2]\n",
      "SSTGBS J183601.8+001505 YSOc_star+dust(MP1)  Parallax:  -0.752310354164  S/N:  -2.73460496241  Distance:  -1329.2386506  Separation: 0.00706195475201\n",
      "SSTGBS J183602.2+000-216 YSOc_star+dust(MP1)  Parallax:  -0.0663999098932  S/N:  -0.0837962801542  Distance:  -15060.2614011  Separation: 0.0964645025465\n",
      "SSTGBS J183602.6+000-221 YSOc_star+dust(MP1)  Parallax:  -0.737299118168  S/N:  -0.91118672528  Distance:  -1356.30163574  Separation: 0.163366840431\n",
      "SSTGBS J183605.7+001452 YSOc_star+dust(MP1)  Parallax:  2.3403598005  S/N:  54.3308226667  Distance:  427.284727667  Separation: 0.0351903120712\n",
      "SSTGBS J183608.5+000205 YSOc_star+dust(MP1)  Parallax:  2.44975838021  S/N:  10.4707223294  Distance:  408.20352247  Separation: 0.10879074354\n",
      "SSTGBS J183610.4+000127 YSOc_star+dust(MP1)  Parallax:  1.52057895406  S/N:  2.70557904682  Distance:  657.644246179  Separation: 0.101056690796\n",
      "SSTGBS J183610.9+000926 YSOc_star+dust(MP1)  Parallax:  0.515149878928  S/N:  2.52822456846  Distance:  1941.18263617  Separation: 0.0227088469333\n",
      "SSTGBS J183612.1+000-1504 YSOc_star+dust(IR4)  Parallax:  -0.13227545698  S/N:  -0.384511502266  Distance:  -7559.98144199  Separation: 0.0361882104429\n",
      "SSTGBS J183619.4+000-250 YSOc_star+dust(MP1)  Parallax:  0.530750787435  S/N:  1.9025047892  Distance:  1884.12344112  Separation: 0.264561929609\n",
      "SSTGBS J183620.2+000-1915 YSOc_star+dust(MP1)  Parallax:  0.0271955617873  S/N:  0.113079204326  Distance:  36770.7057432  Separation: 0.146175888832\n",
      "SSTGBS J183622.1+000-1345 YSOc_star+dust(IR1)  Parallax:  2.12988168176  S/N:  46.9714390725  Distance:  469.509648619  Separation: 0.0213034930109\n",
      "SSTGBS J183623.7+000-1448 YSOc_star+dust(IR1)  Parallax:  0.446059606911  S/N:  0.382356203887  Distance:  2241.85284771  Separation: 0.111082317156\n",
      "SSTGBS J183635.9+000542 YSOc_star+dust(MP1)  Parallax:  -0.161734326705  S/N:  -0.642463154454  Distance:  -6182.97933636  Separation: 0.0877860115993\n",
      "SSTGBS J183639.8+000-601 YSOc  Parallax:  0.843108654076  S/N:  3.44678194898  Distance:  1186.08674596  Separation: 0.295817350152\n",
      "SSTGBS J183641.1+00000-49 YSOc_star+dust(MP1)  Parallax:  0.204244191819  S/N:  1.02842940587  Distance:  4896.10006088  Separation: 0.0661753533259\n",
      "SSTGBS J183641.1+001915 YSOc_star+dust(IR1)  Parallax:  0.417452044136  S/N:  1.2534221365  Distance:  2395.48473662  Separation: 0.0844986958039\n",
      "SSTGBS J183642.3+000915 YSOc_star+dust(IR1)  Parallax:  2.48812905304  S/N:  1.39379790171  Distance:  401.908413384  Separation: 0.293671383895\n",
      "SSTGBS J183645.3+000-1656 YSOc_star+dust(MP1)  Parallax:  0.561725450468  S/N:  2.49872761398  Distance:  1780.22911222  Separation: 0.182212726124\n",
      "SSTGBS J183647.2+000-1339 YSOc_star+dust(MP1)  Parallax:  0.0684231884855  S/N:  0.258728381836  Distance:  14614.928391  Separation: 0.0443781516325\n",
      "SSTGBS J183649.8+000-844 YSOc_star+dust(MP1)  Parallax:  0.231719805819  S/N:  1.01096076196  Distance:  4315.55687035  Separation: 0.0573084418067\n",
      "SSTGBS J183650.1+000-836 YSOc_star+dust(MP1)  Parallax:  0.223755860558  S/N:  0.604979424597  Distance:  4469.1566849  Separation: 0.0238135003344\n",
      "SSTGBS J183652.6+000-210 YSOc_star+dust(IR4)  Parallax:  0.387599674475  S/N:  1.27493843274  Distance:  2579.98152696  Separation: 0.0257490187854\n",
      "SSTGBS J183653.5+000-149 YSOc_star+dust(MP1)  Parallax:  0.274003687654  S/N:  1.09794282082  Distance:  3649.58591821  Separation: 0.0901549392236\n",
      "SSTGBS J183654.1+000-153 YSOc_star+dust(IR1)  Parallax:  --  S/N:  --  Distance:  --  Separation: 0.0557516187085\n",
      "SSTGBS J183656.1+002149 YSOc_star+dust(MP1)  Parallax:  0.677750306434  S/N:  3.15592686598  Distance:  1475.46963905  Separation: 0.0208702175363\n",
      "SSTGBS J183658.3+000-1711 YSOc_star+dust(MP1)  Parallax:  0.749779473114  S/N:  2.21520167929  Distance:  1333.72549644  Separation: 0.0497290272651\n",
      "SSTGBS J183700.7+001227 YSOc_star+dust(MP1)  Parallax:  0.0819456553511  S/N:  0.384226806743  Distance:  12203.2095016  Separation: 0.0724527595736\n",
      "SSTGBS J183704.7+000-1132 YSOc_star+dust(MP1)  Parallax:  -0.0398513828118  S/N:  -0.150847828196  Distance:  -25093.2321401  Separation: 0.103572793626\n",
      "SSTGBS J183706.1+001150 YSOc_star+dust(IR1)  Parallax:  -3.14875256416  S/N:  -5.28377105983  Distance:  -317.586085163  Separation: 0.136987943637\n",
      "SSTGBS J183706.3+000821 YSOc_star+dust(MP1)  Parallax:  -0.143925215149  S/N:  -0.133534625457  Distance:  -6948.05284095  Separation: 0.122600854207\n",
      "SSTGBS J183706.8+001148 YSOc_star+dust(IR4)  Parallax:  1.9973170101  S/N:  8.75661000555  Distance:  500.671648489  Separation: 0.056773550793\n",
      "SSTGBS J183708.3+000-2328 YSOc_star+dust(MP1)  Parallax:  0.298018573748  S/N:  1.25557837196  Distance:  3355.49555661  Separation: 0.0179983551325\n",
      "SSTGBS J183710.6+000-603 YSOc_star+dust(IR2)  Parallax:  1.61494589458  S/N:  5.34229586288  Distance:  619.21579129  Separation: 0.0692068620515\n",
      "SSTGBS J183713.7+001256 YSOc_star+dust(MP1)  Parallax:  0.882702204358  S/N:  3.0011991876  Distance:  1132.88490168  Separation: 0.0874501152029\n",
      "SSTGBS J183714.5+000-2326 YSOc_star+dust(MP1)  Parallax:  -0.316853404339  S/N:  -1.44075959067  Distance:  -3156.0336304  Separation: 0.165306031339\n",
      "SSTGBS J183715.8+000-2656 YSOc_star+dust(MP1)  Parallax:  1.9898363226  S/N:  40.8754021814  Distance:  502.553897846  Separation: 0.159529837038\n",
      "SSTGBS J183720.4+000-1006 YSOc_star+dust(MP1)  Parallax:  0.748458427052  S/N:  2.33728742819  Distance:  1336.07955213  Separation: 0.14410675185\n",
      "SSTGBS J183721.3+000-317 YSOc_star+dust(MP1)  Parallax:  0.213985069562  S/N:  1.0854264935  Distance:  4673.22323958  Separation: 0.191817695291\n",
      "SSTGBS J183722.7+000-2549 YSOc_star+dust(MP1)  Parallax:  -0.0633113874839  S/N:  -0.376416484481  Distance:  -15794.9468451  Separation: 0.213488264255\n",
      "SSTGBS J183722.7+000312 YSOc_star+dust(MP1)  Parallax:  0.690479467719  S/N:  8.26166444296  Distance:  1448.26898807  Separation: 0.21584097637\n",
      "SSTGBS J183722.9+000117 YSOc_star+dust(MP1)  Parallax:  -0.307579598481  S/N:  -0.633206298855  Distance:  -3251.19092728  Separation: 0.163815875869\n",
      "SSTGBS J183722.9+000828 YSOc_star+dust(MP1)  Parallax:  0.214654767494  S/N:  0.257831496135  Distance:  4658.64332608  Separation: 0.173291765619\n",
      "SSTGBS J183724.0+000-1547 YSOc_star+dust(MP1)  Parallax:  0.432776921188  S/N:  1.83896575719  Distance:  2310.65925894  Separation: 0.142744241276\n",
      "SSTGBS J183725.0+000-1210 YSOc_star+dust(MP1)  Parallax:  -0.181675799212  S/N:  -0.439715190088  Distance:  -5504.31044938  Separation: 0.0787530719329\n",
      "SSTGBS J183727.8+002317 YSOc  Parallax:  0.501231995351  S/N:  1.94071553919  Distance:  1995.08413125  Separation: 0.343207557872\n",
      "SSTGBS J183728.3+000-552 YSOc_star+dust(IR2)  Parallax:  1.39889864288  S/N:  2.67379919578  Distance:  714.848073584  Separation: 0.222862328287\n",
      "SSTGBS J183728.4+002347 YSOc_star+dust(MP1)  Parallax:  2.097544115  S/N:  6.40327234952  Distance:  476.748018241  Separation: 0.0572879474873\n",
      "SSTGBS J183731.8+000-2214 YSOc_star+dust(MP1)  Parallax:  0.105312139844  S/N:  0.322397278443  Distance:  9495.58143513  Separation: 0.180400050956\n",
      "SSTGBS J183735.8+001905 YSOc_star+dust(IR1)  Parallax:  2.06452710511  S/N:  44.7174200937  Distance:  484.372424816  Separation: 0.0320249525638\n",
      "SSTGBS J183738.6+000-2546 YSOc_star+dust(MP1)  Parallax:  0.0579910711672  S/N:  0.247255801158  Distance:  17244.0339499  Separation: 0.300151491919\n",
      "SSTGBS J183738.8+001511 YSOc_star+dust(MP1)  Parallax:  0.458322977019  S/N:  1.04870276607  Distance:  2181.86748241  Separation: 0.0577593333695\n",
      "SSTGBS J183739.0+001523 YSOc_star+dust(IR4)  Parallax:  -0.158901388064  S/N:  -0.514915525116  Distance:  -6293.21123108  Separation: 0.0371532924595\n",
      "SSTGBS J183739.1+000-2540 YSOc_star+dust(MP1)  Parallax:  0.109576033234  S/N:  0.79192510509  Distance:  9126.08323637  Separation: 0.310321917946\n",
      "SSTGBS J183739.2+000-2528 YSOc_star+dust(MP1)  Parallax:  -0.0964044044929  S/N:  -0.232296051429  Distance:  -10372.9700449  Separation: 0.198066793139\n",
      "SSTGBS J183739.2+000-2535 YSOc_star+dust(IR1)  Parallax:  1.05890207362  S/N:  2.61947716278  Distance:  944.374390151  Separation: 0.309824991037\n",
      "SSTGBS J183739.3+000-1753 YSOc_star+dust(MP1)  Parallax:  -0.025951940255  S/N:  -0.126608796775  Distance:  -38532.7644166  Separation: 0.220662764649\n",
      "SSTGBS J183742.1+001652 YSOc_star+dust(IR4)  Parallax:  0.249362535583  S/N:  0.642595754437  Distance:  4010.22550425  Separation: 0.0292872225561\n",
      "SSTGBS J183742.8+000-307 YSOc  Parallax:  0.0720686125076  S/N:  0.400880014626  Distance:  13875.6660522  Separation: 0.263867451036\n",
      "SSTGBS J183746.0+000-1551 YSOc_star+dust(IR1)  Parallax:  2.07505396736  S/N:  11.6612662843  Distance:  481.915177018  Separation: 0.245717201951\n",
      "SSTGBS J183747.1+000-1637 YSOc_star+dust(MP1)  Parallax:  2.12352273253  S/N:  21.3522335276  Distance:  470.915608616  Separation: 0.224134095761\n",
      "SSTGBS J183748.0+000-449 YSOc_star+dust(IR2)  Parallax:  --  S/N:  --  Distance:  --  Separation: 0.151361256046\n",
      "SSTGBS J183749.5+001159 YSOc_star+dust(MP1)  Parallax:  0.35764766238  S/N:  0.867892797741  Distance:  2796.04791303  Separation: 0.0980634570693\n",
      "SSTGBS J183749.6+000-1848 YSOc_star+dust(MP1)  Parallax:  2.40609283763  S/N:  25.0066607586  Distance:  415.611560934  Separation: 0.146794389716\n",
      "SSTGBS J183750.7+000-1833 YSOc_star+dust(MP1)  Parallax:  0.164328748203  S/N:  0.744806319813  Distance:  6085.36248789  Separation: 0.168134755652\n",
      "SSTGBS J183752.4+000-2250 YSOc_star+dust(MP1)  Parallax:  -1.21257586097  S/N:  -1.33555826696  Distance:  -824.690670653  Separation: 0.332945785786\n",
      "SSTGBS J183753.3+001849 YSOc_star+dust(IR1)  Parallax:  --  S/N:  --  Distance:  --  Separation: 0.15736679875\n",
      "SSTGBS J183755.1+002733 YSOc_star+dust(MP1)  Parallax:  -0.774270879894  S/N:  -2.12878468836  Distance:  -1291.53765945  Separation: 0.119508548016\n",
      "SSTGBS J183756.6+000-2309 YSOc_star+dust(MP1)  Parallax:  1.65729450551  S/N:  10.6666303518  Distance:  603.393058189  Separation: 0.247690490623\n",
      "SSTGBS J183756.6+000-2325 YSOc_star+dust(MP1)  Parallax:  0.550269538514  S/N:  4.80535075985  Distance:  1817.29121823  Separation: 0.201503878264\n",
      "SSTGBS J183758.4+000-2518 YSOc_star+dust(MP1)  Parallax:  0.108356632034  S/N:  0.632432434925  Distance:  9228.78444287  Separation: 0.273809639374\n",
      "SSTGBS J183758.5+002354 YSOc_star+dust(MP1)  Parallax:  -0.766276296067  S/N:  -2.14280083237  Distance:  -1305.01231101  Separation: 0.0576846294276\n",
      "SSTGBS J183760.0+000-237 YSOc_star+dust(IR1)  Parallax:  2.43893589576  S/N:  2.68328652107  Distance:  410.014876462  Separation: 0.11691945969\n",
      "SSTGBS J183801.0+000-220 YSOc_star+dust(MP1)  Parallax:  --  S/N:  --  Distance:  --  Separation: 0.206420677249\n",
      "SSTGBS J183801.4+000-1348 YSOc_star+dust(MP1)  Parallax:  -1.1428522402  S/N:  -3.00905527163  Distance:  -875.00375361  Separation: 0.243633104525\n",
      "SSTGBS J183804.4+000-2028 YSOc_star+dust(IR4)  Parallax:  1.80242279808  S/N:  6.97073690091  Distance:  554.808783526  Separation: 0.0949226362423\n",
      "SSTGBS J183805.5+000-2610 YSOc_star+dust(MP1)  Parallax:  0.505025311047  S/N:  3.11047102958  Distance:  1980.0987755  Separation: 0.0701901494729\n",
      "SSTGBS J183806.0+000-1434 YSOc_star+dust(MP1)  Parallax:  -0.881372599645  S/N:  -2.32139608342  Distance:  -1134.59392816  Separation: 0.0393936242422\n",
      "SSTGBS J183807.4+001114 YSOc_star+dust(IR2)  Parallax:  --  S/N:  --  Distance:  --  Separation: 0.235435289762\n",
      "SSTGBS J183808.6+000-2023 YSOc_star+dust(MP1)  Parallax:  -1.03581956072  S/N:  -3.26620994783  Distance:  -965.419111511  Separation: 0.122687822936\n",
      "SSTGBS J183808.6+002653 YSOc_star+dust(IR1)  Parallax:  1.9609127628  S/N:  7.55282594177  Distance:  509.966592584  Separation: 0.133075978141\n",
      "SSTGBS J183808.7+002059 YSOc_star+dust(MP1)  Parallax:  -0.440182874877  S/N:  -0.983755017559  Distance:  -2271.78306353  Separation: 0.0208865199243\n",
      "SSTGBS J183810.1+000-2345 YSOc_star+dust(MP1)  Parallax:  2.30539752012  S/N:  8.89499494897  Distance:  433.764672372  Separation: 0.0960967885204\n",
      "SSTGBS J183810.7+001929 YSOc_star+dust(MP1)  Parallax:  0.733487077298  S/N:  1.55748917267  Distance:  1363.35053602  Separation: 0.129791182058\n",
      "SSTGBS J183811.9+002914 YSOc_star+dust(MP1)  Parallax:  -1.03017626094  S/N:  -2.9228055338  Distance:  -970.707671997  Separation: 0.106884021825\n",
      "SSTGBS J183813.0+000-958 YSOc_star+dust(MP1)  Parallax:  -3.46294559193  S/N:  -2.65064513517  Distance:  -288.771502021  Separation: 0.100855021841\n",
      "SSTGBS J183813.6+000918 YSOc_star+dust(MP1)  Parallax:  0.0231092585851  S/N:  0.0873370864681  Distance:  43272.6993952  Separation: 0.148551099597\n",
      "SSTGBS J183815.8+002422 YSOc_star+dust(MP1)  Parallax:  -0.219291060542  S/N:  -0.502032505073  Distance:  -4560.14940842  Separation: 0.0695525563835\n",
      "SSTGBS J183815.8+002625 YSOc_star+dust(MP1)  Parallax:  -0.617641174855  S/N:  -1.04666338509  Distance:  -1619.06304293  Separation: 0.107467300422\n",
      "SSTGBS J183817.1+000-2154 YSOc_star+dust(IR1)  Parallax:  2.19895579593  S/N:  6.38908998339  Distance:  454.761301638  Separation: 0.107192524105\n",
      "SSTGBS J183817.9+000-646 YSOc_star+dust(IR1)  Parallax:  -2.12428742642  S/N:  -1.14826173411  Distance:  -470.74608999  Separation: 0.157339472321\n",
      "SSTGBS J183820.9+002917 YSOc_star+dust(IR2)  Parallax:  2.61915550124  S/N:  7.26782179958  Distance:  381.802454847  Separation: 0.162360863437\n",
      "SSTGBS J183821.0+000-626 YSOc  Parallax:  2.54434249171  S/N:  4.53055491567  Distance:  393.028848616  Separation: 0.470950267822\n",
      "SSTGBS J183822.7+002309 YSOc_star+dust(IR4)  Parallax:  1.84312395816  S/N:  6.87501454385  Distance:  542.557105599  Separation: 0.134081747273\n",
      "SSTGBS J183824.2+000-1041 YSOc_star+dust(MP1)  Parallax:  1.94338557401  S/N:  6.25742366051  Distance:  514.565927303  Separation: 0.0949703131436\n",
      "SSTGBS J183826.3+000-151 YSOc_star+dust(MP1)  Parallax:  -0.952214090173  S/N:  -0.926933245592  Distance:  -1050.18399782  Separation: 0.265673011251\n",
      "SSTGBS J183827.3+000-2845 YSOc_star+dust(IR4)  Parallax:  0.381016594379  S/N:  1.41306522388  Distance:  2624.55760393  Separation: 0.145955612524\n",
      "SSTGBS J183827.5+001510 YSOc_star+dust(MP1)  Parallax:  -0.475738976582  S/N:  -0.889510937127  Distance:  -2101.99300294  Separation: 0.126758064636\n",
      "SSTGBS J183828.8+001421 YSOc_star+dust(IR4)  Parallax:  -0.86679385385  S/N:  -2.74437289182  Distance:  -1153.67684664  Separation: 0.0705504508952\n",
      "SSTGBS J183829.3+002504 YSOc_star+dust(MP1)  Parallax:  -1.50606692258  S/N:  -2.27214797081  Distance:  -663.981118637  Separation: 0.115933824843\n",
      "SSTGBS J183833.6+000-707 YSOc_star+dust(IR4)  Parallax:  1.74460409538  S/N:  5.01346624973  Distance:  573.195948954  Separation: 0.13132085122\n",
      "SSTGBS J183834.5+001851 YSOc_star+dust(IR2)  Parallax:  1.11023897639  S/N:  1.88896598878  Distance:  900.706984049  Separation: 0.0458360679306\n",
      "SSTGBS J183834.8+001353 YSOc_star+dust(MP1)  Parallax:  -1.51652689444  S/N:  -3.06796632901  Distance:  -659.401428135  Separation: 0.0190865185158\n",
      "SSTGBS J183837.5+001930 YSOc_star+dust(IR4)  Parallax:  1.98195616573  S/N:  13.4831567609  Distance:  504.552026574  Separation: 0.0453000477149\n",
      "SSTGBS J183838.3+000657 YSOc_star+dust(MP1)  Parallax:  0.363288710133  S/N:  0.619844222752  Distance:  2752.6316456  Separation: 0.0258060041062\n",
      "SSTGBS J183842.0+000-2823 YSOc_star+dust(MP1)  Parallax:  -0.168826302103  S/N:  -0.609298507536  Distance:  -5923.24766665  Separation: 0.0791552623653\n",
      "SSTGBS J183842.5+001744 YSOc_star+dust(MP1)  Parallax:  -0.859181694048  S/N:  -2.05204097221  Distance:  -1163.89816837  Separation: 0.175071386911\n",
      "SSTGBS J183842.6+000132 YSOc_star+dust(IR4)  Parallax:  0.281666880458  S/N:  0.359215208773  Distance:  3550.29316324  Separation: 0.211256111793\n",
      "SSTGBS J183843.6+000-239 YSOc_star+dust(MP1)  Parallax:  0.348157066621  S/N:  1.28881585022  Distance:  2872.26684699  Separation: 0.196473662707\n",
      "SSTGBS J183843.6+000129 YSOc_star+dust(IR3)  Parallax:  --  S/N:  --  Distance:  --  Separation: 0.28525186164\n",
      "SSTGBS J183844.6+000-2602 YSOc_star+dust(IR2)  Parallax:  1.7571278917  S/N:  9.5079842776  Distance:  569.110538126  Separation: 0.117038974396\n",
      "SSTGBS J183848.8+000-730 YSOc_star+dust(MP1)  Parallax:  0.107222715605  S/N:  0.296201992457  Distance:  9326.38195512  Separation: 0.0459282391042\n",
      "SSTGBS J183850.1+000813 YSOc_star+dust(MP1)  Parallax:  -0.497948383339  S/N:  -1.5808235578  Distance:  -2008.24027843  Separation: 0.115998597658\n",
      "SSTGBS J183851.1+000-1852 YSOc_star+dust(MP1)  Parallax:  -0.102242420699  S/N:  -0.333528703435  Distance:  -9780.67609475  Separation: 0.016055491749\n"
     ]
    },
    {
     "name": "stdout",
     "output_type": "stream",
     "text": [
      "SSTGBS J183853.4+000-418 YSOc_star+dust(MP1)  Parallax:  -0.399477897974  S/N:  -0.853295611505  Distance:  -2503.26740245  Separation: 0.184005918933\n",
      "SSTGBS J183853.7+000045 YSOc_star+dust(MP1)  Parallax:  0.136041802437  S/N:  0.604136941225  Distance:  7350.68179109  Separation: 0.27776549119\n",
      "SSTGBS J183854.4+000-2722 YSOc_star+dust(MP1)  Parallax:  0.184151540722  S/N:  0.756565975677  Distance:  5430.3102547  Separation: 0.0931067747542\n",
      "SSTGBS J183855.7+001443 YSOc_star+dust(MP1)  Parallax:  0.101920486875  S/N:  0.85980679179  Distance:  9811.57008426  Separation: 0.0981481025025\n",
      "SSTGBS J183857.9+000-1120 YSOc_star+dust(IR4)  Parallax:  0.144422231753  S/N:  0.323975432305  Distance:  6924.14171879  Separation: 0.068924175126\n",
      "SSTGBS J183859.6+000458 YSOc_star+dust(MP1)  Parallax:  -0.800298850386  S/N:  -2.87830358758  Distance:  -1249.53322064  Separation: 0.0755398350782\n",
      "SSTGBS J183859.9+000-810 YSOc_star+dust(MP1)  Parallax:  0.469476139559  S/N:  1.49909218035  Distance:  2130.03370297  Separation: 0.135287611169\n",
      "SSTGBS J183900.7+001546 YSOc_star+dust(MP1)  Parallax:  -1.86526773924  S/N:  -5.66342941088  Distance:  -536.116064714  Separation: 0.290110371231\n",
      "SSTGBS J183901.1+000844 YSOc_star+dust(MP1)  Parallax:  -0.215049972196  S/N:  -0.774736072301  Distance:  -4650.08197763  Separation: 0.178134138954\n",
      "SSTGBS J183905.5+000605 YSOc_star+dust(MP1)  Parallax:  -0.34441824088  S/N:  -1.07406188997  Distance:  -2903.44668576  Separation: 0.149203379105\n",
      "SSTGBS J183905.6+000655 YSOc_star+dust(MP1)  Parallax:  -0.483716631205  S/N:  -1.76803804329  Distance:  -2067.32606549  Separation: 0.081150368366\n",
      "SSTGBS J183906.3+000-1019 YSOc_star+dust(MP1)  Parallax:  0.283132859328  S/N:  0.872643145376  Distance:  3531.91078694  Separation: 0.0540964080433\n",
      "SSTGBS J183909.5+001355 YSOc_red  Parallax:  0.858552493266  S/N:  3.80293152751  Distance:  1164.7511455  Separation: 0.0701906664562\n",
      "SSTGBS J183915.6+000-460 YSOc_star+dust(IR4)  Parallax:  0.373813785166  S/N:  0.715261894189  Distance:  2675.12873972  Separation: 0.0657925934391\n",
      "SSTGBS J183918.5+000-1224 YSOc_star+dust(MP1)  Parallax:  0.771339780184  S/N:  2.62983010086  Distance:  1296.44551687  Separation: 0.0446981385411\n",
      "SSTGBS J183922.6+001439 YSOc_star+dust(IR1)  Parallax:  2.07850440896  S/N:  5.37459014487  Distance:  481.115169007  Separation: 0.0503927463585\n",
      "SSTGBS J183924.7+000-1360 YSOc_star+dust(MP1)  Parallax:  0.111349643069  S/N:  0.427562420195  Distance:  8980.72030083  Separation: 0.0781182768325\n",
      "SSTGBS J183926.0+000638 YSOc_star+dust(MP1)  Parallax:  -0.35788828946  S/N:  -1.81442293067  Distance:  -2794.16798328  Separation: 0.223516364314\n",
      "SSTGBS J183926.2+002517 YSOc_star+dust(MP1)  Parallax:  0.104133624294  S/N:  0.349187348624  Distance:  9603.04615132  Separation: 0.0715758315199\n",
      "SSTGBS J183926.5+000639 YSOc_star+dust(IR4)  Parallax:  -0.881820768235  S/N:  -2.17302949249  Distance:  -1134.01729243  Separation: 0.359597513115\n",
      "SSTGBS J183927.8+000-1229 YSOc_star+dust(MP1)  Parallax:  0.530056826428  S/N:  7.79717673815  Distance:  1886.59017324  Separation: 0.0607588209089\n",
      "SSTGBS J183928.2+000-529 YSOc_star+dust(MP1)  Parallax:  -0.0154563749882  S/N:  -0.0152612172715  Distance:  -64698.2232746  Separation: 0.0900300758381\n",
      "SSTGBS J183931.7+000458 YSOc  Parallax:  --  S/N:  --  Distance:  --  Separation: 0.894367446011\n",
      "SSTGBS J183931.8+002745 YSOc_star+dust(MP1)  Parallax:  -0.125701087779  S/N:  -0.123249779905  Distance:  -7955.38063887  Separation: 0.168218675399\n",
      "SSTGBS J183932.7+001004 YSOc_star+dust(MP1)  Parallax:  -0.599757944956  S/N:  -1.88263064977  Distance:  -1667.33931315  Separation: 0.22324479444\n",
      "SSTGBS J183934.4+002323 YSOc_star+dust(IR4)  Parallax:  2.2158774519  S/N:  6.6326907191  Distance:  451.288494832  Separation: 0.046260685405\n",
      "SSTGBS J183934.7+000516 YSOc_star+dust(MP1)  Parallax:  -1.43895185776  S/N:  -3.58858767736  Distance:  -694.950282463  Separation: 0.0474552214309\n",
      "SSTGBS J183935.7+000232 YSOc_star+dust(IR4)  Parallax:  -1.3984930967  S/N:  -0.859618997275  Distance:  -715.055370928  Separation: 0.0556396756057\n",
      "SSTGBS J183940.5+001450 YSOc_star+dust(IR2)  Parallax:  1.94494310441  S/N:  19.7437182613  Distance:  514.153857629  Separation: 0.064780350873\n",
      "SSTGBS J183949.6+002921 YSOc_star+dust(MP1)  Parallax:  2.43059464904  S/N:  2.00986968246  Distance:  411.421954046  Separation: 0.0650238521978\n",
      "SSTGBS J183953.8+00000-15 YSOc_star+dust(MP1)  Parallax:  -1.57489246231  S/N:  -1.70305284349  Distance:  -634.963988925  Separation: 0.0652004802446\n",
      "SSTGBS J183954.4+000414 YSOc_star+dust(IR4)  Parallax:  -3.19637165815  S/N:  -3.28907315496  Distance:  -312.854732474  Separation: 0.168865740481\n",
      "SSTGBS J183954.7+002343 YSOc_star+dust(MP1)  Parallax:  0.0601576479593  S/N:  0.135555049544  Distance:  16622.990325  Separation: 0.099660303509\n",
      "SSTGBS J183957.7+002602 YSOc_star+dust(MP1)  Parallax:  -0.317304499955  S/N:  -1.44927500387  Distance:  -3151.54685844  Separation: 0.0924081341867\n",
      "SSTGBS J183959.7+000042 YSOc_star+dust(MP1)  Parallax:  1.76679581478  S/N:  22.4688910344  Distance:  565.996359984  Separation: 0.114530153201\n",
      "Average distance:  487.37182253  based on  12  sources\n"
     ]
    },
    {
     "data": {
      "image/png": "[encoded data removed]",
      "text/plain": [
       "<matplotlib.figure.Figure at 0x7f13316188d0>"
      ]
     },
     "metadata": {},
     "output_type": "display_data"
    }
   ],
   "source": [
    "# Match up the GAIA and GB YSOs based on the 2MASS cross identifications within each of the catalogs\n",
    "# Print out the parallax, S/N on parallax, and distance for each YSO with parallax\n",
    "# calculate the average distance based on parallaxes with S/N>10\n",
    "# If there are no YSOs with great parallaxes, print out a little info about the YSOs\n",
    "cross_match = np.empty(len(GB2mass),dtype=int); cross_match.fill(-2)\n",
    "gaia_list = []\n",
    "for i in range(0,len(Gaia2MASS)):\n",
    "    gaia_list.append(Gaia2MASS[i].decode('utf-8'))\n",
    "for j in range(0,len(GB2mass)):\n",
    "    if(GB2mass[j] in gaia_list):\n",
    "        cross_match[j] = gaia_list.index(GB2mass[j])\n",
    "    else:\n",
    "        cross_match[j] = -2\n",
    "\n",
    "print(\"GAIA Index numbers of GAIA-GB YSO matches: \",cross_match)\n",
    "avg = 0.\n",
    "navg = 0\n",
    "for m in range(0,len(GB2mass)):    \n",
    "    if(cross_match[m] > -1):\n",
    "        r = cross_match[m]\n",
    "        print(GBid[m],GBobj[m],\" Parallax: \", par[r],\" S/N: \",par_sn[r],\" Distance: \",Dist[r],\" Separation:\",separ[r])\n",
    "        if(par_sn[r] > 10.):\n",
    "            navg = navg + 1\n",
    "            avg = avg + Dist[r]\n",
    "if(navg > 0):\n",
    "    avg = avg/navg\n",
    "    print(\"Average distance: \",avg, \" based on \", navg, \" sources\" )\n",
    "if(navg < 1):\n",
    "    print(\"No sources with sufficient S/N to get distance \")\n",
    "    for m in range(0,len(id2mass)):\n",
    "        if(cross_match[m] > -1):\n",
    "            n = cross_match[m]\n",
    "            print(GBid[m],c2dobj[m], \" G and K mags: \",Gmag[n],Kmag[n], \"GAIA-2MASS Separation: \", separ[n])\n",
    "gooddis = np.zeros(navg)\n",
    "ngood = 0\n",
    "for m in range(0,len(GB2mass)):\n",
    "        if(cross_match[m] > -1 ):\n",
    "            n = cross_match[m]\n",
    "            if(par_sn[n] > 10.):\n",
    "                gooddis[ngood] = Dist[n]\n",
    "                ngood = ngood + 1\n",
    "plt.hist(gooddis,bins=60,range=(0,600))\n",
    "plt.show()"
   ]
  },
  {
   "cell_type": "code",
   "execution_count": 71,
   "metadata": {},
   "outputs": [
    {
     "name": "stdout",
     "output_type": "stream",
     "text": [
      "['objid', 'run', 'rerun', 'camcol', 'field', 'obj', 'type', 'ra', 'dec', 'u', 'g', 'r', 'i', 'z', 'Err_u', 'Err_g', 'Err_r', 'Err_i', 'Err_z']\n",
      "Number of SDSS sources:  114065\n"
     ]
    }
   ],
   "source": [
    "TabSDSS = Table.read(\"SDSS.csv\", format=\"ascii.csv\")\n",
    "print(TabSDSS.colnames)\n",
    "SDSSra = TabSDSS[\"ra\"]\n",
    "SDSSdec = TabSDSS[\"dec\"]\n",
    "SDSSid = TabSDSS[\"objid\"]\n",
    "umag = TabSDSS[\"u\"]\n",
    "umage = TabSDSS[\"Err_u\"]\n",
    "gmag = TabSDSS[\"g\"]\n",
    "gmage = TabSDSS[\"Err_g\"]\n",
    "rmag = TabSDSS[\"r\"]\n",
    "rmage = TabSDSS[\"Err_r\"]\n",
    "imag = TabSDSS[\"i\"]\n",
    "image = TabSDSS[\"Err_i\"]\n",
    "zmag = TabSDSS[\"z\"]\n",
    "zmage = TabSDSS[\"Err_z\"]\n",
    "\n",
    "print(\"Number of SDSS sources: \",len(SDSSra) )"
   ]
  },
  {
   "cell_type": "code",
   "execution_count": 52,
   "metadata": {},
   "outputs": [
    {
     "data": {
      "image/png": "[encoded data removed]",
      "text/plain": [
       "<matplotlib.figure.Figure at 0x7f133033bf28>"
      ]
     },
     "metadata": {},
     "output_type": "display_data"
    },
    {
     "name": "stdout",
     "output_type": "stream",
     "text": [
      "24314\n"
     ]
    }
   ],
   "source": [
    "from astropy.coordinates import SkyCoord\n",
    "from astropy import units as u\n",
    "c = SkyCoord(ra=ra, dec=dec, unit=(u.degree,u.degree))  \n",
    "catalog = SkyCoord(ra=SDSSra, dec=SDSSdec, unit=(u.degree,u.degree))  \n",
    "GAIA_SDSS_idx, d2d, d3d = c.match_to_catalog_sky(catalog) \n",
    "GAIA_SDSS_dasec = d2d.to(u.arcsec).value\n",
    "plt.hist(GAIA_SDSS_dasec,bins=40,range=(0.,5.))\n",
    "plt.show()\n",
    "nn = 0\n",
    "for i in range(0,len(GAIA_SDSS_dasec)):\n",
    "    if(GAIA_SDSS_dasec[i] < 0.5):\n",
    "        nn = nn + 1\n",
    "print(nn)"
   ]
  },
  {
   "cell_type": "code",
   "execution_count": 138,
   "metadata": {},
   "outputs": [
    {
     "name": "stdout",
     "output_type": "stream",
     "text": [
      "Number of GB sources:  339449\n"
     ]
    }
   ],
   "source": [
    "TabGBFull = Table.read(FullCat, format=\"ascii.ipac\")\n",
    "Full_ra = TabGBFull[\"ra\"]\n",
    "Full_dec = TabGBFull[\"dec\"]\n",
    "Full_id = TabGBFull[\"GBS_ID\"]\n",
    "Full2mass = TabGBFull[\"id2mass\"]\n",
    "Fullalph = TabGBFull[\"alpha\"]\n",
    "FullAv = TabGBFull[\"Av\"]\n",
    "FullAverr = TabGBFull[\"D_Av\"]\n",
    "Fullobj = TabGBFull[\"object_type\"]\n",
    "FullI1flux = TabGBFull[\"IR1_flux_c\"]\n",
    "FullI2flux = TabGBFull[\"IR2_flux_c\"]\n",
    "FullI3flux = TabGBFull[\"IR3_flux_c\"]\n",
    "FullI4flux = TabGBFull[\"IR4_flux_c\"]\n",
    "FullM1flux = TabGBFull[\"MP1_flux_c\"]\n",
    "FullI1err = TabGBFull[\"IR1_D_flux_c\"]\n",
    "FullI2err = TabGBFull[\"IR2_D_flux_c\"]\n",
    "FullI3err = TabGBFull[\"IR3_D_flux_c\"]\n",
    "FullI4err = TabGBFull[\"IR4_D_flux_c\"]\n",
    "FullMP1err = TabGBFull[\"MP1_D_flux_c\"]\n",
    "print(\"Number of GB sources: \", len(Full_ra))"
   ]
  },
  {
   "cell_type": "code",
   "execution_count": 59,
   "metadata": {},
   "outputs": [
    {
     "data": {
      "image/png": "[encoded data removed]",
      "text/plain": [
       "<matplotlib.figure.Figure at 0x7f1334aca908>"
      ]
     },
     "metadata": {},
     "output_type": "display_data"
    },
    {
     "name": "stdout",
     "output_type": "stream",
     "text": [
      "30926\n"
     ]
    }
   ],
   "source": [
    "c_full = SkyCoord(ra=Full_ra, dec=Full_dec, unit=(u.degree,u.degree))  \n",
    "GAIA_GB_idx, d2d, d3d = c.match_to_catalog_sky(c_full) \n",
    "GAIA_GB_dasec = d2d.to(u.arcsec).value\n",
    "plt.hist(GAIA_GB_dasec,bins=50,range=(0.,1.))\n",
    "plt.show()\n",
    "nn = 0\n",
    "for i in range(0,len(GAIA_GB_dasec)):\n",
    "    if(GAIA_GB_dasec[i] < 0.5):\n",
    "        nn = nn + 1\n",
    "print(nn)"
   ]
  },
  {
   "cell_type": "code",
   "execution_count": 66,
   "metadata": {},
   "outputs": [
    {
     "name": "stdout",
     "output_type": "stream",
     "text": [
      "Number of Sources in GAIA+SDSS+GB:  24093\n"
     ]
    }
   ],
   "source": [
    "ntriple = 0\n",
    "triple = np.empty(len(ra),dtype=bool)\n",
    "for i in range(len(GAIA_GB_idx)):\n",
    "    if(GAIA_GB_dasec[i] > 0.5):\n",
    "        GAIA_GB_idx[i] = -2\n",
    "    if(GAIA_SDSS_dasec[i] > 0.5):\n",
    "        GAIA_SDSS_idx[i] = -2\n",
    "    if(GAIA_GB_idx[i] > 0 and GAIA_SDSS_idx[i] > 0):\n",
    "        ntriple = ntriple + 1\n",
    "        triple[i] = True\n",
    "    else:\n",
    "        triple[i] = False\n",
    "print(\"Number of Sources in GAIA+SDSS+GB: \",ntriple)"
   ]
  },
  {
   "cell_type": "code",
   "execution_count": 139,
   "metadata": {},
   "outputs": [],
   "source": [
    "TabCat = Table([p[\"source_id\"],p[\"ra\"],p[\"dec\"],p[\"parallax\"],p[\"parallax_over_error\"],p['a_g_val'],p['a_g_percentile_lower'],p['a_g_percentile_upper'],p[\"phot_g_mean_mag\"],p[\"phot_g_mean_flux\"],p[\"phot_g_mean_flux_error\"],p[\"phot_bp_mean_mag\"],p[\"phot_bp_mean_flux\"],p[\"phot_bp_mean_flux_error\"],p[\"phot_rp_mean_mag\"],p[\"phot_rp_mean_flux\"],p[\"phot_rp_mean_flux_error\"],p[\"j_m\"],p[\"j_msigcom\"],p[\"h_m\"],p[\"h_msigcom\"],p[\"ks_m\"],p[\"ks_msigcom\"]])"
   ]
  },
  {
   "cell_type": "code",
   "execution_count": 140,
   "metadata": {},
   "outputs": [],
   "source": [
    "TabCat[\"source_id\"].dtype=np.int\n",
    "wumag = np.empty(len(GAIA_SDSS_idx),dtype=float)\n",
    "wumage = np.empty(len(GAIA_SDSS_idx),dtype=float)\n",
    "wgmag = np.empty(len(GAIA_SDSS_idx),dtype=float)\n",
    "wgmage = np.empty(len(GAIA_SDSS_idx),dtype=float)\n",
    "wrmag = np.empty(len(GAIA_SDSS_idx),dtype=float)\n",
    "wrmage = np.empty(len(GAIA_SDSS_idx),dtype=float)\n",
    "wimag = np.empty(len(GAIA_SDSS_idx),dtype=float)\n",
    "wimage = np.empty(len(GAIA_SDSS_idx),dtype=float)\n",
    "wzmag = np.empty(len(GAIA_SDSS_idx),dtype=float)\n",
    "wzmage = np.empty(len(GAIA_SDSS_idx),dtype=float)\n",
    "wSDSSid = np.empty(len(GAIA_SDSS_idx),dtype=np.object)\n",
    "for i in range(0,len(GAIA_SDSS_idx)):\n",
    "    if(triple[i]):\n",
    "        j = int(GAIA_SDSS_idx[i])\n",
    "        wSDSSid[i] = SDSSid[j]\n",
    "        wumag[i] = umag[j]\n",
    "        wumage[i] = umage[j]\n",
    "        wgmag[i] = gmag[j]\n",
    "        wgmage[i] = gmage[j]\n",
    "        wrmag[i] = rmag[j]\n",
    "        wrmage[i] = rmage[j]\n",
    "        wimag[i] = imag[j]\n",
    "        wimage[i] = image[j]\n",
    "        wzmag[i] = zmag[j]\n",
    "        wzmage[i] = zmage[j]\n",
    "TabCat['SDSS_id'] = Column(data=wSDSSid,dtype=np.object)\n",
    "TabCat['u_SDSS'] = Column(data=wumag,dtype=float,unit=\"mag\")\n",
    "TabCat['u_SDSS_err'] = Column(data=wumage,dtype=float,unit=\"mag\")\n",
    "TabCat['g_SDSS'] = Column(data=wgmag,dtype=float,unit=\"mag\")\n",
    "TabCat['g_SDSS_err'] = Column(data=wgmage,dtype=float,unit=\"mag\")\n",
    "TabCat['r_SDSS'] = Column(data=wrmag,dtype=float,unit=\"mag\")\n",
    "TabCat['r_SDSS_err'] = Column(data=wrmage,dtype=float,unit=\"mag\")\n",
    "TabCat['i_SDSS'] = Column(data=wimag,dtype=float,unit=\"mag\")\n",
    "TabCat['i_SDSS_err'] = Column(data=wimage,dtype=float,unit=\"mag\")\n",
    "TabCat['z_SDSS'] = Column(data=wzmag,dtype=float,unit=\"mag\")\n",
    "TabCat['z_SDSS_err'] = Column(data=wzmage,dtype=float,unit=\"mag\")\n",
    "\n",
    "wGBid = np.empty(len(GAIA_SDSS_idx),dtype=np.object)\n",
    "wGBobj = np.empty(len(GAIA_SDSS_idx),dtype=np.object)\n",
    "wGBalph = np.empty(len(GAIA_SDSS_idx),dtype=float)\n",
    "wAv = np.empty(len(GAIA_SDSS_idx),dtype=float)\n",
    "wAve = np.empty(len(GAIA_SDSS_idx),dtype=float)\n",
    "i1flux = np.empty(len(GAIA_SDSS_idx),dtype=float)\n",
    "i1err = np.empty(len(GAIA_SDSS_idx),dtype=float)\n",
    "i2flux = np.empty(len(GAIA_SDSS_idx),dtype=float)\n",
    "i2err = np.empty(len(GAIA_SDSS_idx),dtype=float)\n",
    "i3flux = np.empty(len(GAIA_SDSS_idx),dtype=float)\n",
    "i3err = np.empty(len(GAIA_SDSS_idx),dtype=float)\n",
    "i4flux = np.empty(len(GAIA_SDSS_idx),dtype=float)\n",
    "i4err = np.empty(len(GAIA_SDSS_idx),dtype=float)\n",
    "m1flux = np.empty(len(GAIA_SDSS_idx),dtype=float)\n",
    "m1err = np.empty(len(GAIA_SDSS_idx),dtype=float)\n",
    "for i in range(0,len(GAIA_GB_idx)):\n",
    "    if(triple[i]):\n",
    "        j = GAIA_GB_idx[i]\n",
    "        wGBid[i] = Full_id[j]\n",
    "        wGBobj[i] = Fullobj[j]\n",
    "        wGBalph[i] = Fullalph[j]\n",
    "        wAv[i] = FullAv[j]\n",
    "        wAve[i] = FullAverr[j]\n",
    "        i1flux[i] = FullI1flux[j]\n",
    "        i1err[i] = FullI1err[j]\n",
    "        i2flux[i] = FullI2flux[j]\n",
    "        i2err[i] = FullI2err[j]\n",
    "        i3flux[i] = FullI3flux[j]\n",
    "        i3err[i] = FullI3err[j]\n",
    "        i4flux[i] = FullI4flux[j]\n",
    "        i4err[i] = FullI4err[j]\n",
    "        m1flux[i] = FullM1flux[j]\n",
    "        m1err[i] = FullMP1err[j]\n",
    "TabCat['GB_id'] = Column(data=wGBid,dtype=np.object)\n",
    "TabCat['GB_object'] = Column(data=wGBobj,dtype=np.object)\n",
    "TabCat['GB_alpha'] = Column(data=wGBalph,dtype=float)\n",
    "TabCat['GB_Av'] = Column(data=wAv,dtype=float)\n",
    "TabCat['GB_Av_err'] = Column(data=wAve,dtype=float)\n",
    "TabCat['I1_flux'] = Column(data=i1flux,dtype=float,unit=\"mJy\")\n",
    "TabCat['I1_flux_err'] = Column(data=i1err,dtype=float,unit=\"mJy\")\n",
    "TabCat['I2_flux'] = Column(data=i2flux,dtype=float,unit=\"mJy\")\n",
    "TabCat['I2_flux_err'] = Column(data=i2err,dtype=float,unit=\"mJy\")\n",
    "TabCat['I3_flux'] = Column(data=i3flux,dtype=float,unit=\"mJy\")\n",
    "TabCat['I3_flux_err'] = Column(data=i3err,dtype=float,unit=\"mJy\")\n",
    "TabCat['I4_flux'] = Column(data=i4flux,dtype=float,unit=\"mJy\")\n",
    "TabCat['I4_flux_err'] = Column(data=i4err,dtype=float,unit=\"mJy\")\n",
    "TabCat['M1_flux'] = Column(data=m1flux,dtype=float,unit=\"mJy\")\n",
    "TabCat['M1_flux_err'] = Column(data=m1err,dtype=float,unit=\"mJy\")\n",
    "TabCat['All_data_flag'] = Column(data=triple,dtype=bool)"
   ]
  },
  {
   "cell_type": "code",
   "execution_count": 141,
   "metadata": {},
   "outputs": [
    {
     "name": "stdout",
     "output_type": "stream",
     "text": [
      "['source_id', 'ra', 'dec', 'parallax', 'parallax_over_error', 'a_g_val', 'a_g_percentile_lower', 'a_g_percentile_upper', 'phot_g_mean_mag', 'phot_g_mean_flux', 'phot_g_mean_flux_error', 'phot_bp_mean_mag', 'phot_bp_mean_flux', 'phot_bp_mean_flux_error', 'phot_rp_mean_mag', 'phot_rp_mean_flux', 'phot_rp_mean_flux_error', 'j_m', 'j_msigcom', 'h_m', 'h_msigcom', 'ks_m', 'ks_msigcom', 'SDSS_id', 'u_SDSS', 'u_SDSS_err', 'g_SDSS', 'g_SDSS_err', 'r_SDSS', 'r_SDSS_err', 'i_SDSS', 'i_SDSS_err', 'z_SDSS', 'z_SDSS_err', 'GB_id', 'GB_object', 'GB_alpha', 'GB_Av', 'GB_Av_err', 'I1_flux', 'I1_flux_err', 'I2_flux', 'I2_flux_err', 'I3_flux', 'I3_flux_err', 'I4_flux', 'I4_flux_err', 'M1_flux', 'M1_flux_err', 'All_data_flag']\n"
     ]
    }
   ],
   "source": [
    "print(TabCat.colnames)"
   ]
  },
  {
   "cell_type": "code",
   "execution_count": 142,
   "metadata": {},
   "outputs": [
    {
     "name": "stderr",
     "output_type": "stream",
     "text": [
      "WARNING: W50: ?:?:?: W50: Invalid unit string ''electron'.s**-1' [astropy.io.votable.tree]\n"
     ]
    },
    {
     "name": "stdout",
     "output_type": "stream",
     "text": [
      "VO table written\n"
     ]
    }
   ],
   "source": [
    "from astropy.io.votable import from_table, writeto\n",
    "votable = from_table(TabCat)\n",
    "writeto(votable, \"GAIA_SDSS_GB.votable\")\n",
    "print(\"VO table written\")"
   ]
  },
  {
   "cell_type": "code",
   "execution_count": 143,
   "metadata": {},
   "outputs": [
    {
     "name": "stderr",
     "output_type": "stream",
     "text": [
      "WARNING: W06: GAIA_SDSS_GB.votable:28:3: W06: Invalid UCD 'arith.ratio': Secondary word 'arith.ratio' is not valid as a primary word [astropy.io.votable.tree]\n",
      "WARNING: W50: GAIA_SDSS_GB.votable:53:3: W50: Invalid unit string ''electron'.s**-1' [astropy.io.votable.tree]\n",
      "WARNING: W50: GAIA_SDSS_GB.votable:58:3: W50: Invalid unit string ''electron'.s**-1' [astropy.io.votable.tree]\n",
      "WARNING: W50: GAIA_SDSS_GB.votable:68:3: W50: Invalid unit string ''electron'.s**-1' [astropy.io.votable.tree]\n",
      "WARNING: W50: GAIA_SDSS_GB.votable:73:3: W50: Invalid unit string ''electron'.s**-1' [astropy.io.votable.tree]\n",
      "WARNING: W50: GAIA_SDSS_GB.votable:83:3: W50: Invalid unit string ''electron'.s**-1' [astropy.io.votable.tree]\n",
      "WARNING: W50: GAIA_SDSS_GB.votable:88:3: W50: Invalid unit string ''electron'.s**-1' [astropy.io.votable.tree]\n"
     ]
    },
    {
     "name": "stdout",
     "output_type": "stream",
     "text": [
      "VO table read into notebook\n"
     ]
    }
   ],
   "source": [
    "Tabtest = Table.read(\"GAIA_SDSS_GB.votable\", format=\"votable\")\n",
    "print(\"VO table read into notebook\")"
   ]
  },
  {
   "cell_type": "code",
   "execution_count": 144,
   "metadata": {},
   "outputs": [
    {
     "name": "stdout",
     "output_type": "stream",
     "text": [
      "['source_id', 'ra', 'dec', 'parallax', 'parallax_over_error', 'a_g_val', 'a_g_percentile_lower', 'a_g_percentile_upper', 'phot_g_mean_mag', 'phot_g_mean_flux', 'phot_g_mean_flux_error', 'phot_bp_mean_mag', 'phot_bp_mean_flux', 'phot_bp_mean_flux_error', 'phot_rp_mean_mag', 'phot_rp_mean_flux', 'phot_rp_mean_flux_error', 'j_m', 'j_msigcom', 'h_m', 'h_msigcom', 'ks_m', 'ks_msigcom', 'SDSS_id', 'u_SDSS', 'u_SDSS_err', 'g_SDSS', 'g_SDSS_err', 'r_SDSS', 'r_SDSS_err', 'i_SDSS', 'i_SDSS_err', 'z_SDSS', 'z_SDSS_err', 'GB_id', 'GB_object', 'GB_alpha', 'GB_Av', 'GB_Av_err', 'I1_flux', 'I1_flux_err', 'I2_flux', 'I2_flux_err', 'I3_flux', 'I3_flux_err', 'I4_flux', 'I4_flux_err', 'M1_flux', 'M1_flux_err', 'All_data_flag']\n"
     ]
    }
   ],
   "source": [
    "print(Tabtest.colnames)"
   ]
  },
  {
   "cell_type": "code",
   "execution_count": 146,
   "metadata": {},
   "outputs": [
    {
     "data": {
      "text/html": [
       "&lt;Table masked=True length=15&gt;\n",
       "<table id=\"table139718811285208\" class=\"table-striped table-bordered table-condensed\">\n",
       "<thead><tr><th>source_id</th><th>ra</th><th>dec</th><th>parallax</th><th>parallax_over_error</th><th>a_g_val</th><th>a_g_percentile_lower</th><th>a_g_percentile_upper</th><th>phot_g_mean_mag</th><th>phot_g_mean_flux</th><th>phot_g_mean_flux_error</th><th>phot_bp_mean_mag</th><th>phot_bp_mean_flux</th><th>phot_bp_mean_flux_error</th><th>phot_rp_mean_mag</th><th>phot_rp_mean_flux</th><th>phot_rp_mean_flux_error</th><th>j_m</th><th>j_msigcom</th><th>h_m</th><th>h_msigcom</th><th>ks_m</th><th>ks_msigcom</th><th>SDSS_id</th><th>u_SDSS</th><th>u_SDSS_err</th><th>g_SDSS</th><th>g_SDSS_err</th><th>r_SDSS</th><th>r_SDSS_err</th><th>i_SDSS</th><th>i_SDSS_err</th><th>z_SDSS</th><th>z_SDSS_err</th><th>GB_id</th><th>GB_object</th><th>GB_alpha</th><th>GB_Av</th><th>GB_Av_err</th><th>I1_flux</th><th>I1_flux_err</th><th>I2_flux</th><th>I2_flux_err</th><th>I3_flux</th><th>I3_flux_err</th><th>I4_flux</th><th>I4_flux_err</th><th>M1_flux</th><th>M1_flux_err</th><th>All_data_flag</th></tr></thead>\n",
       "<thead><tr><th></th><th>deg</th><th>deg</th><th>mas</th><th></th><th>mag</th><th>mag</th><th>mag</th><th>mag</th><th>&apos;electron&apos;.s**-1</th><th>&apos;electron&apos;.s**-1</th><th>mag</th><th>&apos;electron&apos;.s**-1</th><th>&apos;electron&apos;.s**-1</th><th>mag</th><th>&apos;electron&apos;.s**-1</th><th>&apos;electron&apos;.s**-1</th><th>mag</th><th>mag</th><th>mag</th><th>mag</th><th>mag</th><th>mag</th><th></th><th>mag</th><th>mag</th><th>mag</th><th>mag</th><th>mag</th><th>mag</th><th>mag</th><th>mag</th><th>mag</th><th>mag</th><th></th><th></th><th></th><th></th><th></th><th>mJy</th><th>mJy</th><th>mJy</th><th>mJy</th><th>mJy</th><th>mJy</th><th>mJy</th><th>mJy</th><th>mJy</th><th>mJy</th><th></th></tr></thead>\n",
       "<thead><tr><th>int64</th><th>float64</th><th>float64</th><th>float64</th><th>float32</th><th>float32</th><th>float32</th><th>float32</th><th>float32</th><th>float64</th><th>float64</th><th>float32</th><th>float64</th><th>float64</th><th>float32</th><th>float64</th><th>float64</th><th>float32</th><th>float32</th><th>float32</th><th>float32</th><th>float32</th><th>float32</th><th>object</th><th>float64</th><th>float64</th><th>float64</th><th>float64</th><th>float64</th><th>float64</th><th>float64</th><th>float64</th><th>float64</th><th>float64</th><th>object</th><th>object</th><th>float64</th><th>float64</th><th>float64</th><th>float64</th><th>float64</th><th>float64</th><th>float64</th><th>float64</th><th>float64</th><th>float64</th><th>float64</th><th>float64</th><th>float64</th><th>bool</th></tr></thead>\n",
       "<tr><td>4273397665301360512</td><td>279.02240971330588</td><td>0.50420645572677192</td><td>0.68063798263992337</td><td>2.9242098</td><td>--</td><td>--</td><td>--</td><td>17.503117</td><td>1879.748466686377</td><td>2.7693353710447779</td><td>19.360819</td><td>249.01619304492209</td><td>8.0369397577910728</td><td>16.179777</td><td>2709.2980013652304</td><td>13.932130491646216</td><td>13.751</td><td>0.025</td><td>12.772</td><td>0.027000001</td><td>12.413</td><td>0.028000001</td><td>None</td><td>6.9029356264615028e-310</td><td>1.0228422234029641e-143</td><td>6.9031055837111277e-310</td><td>6.9031044758034521e-310</td><td>0.0</td><td>6.9031053211790208e-310</td><td>--</td><td>-0.066661811924241629</td><td>4.8537270434874283e-273</td><td>6.9031074955963152e-310</td><td>None</td><td>None</td><td>6.8946584422481867e-15</td><td>6.9030273734539229e-310</td><td>6.902690086290344e-310</td><td>4.1145026519816933e-315</td><td>0.018827719999999999</td><td>3.4826585533104438e+174</td><td>6.9028529524115524e-310</td><td>6.9031044758034521e-310</td><td>2.2175510492125846e-296</td><td>6.9031053729025557e-310</td><td>2.2471174879937118e+307</td><td>340.65769840803739</td><td>22.942716846605727</td><td>False</td></tr>\n",
       "<tr><td>4273397630941621248</td><td>279.01183810380911</td><td>0.49445789973308779</td><td>0.28633657378322885</td><td>1.3858283</td><td>--</td><td>--</td><td>--</td><td>17.439108</td><td>1993.8988049745583</td><td>2.5645697240901804</td><td>19.403358</td><td>239.44850590344316</td><td>6.9046509864127747</td><td>16.096584</td><td>2925.0550700179319</td><td>11.160526312807352</td><td>13.543</td><td>0.030999999</td><td>12.466</td><td>0.028000001</td><td>12.095</td><td>0.028999999</td><td>None</td><td>6.9029356267943054e-310</td><td>2.825843801635982e-306</td><td>0.0</td><td>6.9031044758034521e-310</td><td>0.0</td><td>6.9031053211790208e-310</td><td>15.40788532012353</td><td>-0.011351048727820405</td><td>9.3737348314092851e-307</td><td>6.9031055816555676e-310</td><td>None</td><td>None</td><td>-7.2966211900119336e-233</td><td>6.903027373461828e-310</td><td>6.902690086290344e-310</td><td>4.1145223355570237e-315</td><td>0.016419679999999999</td><td>5.3821462965154973e+228</td><td>6.9028529524115524e-310</td><td>6.9031044758034521e-310</td><td>1.1307063065844666e-282</td><td>6.9031053729025557e-310</td><td>2.2471174879937118e+307</td><td>242.28422703941536</td><td>26.950727578484965</td><td>False</td></tr>\n",
       "<tr><td>4273397626646576384</td><td>279.00942492524337</td><td>0.48863649011587668</td><td>1.5972973833140209</td><td>0.9670617</td><td>--</td><td>--</td><td>--</td><td>20.618731</td><td>106.62385092199932</td><td>1.2799538605582059</td><td>21.923496</td><td>23.504822057141769</td><td>7.5573563466257951</td><td>19.267805</td><td>157.63254267577625</td><td>13.390647296226152</td><td>16.358999</td><td>--</td><td>15.628</td><td>0.148</td><td>15.373</td><td>0.17299999</td><td>None</td><td>6.9029356273377776e-310</td><td>-1.4672619900774975e-272</td><td>2.4703282292062327e-323</td><td>6.9031044758034521e-310</td><td>0.0</td><td>6.9031053211790208e-310</td><td>13.312779033936513</td><td>-0.2388592466460992</td><td>2.2194150881808094e-301</td><td>6.9031055815773076e-310</td><td>None</td><td>None</td><td>6.9028535430480599e-310</td><td>6.903027373469733e-310</td><td>6.902690086290344e-310</td><td>4.114542019132354e-315</td><td>0.02427487</td><td>2.0669809644215024e+161</td><td>6.9028529524115524e-310</td><td>6.9031044758034521e-310</td><td>5.8413217715539183e-302</td><td>6.9031053729025557e-310</td><td>61101768.193477668</td><td>227.76417153339696</td><td>12.715310796293748</td><td>False</td></tr>\n",
       "<tr><td>4273397729726060160</td><td>279.00790529790652</td><td>0.50779375148701356</td><td>-1.5914657094951821</td><td>-1.4576238</td><td>--</td><td>--</td><td>--</td><td>19.927631</td><td>201.50861221034211</td><td>1.2763220272962956</td><td>21.215096</td><td>45.135349930071406</td><td>4.5464366066893378</td><td>18.653248</td><td>277.63180505900698</td><td>10.094454985441054</td><td>16.093</td><td>0.1</td><td>13.91</td><td>--</td><td>13.691</td><td>--</td><td>None</td><td>6.9029356274678157e-310</td><td>3.8917369261943586e-285</td><td>6.9028523080100802e-310</td><td>6.9031044758034521e-310</td><td>0.0</td><td>6.9031053211790208e-310</td><td>--</td><td>-0.31143256767233618</td><td>4.3918045500043189e-225</td><td>6.903107331919086e-310</td><td>None</td><td>None</td><td>6.9031581101849998e-310</td><td>6.9030273734776381e-310</td><td>6.902690086290344e-310</td><td>4.1145617027076843e-315</td><td>0.020261419999999999</td><td>2.4669502524521491e+179</td><td>6.9028529524115524e-310</td><td>6.9031044758034521e-310</td><td>2.1344857249181006e-287</td><td>6.9031053729025557e-310</td><td>107911184.3883847</td><td>342.08028764497226</td><td>15.322914385029348</td><td>False</td></tr>\n",
       "<tr><td>4273397661002555904</td><td>279.02294005349637</td><td>0.50733738973960529</td><td>-0.071611243368290917</td><td>-0.10089341</td><td>--</td><td>--</td><td>--</td><td>19.341906</td><td>345.60841059075051</td><td>1.4425717929960977</td><td>21.536596</td><td>33.567324968950246</td><td>5.750894093008271</td><td>17.970627</td><td>520.61601666574632</td><td>11.113037848833732</td><td>15.517</td><td>0.059</td><td>14.426</td><td>0.048</td><td>14.027</td><td>0.057999998</td><td>1237668711057784890</td><td>24.854009999999999</td><td>1.312208</td><td>25.11431</td><td>0.7650053</td><td>20.10032</td><td>0.025878450000000001</td><td>18.668900000000001</td><td>0.01372429</td><td>20.290710000000001</td><td>0.1808911</td><td>SSTGBS J183605.5+003026</td><td>2mass</td><td>-999.0</td><td>3.6800000000000002</td><td>1.05</td><td>-999.0</td><td>-999.0</td><td>-999.0</td><td>-999.0</td><td>-999.0</td><td>-999.0</td><td>-999.0</td><td>-999.0</td><td>-999.0</td><td>-999.0</td><td>True</td></tr>\n",
       "<tr><td>4273397626642795776</td><td>279.01101871823084</td><td>0.49884433184810228</td><td>0.18906662476443956</td><td>0.64335257</td><td>--</td><td>--</td><td>--</td><td>18.036009</td><td>1150.6487079340232</td><td>2.2587935094021554</td><td>20.024956</td><td>135.07431121474141</td><td>12.777746389006589</td><td>16.678753</td><td>1711.0662711495006</td><td>14.184091966260292</td><td>14.115</td><td>0.032000002</td><td>13.059</td><td>0.028000001</td><td>12.647</td><td>0.028000001</td><td>None</td><td>6.9029356283081226e-310</td><td>2.8258438016307637e-306</td><td>6.9028512233239347e-310</td><td>6.9031044758034521e-310</td><td>0.0</td><td>6.9031053211790208e-310</td><td>15.448476612180652</td><td>-0.015548972094980166</td><td>5.8538756188418153e-302</td><td>6.9031073318728414e-310</td><td>None</td><td>None</td><td>6.9026707905972567e-310</td><td>6.9030273734934482e-310</td><td>6.902690086290344e-310</td><td>4.1146010698583449e-315</td><td>0.0081351940000000001</td><td>1.4294079410091453e+21</td><td>6.9028529524115524e-310</td><td>6.9031044758034521e-310</td><td>9.3737348314092851e-307</td><td>6.9031053729025557e-310</td><td>51296232.199882068</td><td>454.07438188784374</td><td>11.399473340092181</td><td>False</td></tr>\n",
       "<tr><td>4273397764085802112</td><td>279.03407175384757</td><td>0.50731750674711895</td><td>1.6491516451388653</td><td>1.6651766</td><td>--</td><td>--</td><td>--</td><td>19.787827</td><td>229.20041602705373</td><td>1.2493798762855781</td><td>21.678637</td><td>29.451023016602463</td><td>8.2968110033467184</td><td>18.425049</td><td>342.56923873426553</td><td>13.322318701379221</td><td>14.446</td><td>--</td><td>13.353</td><td>--</td><td>13.826</td><td>0.066</td><td>1237668711057789337</td><td>24.907889999999998</td><td>1.310597</td><td>24.01268</td><td>0.48862080000000002</td><td>20.780850000000001</td><td>0.044038269999999997</td><td>19.103429999999999</td><td>0.018567770000000001</td><td>17.89705</td><td>0.023214459999999999</td><td>SSTGBS J183608.2+003026</td><td>2mass</td><td>-999.0</td><td>0.0</td><td>0.0</td><td>-999.0</td><td>-999.0</td><td>-999.0</td><td>-999.0</td><td>-999.0</td><td>-999.0</td><td>-999.0</td><td>-999.0</td><td>-999.0</td><td>-999.0</td><td>True</td></tr>\n",
       "<tr><td>4273397764081769984</td><td>279.02817401735138</td><td>0.50688490136720499</td><td>1.7596809609544115</td><td>3.3214896</td><td>--</td><td>--</td><td>--</td><td>18.893723</td><td>522.22485186458948</td><td>2.0486302417122686</td><td>20.606998</td><td>79.023499210356348</td><td>10.398851861699473</td><td>17.58396</td><td>743.33387838783938</td><td>10.083132128872313</td><td>15.189</td><td>0.052999999</td><td>14.345</td><td>0.061000001</td><td>13.977</td><td>0.061999999</td><td>1237668711057784889</td><td>25.21808</td><td>1.1758029999999999</td><td>22.000579999999999</td><td>0.094517229999999994</td><td>19.45654</td><td>0.01640117</td><td>18.158580000000001</td><td>0.0099804869999999997</td><td>17.181339999999999</td><td>0.01397897</td><td>SSTGBS J183606.8+003025</td><td>2mass</td><td>-999.0</td><td>8.1500000000000004</td><td>1.04</td><td>-999.0</td><td>-999.0</td><td>-999.0</td><td>-999.0</td><td>-999.0</td><td>-999.0</td><td>-999.0</td><td>-999.0</td><td>-999.0</td><td>-999.0</td><td>True</td></tr>\n",
       "<tr><td>4273397626642772096</td><td>279.00401482805916</td><td>0.49069847021757323</td><td>0.33862181961315474</td><td>1.1405885</td><td>--</td><td>--</td><td>--</td><td>18.167688</td><td>1019.2270155014188</td><td>2.2368012934633734</td><td>19.992258</td><td>139.2041368579238</td><td>8.5257654970443184</td><td>16.825018</td><td>1495.4122153776812</td><td>9.1634842582007821</td><td>14.458</td><td>0.030999999</td><td>13.382</td><td>0.032000002</td><td>12.966</td><td>0.034000002</td><td>None</td><td>6.9029356289010013e-310</td><td>4.1364282576875845e-317</td><td>6.9028523080100802e-310</td><td>6.9031044758034521e-310</td><td>0.0</td><td>6.9031053211790208e-310</td><td>10.730576093919817</td><td>-0.4214800306245402</td><td>8.2885928884669779e-206</td><td>6.9030984063239877e-310</td><td>None</td><td>None</td><td>6.9028535430069536e-310</td><td>6.9030273735171633e-310</td><td>6.902690086290344e-310</td><td>4.1146601205843359e-315</td><td>0.019816199999999999</td><td>1.0353981902665759e+219</td><td>6.9028529524115524e-310</td><td>6.9031044758034521e-310</td><td>7.4115472898163775e-278</td><td>6.9031053729025557e-310</td><td>72834128.399161115</td><td>172.99717876320867</td><td>20.642072361055149</td><td>False</td></tr>\n",
       "<tr><td>4273397699657440128</td><td>279.0065604616039</td><td>0.50442929450770291</td><td>-0.25195368667004864</td><td>-0.21495043</td><td>--</td><td>--</td><td>--</td><td>20.119715</td><td>168.83419043356801</td><td>1.3093688335321079</td><td>21.217327</td><td>45.042695617766569</td><td>6.6055608942707362</td><td>18.773153</td><td>248.60309617446495</td><td>11.506947993454348</td><td>16.566</td><td>0.147</td><td>14.952</td><td>--</td><td>15.138</td><td>0.168</td><td>None</td><td>6.9029356294500071e-310</td><td>4.1435111827863646e-317</td><td>6.9030276608578379e-310</td><td>6.9031044758034521e-310</td><td>0.0</td><td>6.9031053211790208e-310</td><td>6.7029915971064584</td><td>18.004110000000001</td><td>-7.123267025568945e+175</td><td>6.9031053352239238e-310</td><td>None</td><td>None</td><td>6.9031581101881619e-310</td><td>6.9030273735250684e-310</td><td>6.902690086290344e-310</td><td>4.1146798041596662e-315</td><td>0.023411049999999999</td><td>3.7416844472574557e+233</td><td>6.9028529524115524e-310</td><td>6.9031044758034521e-310</td><td>5.8538756188418153e-302</td><td>6.9031053729025557e-310</td><td>98616464.37935473</td><td>1475.9247542692208</td><td>13.926278127659529</td><td>False</td></tr>\n",
       "<tr><td>4272138101714605568</td><td>279.01164113622366</td><td>-0.48821469410771301</td><td>1.5816040063773649</td><td>2.3118098</td><td>--</td><td>--</td><td>--</td><td>19.839708</td><td>218.5056686010943</td><td>1.6951489494622503</td><td>22.484192</td><td>14.024219364868546</td><td>3.1586757058139412</td><td>18.281651</td><td>390.93804459261054</td><td>12.570367604347069</td><td>14.449</td><td>0.033</td><td>13.187</td><td>0.029999999</td><td>12.51</td><td>0.028999999</td><td>1237668688510191633</td><td>26.33173</td><td>0.30453459999999999</td><td>24.613250000000001</td><td>0.52932120000000005</td><td>21.088550000000001</td><td>0.0418421</td><td>19.161639999999998</td><td>0.01379653</td><td>17.342929999999999</td><td>0.013129210000000001</td><td>SSTGBS J183602.8+000-2917</td><td>2mass</td><td>-999.0</td><td>13.16</td><td>0.95999999999999996</td><td>-999.0</td><td>-999.0</td><td>-999.0</td><td>-999.0</td><td>-999.0</td><td>-999.0</td><td>-999.0</td><td>-999.0</td><td>-999.0</td><td>-999.0</td><td>True</td></tr>\n",
       "<tr><td>4272314848214569344</td><td>279.68720177654188</td><td>-0.47173753990489092</td><td>-0.44918387783579355</td><td>-0.30742046</td><td>--</td><td>--</td><td>--</td><td>20.740892</td><td>95.277247407261584</td><td>1.1850143859595716</td><td>--</td><td>--</td><td>--</td><td>--</td><td>--</td><td>--</td><td>16.349001</td><td>0.12</td><td>14.96</td><td>0.082000002</td><td>14.575</td><td>0.090999998</td><td>None</td><td>6.90293563014328e-310</td><td>-3.3855464527921962e+290</td><td>0.0</td><td>6.9031044758034521e-310</td><td>0.0</td><td>6.9031053211790208e-310</td><td>7.3678514440760789</td><td>-0.018767264182080402</td><td>5.644147874310663e-196</td><td>6.9031008266136436e-310</td><td>None</td><td>None</td><td>6.9026707905656365e-310</td><td>6.9030273735408785e-310</td><td>6.902690086290344e-310</td><td>4.1147191713103268e-315</td><td>0.014329100000000001</td><td>7.0730410783541627e+150</td><td>6.9028529524115524e-310</td><td>6.9031044758034521e-310</td><td>2.2194150881805947e-301</td><td>6.9031053729025557e-310</td><td>92183967.9375</td><td>10716.245606405937</td><td>21.468245894364831</td><td>False</td></tr>\n",
       "<tr><td>4272315123089812224</td><td>279.67144637820576</td><td>-0.45903056006906973</td><td>1.2268085456455293</td><td>9.8851166</td><td>--</td><td>--</td><td>--</td><td>17.056606</td><td>2835.9854893599918</td><td>3.1714535902334391</td><td>18.608671</td><td>497.83679582367461</td><td>12.455607243034954</td><td>15.836442</td><td>3716.9880501535467</td><td>20.269553210127736</td><td>13.707</td><td>0.033</td><td>12.966</td><td>0.037</td><td>12.613</td><td>0.041999999</td><td>1237668689047323566</td><td>22.861730000000001</td><td>0.35463319999999998</td><td>19.549679999999999</td><td>0.01254123</td><td>17.50789</td><td>0.0061006319999999999</td><td>16.384340000000002</td><td>0.0047799950000000004</td><td>15.53464</td><td>0.006089204</td><td>SSTGBS J183841.1+000-2732</td><td>star</td><td>-2.5600000000000001</td><td>4.4000000000000004</td><td>0.48999999999999999</td><td>3.0600000000000001</td><td>0.154</td><td>2.0800000000000001</td><td>0.10199999999999999</td><td>1.4399999999999999</td><td>0.085199999999999998</td><td>0.81499999999999995</td><td>0.067500000000000004</td><td>-0.085400000000000004</td><td>0.28799999999999998</td><td>True</td></tr>\n",
       "<tr><td>4272288597368959360</td><td>279.99141641829539</td><td>-0.47940732745573089</td><td>0.55782501186856093</td><td>1.0925756</td><td>--</td><td>--</td><td>--</td><td>19.47221</td><td>306.52272263068079</td><td>1.5334742256655172</td><td>21.286997</td><td>42.243142449875826</td><td>7.6582983119801904</td><td>18.154716</td><td>439.42173662104341</td><td>11.071896512296847</td><td>15.855</td><td>0.101</td><td>12.798</td><td>--</td><td>12.252</td><td>--</td><td>None</td><td>6.9029356306199545e-310</td><td>5.5522051295479409e-218</td><td>6.9028523080100802e-310</td><td>6.9031044758034521e-310</td><td>0.0</td><td>6.9031053211790208e-310</td><td>20.756280672961733</td><td>-0.14124040932704063</td><td>3.1801022537981968e-268</td><td>6.9031056477556222e-310</td><td>None</td><td>None</td><td>-3.9863602375653723e-122</td><td>6.9030273735566886e-310</td><td>6.902690086290344e-310</td><td>4.1147585384609874e-315</td><td>0.0076314340000000003</td><td>6.0934306847396397e-13</td><td>6.9028529524115524e-310</td><td>6.9031044758034521e-310</td><td>3.7331437744995442e-301</td><td>6.9031053729025557e-310</td><td>58170152.195064686</td><td>--</td><td>--</td><td>False</td></tr>\n",
       "<tr><td>4272288563009221120</td><td>279.99128835265691</td><td>-0.48069862824366338</td><td>0.14906410521566876</td><td>0.52078664</td><td>--</td><td>--</td><td>--</td><td>17.757048</td><td>1487.7411708979771</td><td>5.4400240081322808</td><td>--</td><td>--</td><td>--</td><td>--</td><td>--</td><td>--</td><td>12.999</td><td>0.028999999</td><td>11.563</td><td>0.028000001</td><td>11.012</td><td>0.025</td><td>None</td><td>6.9029356311689603e-310</td><td>4.8659401976670346e-268</td><td>6.9026733835703656e-310</td><td>6.9031044758034521e-310</td><td>0.0</td><td>6.9031053211790208e-310</td><td>7.9576099626687551</td><td>-0.43095808427583943</td><td>5.6462377779364864e-196</td><td>6.903105432593986e-310</td><td>None</td><td>None</td><td>6.9028535429184171e-310</td><td>6.9030273735645936e-310</td><td>6.902690086290344e-310</td><td>4.1147782220363177e-315</td><td>0.034263410000000001</td><td>2.6361857681823067e+265</td><td>6.9028529524115524e-310</td><td>6.9031044758034521e-310</td><td>1.3097503859639504e-205</td><td>6.9031053729025557e-310</td><td>106630047.9375</td><td>144.84381302105282</td><td>9.1331227779643882</td><td>False</td></tr>\n",
       "</table>"
      ],
      "text/plain": [
       "<Table masked=True length=15>\n",
       "     source_id              ra         ...     M1_flux_err     All_data_flag\n",
       "                           deg         ...         mJy                      \n",
       "       int64             float64       ...       float64            bool    \n",
       "------------------- ------------------ ... ------------------- -------------\n",
       "4273397665301360512 279.02240971330588 ...  22.942716846605727         False\n",
       "4273397630941621248 279.01183810380911 ...  26.950727578484965         False\n",
       "4273397626646576384 279.00942492524337 ...  12.715310796293748         False\n",
       "4273397729726060160 279.00790529790652 ...  15.322914385029348         False\n",
       "4273397661002555904 279.02294005349637 ...              -999.0          True\n",
       "4273397626642795776 279.01101871823084 ...  11.399473340092181         False\n",
       "4273397764085802112 279.03407175384757 ...              -999.0          True\n",
       "4273397764081769984 279.02817401735138 ...              -999.0          True\n",
       "4273397626642772096 279.00401482805916 ...  20.642072361055149         False\n",
       "4273397699657440128  279.0065604616039 ...  13.926278127659529         False\n",
       "4272138101714605568 279.01164113622366 ...              -999.0          True\n",
       "4272314848214569344 279.68720177654188 ...  21.468245894364831         False\n",
       "4272315123089812224 279.67144637820576 ... 0.28799999999999998          True\n",
       "4272288597368959360 279.99141641829539 ...                  --         False\n",
       "4272288563009221120 279.99128835265691 ...  9.1331227779643882         False"
      ]
     },
     "execution_count": 146,
     "metadata": {},
     "output_type": "execute_result"
    }
   ],
   "source": [
    "Tabtest[20:35]"
   ]
  },
  {
   "cell_type": "code",
   "execution_count": 136,
   "metadata": {},
   "outputs": [
    {
     "name": "stdout",
     "output_type": "stream",
     "text": [
      " j_msigcom \n",
      "    mag    \n",
      "-----------\n",
      " 0.15700001\n",
      "0.030999999\n",
      "      0.123\n",
      "         --\n",
      "0.032000002\n"
     ]
    }
   ],
   "source": [
    "j_err = p[\"j_msigcom\"]\n",
    "print(j_err[10:15])"
   ]
  },
  {
   "cell_type": "code",
   "execution_count": null,
   "metadata": {
    "collapsed": true
   },
   "outputs": [],
   "source": []
  }
 ],
 "metadata": {
  "kernelspec": {
   "display_name": "Python 3",
   "language": "python",
   "name": "python3"
  },
  "language_info": {
   "codemirror_mode": {
    "name": "ipython",
    "version": 3
   },
   "file_extension": ".py",
   "mimetype": "text/x-python",
   "name": "python",
   "nbconvert_exporter": "python",
   "pygments_lexer": "ipython3",
   "version": "3.6.5"
  }
 },
 "nbformat": 4,
 "nbformat_minor": 2
}
