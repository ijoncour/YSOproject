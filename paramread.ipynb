{
 "cells": [
  {
   "cell_type": "code",
   "execution_count": 2,
   "metadata": {},
   "outputs": [],
   "source": [
    "import os\n",
    "import numpy as np\n",
    "import numpy.ma as ma\n",
    "from astropy.io import ascii\n",
    "from astropy.table import Table,Column,MaskedColumn\n",
    "from astropy import units as u\n",
    "from astropy.visualization import quantity_support\n",
    "from astropy.constants import L_sun, M_sun, R_sun,sigma_sb\n",
    "from math import pi\n",
    "quantity_support()\n",
    "import matplotlib.pyplot as plt\n",
    "from matplotlib.ticker import ScalarFormatter\n",
    "#import pandas as pd\n"
   ]
  },
  {
   "cell_type": "code",
   "execution_count": 2,
   "metadata": {},
   "outputs": [],
   "source": [
    "#dir = 'fits_ugriz'\n",
    "#figname = \"HRdiagramugriz.pdf\"\n",
    "#dir = 'fits_ugriz_extinction'\n",
    "#output_table = 'ugriz_extinction_parameters.tab'\n",
    "#figname = \"HRdiagram_ugriz_extinction.pdf\"\n",
    "#pltitle = 'Fitted vs. Observed Spectral Types for ugriz with extinction of SDSS Standard Stars'\n",
    "dir = 'fits_ugrizJHK_extinction'\n",
    "output_table = 'ugrizJHK_extinction_parameters.tab'\n",
    "figname = \"HRdiagram_ugrizJHK_extinction.pdf\"\n",
    "pltitle = 'Fitted vs. Observed Spectral Types for ugriz+JHK with extinction of SDSS Standard Stars'\n",
    "\n",
    "#dir = 'fits_UBVRIJHK_extinction'\n",
    "#figname = \"HRdiagram_UBVRIJHK_extinction.pdf\"\n",
    "#output_table ='UBVRIJHK_extinction_parameters.tab'\n",
    "#pltitle = 'Fitted vs. Observed Spectral Types for UBVRIJHK with extinction of SDSS Standard Stars'\n",
    "\n",
    "#dir = 'fits_gaia2rjhk_extinction'\n",
    "#figname = \"HRdiagram_gaia2rjhk_extinction.pdf\"\n",
    "#output_table = 'gaia2rJHK_extinction_parameters.tab'\n",
    "#pltitle = 'Fitted vs. Observed Spectral Types for GAIA2r+JHK with extinction of SDSS Standard Stars'\n",
    "\n",
    "#dir = 'fits_gaia2jhk_extinction'\n",
    "#figname = \"HRdiagram_gaia2jhk_extinction.pdf\"\n",
    "#output_table = 'gaia2JHK_extinction_parameters.tab'\n",
    "#pltitle = 'Fitted vs. Observed Spectral Types for GAIA2+JHK with extinction of SDSS Standard Stars'"
   ]
  },
  {
   "cell_type": "code",
   "execution_count": 3,
   "metadata": {},
   "outputs": [],
   "source": [
    "def getcolor(si):\n",
    "    if si == \"N/A\": return 'black'\n",
    "    if si.startswith(\"O\") or si.startswith(\"sdO\"): return 'gray'\n",
    "    if si.startswith(\"B\") or si.startswith(\"sdB\"): return 'blue'\n",
    "    if si.startswith(\"A\") or si.startswith(\"sdA\"): return 'cyan'\n",
    "    if si.startswith(\"F\") or si.startswith(\"sdF\"): return 'gold'\n",
    "    if si.startswith(\"G\") or si.startswith(\"sdG\"): return 'green'\n",
    "    if si.startswith(\"K\") or si.startswith(\"sdK\"): return 'darkorange'\n",
    "    if si.startswith(\"M\") or si.startswith(\"sdM\"): return 'red'\n",
    "    if si.startswith(\"DA\"): return'purple'\n",
    "    return 'black'\n",
    "\n",
    "\n",
    "def getlumclassmarker(si):\n",
    "    if si.endswith(\"I\"): return \"D\"\n",
    "    if si.endswith(\"II\"): return \"v\"\n",
    "    if si.endswith(\"III\"): return \"^\"\n",
    "    if si.endswith(\"IV\"): return \"+\"\n",
    "    if si.endswith(\"V\") or si[-1].isdigit(): return \"o\"\n",
    "    if si.endswith(\"VI\") or si.startswith(\"sd\"): return \"s\"\n",
    "    if si.endswith(\"VII\") or si.startswith(\"DA\"): return \"*\"\n",
    "    return \"x\"\n",
    "\n",
    "def getlumclass(si):\n",
    "    if si.endswith(\"I\"): return \"I\"\n",
    "    if si.endswith(\"III\"): return \"III\"\n",
    "    if si.endswith(\"II\"): return \"II\"\n",
    "    if si.endswith(\"IV\"): return \"IV\"\n",
    "    if si.endswith(\"V\") or si[-1].isdigit(): return \"V\"\n",
    "    if si.endswith(\"VI\") or si.startswith(\"sd\"): return \"VI\"\n",
    "    if si.endswith(\"VII\") or si.startswith(\"DA\"): return \"VII\"\n",
    "    return \"x\"\n",
    "\n",
    "def has_spcolor(si):\n",
    "    c = getlumclass(si)\n",
    "    return c == \"V\" or c == \"I\" or c == \"III\"\n",
    "\n",
    "lu = dict()\n",
    "lu['D'] = 'I - supergiants'  \n",
    "lu['v'] = 'II - bright giants'\n",
    "lu['^'] = 'III - giants'\n",
    "lu['+'] = 'IV - subgiants'\n",
    "lu['o'] = 'V - main sequence'\n",
    "lu['s'] = 'VI - subdwarfs'\n",
    "lu['*'] = 'VII - white dwarfs'\n",
    "lu['x'] = 'other'"
   ]
  },
  {
   "cell_type": "code",
   "execution_count": 4,
   "metadata": {
    "scrolled": false
   },
   "outputs": [
    {
     "name": "stdout",
     "output_type": "stream",
     "text": [
      "<class 'float'>\n",
      "source_name PG0918+029D  object name\n",
      "n_data 16  int32 number of fit points\n",
      "n_fits 1  int32 number of fits\n",
      "fit_id 1  int32 fit number\n",
      "model_name muZ1DMfw_01  object best fit model\n",
      "chi2 28362.101  float64 goodness of fit\n",
      "av 0.064 mag float64 extinction\n",
      "scale 0.153  float64 scale factor\n",
      "star.radius 5782658400.0 m float64 stellar radius\n",
      "star.temperature 4.688e+03 K float64 stellar temperature\n",
      "scattering 1.000e+00  float64 scattering\n",
      "inclination 4.500e+01 degree float64 viewing angle\n"
     ]
    }
   ],
   "source": [
    "\n",
    "input_files = []\n",
    "colvalues=[]\n",
    "colnames = []\n",
    "for file in os.listdir(dir):\n",
    "    if file.endswith(\".txt\"):\n",
    "        fname = os.path.join(dir, file)\n",
    "        input_files.append(fname)\n",
    "# get the headers\n",
    "f = open(input_files[0],'r')\n",
    "z= f.readline().split()\n",
    "colnames.extend(z)\n",
    "z= f.readline().split()\n",
    "colnames.extend(z)\n",
    "# get junk line\n",
    "f.readline()\n",
    "colvalues.extend(f.readline().split())\n",
    "colvalues.extend(f.readline().split())\n",
    "f.close()\n",
    "colunits = ['' for x in colvalues]\n",
    "colunits[6] = 'mag'\n",
    "# another way\n",
    "x = colvalues[8]*u.solRad\n",
    "colvalues[8] = x.decompose().scale\n",
    "#colvalues[8] *= R_sun\n",
    "#colvalues[8] = colvalues[8].value\n",
    "print(type(colvalues[8]))\n",
    "colunits[8] = 'm'\n",
    "colunits[9]  = 'K'\n",
    "colunits[11] = 'degree'\n",
    "coldtypes=[np.dtype(np.object),np.dtype(np.int32),np.dtype(np.int32),np.dtype(np.int32),np.dtype(np.object),np.dtype(np.float),np.dtype(np.float),np.dtype(np.float),np.dtype(np.float),np.dtype(np.float),np.dtype(np.float),np.dtype(np.float)]\n",
    "coldesc = ['name', 'number of fit points', 'number of fits', 'fit number','best fit model', 'goodness of fit', 'extinction', 'scale factor', 'stellar radius', 'stellar temperature', 'scattering', 'viewing angle']\n",
    "for i in range(len(colnames)):\n",
    "  print('%s %s %s %s %s'% (colnames[i],colvalues[i],colunits[i],coldtypes[i],coldesc[i]))\n",
    "\n"
   ]
  },
  {
   "cell_type": "code",
   "execution_count": 5,
   "metadata": {},
   "outputs": [],
   "source": [
    "t = Table(names=colnames,dtype=coldtypes,masked=True)\n",
    "#t.add_row(colvalues)\n",
    "#for i in range(len(colnames)):\n",
    "#   c = Column([colvalues[i]],unit=colunits[i],description=coldesc[i])\n",
    "#   t[colnames[i]] = c\n",
    "#   print(colnames[i])\n",
    "#print(t['chi2'])\n",
    "for i in range(len(colnames)):\n",
    "    t[colnames[i]].unit = colunits[i]\n",
    "for i in range(0,len(input_files)):\n",
    "    f = open(input_files[i],'r')\n",
    "    f.readline()\n",
    "    f.readline()\n",
    "    f.readline()\n",
    "    colvalues=[]\n",
    "    colvalues.extend(f.readline().split())\n",
    "    if(colvalues[-1] == '0'): continue\n",
    "    #print(\"%s %s\"%(input_files[i],colvalues[-1]))\n",
    "    colvalues.extend(f.readline().split())  \n",
    "    #print(\"%s %d\"%(input_files[i],len(colvalues)))\n",
    "    x = colvalues[8]*u.solRad\n",
    "    colvalues[8] = x.decompose().scale\n",
    "    #colvalues[8] = float(colvalues[8])*R_sun\n",
    "    #print(colvalues[8],x)\n",
    "    #colvalues[8] = colvalues[8].value\n",
    "    t.add_row(colvalues)\n",
    "    f.close()\n",
    "t.add_index('source_name')\n",
    "#t.loc['BD+2_3375']['star.radius']\n",
    "#t.show_in_notebook(display_length=20)"
   ]
  },
  {
   "cell_type": "code",
   "execution_count": 6,
   "metadata": {
    "scrolled": false
   },
   "outputs": [
    {
     "name": "stderr",
     "output_type": "stream",
     "text": [
      "WARNING: W50: None:11:3: W50: Invalid unit string 'hms' [astropy.io.votable.tree]\n",
      "WARNING: W50: None:12:3: W50: Invalid unit string 'dms' [astropy.io.votable.tree]\n",
      "WARNING: W06: None:158:3: W06: Invalid UCD 'meta.bib;meta.number': Primary word 'meta.number' is not valid as a secondary word [astropy.io.votable.tree]\n",
      "WARNING: W06: None:163:3: W06: Invalid UCD 'instr.filter': Secondary word 'instr.filter' is not valid as a primary word [astropy.io.votable.tree]\n",
      "WARNING: W06: None:208:3: W06: Invalid UCD 'instr.filter': Secondary word 'instr.filter' is not valid as a primary word [astropy.io.votable.tree]\n",
      "WARNING: W06: None:253:3: W06: Invalid UCD 'instr.filter': Secondary word 'instr.filter' is not valid as a primary word [astropy.io.votable.tree]\n",
      "WARNING: W06: None:298:3: W06: Invalid UCD 'instr.filter': Secondary word 'instr.filter' is not valid as a primary word [astropy.io.votable.tree]\n",
      "WARNING: W06: None:343:3: W06: Invalid UCD 'instr.filter': Secondary word 'instr.filter' is not valid as a primary word [astropy.io.votable.tree]\n",
      "WARNING: W06: None:388:3: W06: Invalid UCD 'instr.filter': Secondary word 'instr.filter' is not valid as a primary word [astropy.io.votable.tree]\n",
      "WARNING: W06: None:433:3: W06: Invalid UCD 'instr.filter': Secondary word 'instr.filter' is not valid as a primary word [astropy.io.votable.tree]\n",
      "WARNING: W06: None:478:3: W06: Invalid UCD 'instr.filter': Secondary word 'instr.filter' is not valid as a primary word [astropy.io.votable.tree]\n",
      "WARNING: W06: None:523:3: W06: Invalid UCD 'instr.filter': Secondary word 'instr.filter' is not valid as a primary word (suppressing further warnings of this type...) [astropy.io.votable.tree]\n",
      "WARNING: W50: None:818:3: W50: Invalid unit string 'unit-degK' [astropy.io.votable.tree]\n",
      "WARNING: W50: None:823:3: W50: Invalid unit string 'cm/s**2' [astropy.io.votable.tree]\n",
      "WARNING: W50: None:859:3: W50: Invalid unit string 'h:m:s' [astropy.io.votable.tree]\n",
      "WARNING: W50: None:864:3: W50: Invalid unit string 'd:m:s' [astropy.io.votable.tree]\n",
      "WARNING: W50: None:1124:3: W50: Invalid unit string 'day' [astropy.io.votable.tree]\n",
      "WARNING: W50: None:1134:3: W50: Invalid unit string 'day' [astropy.io.votable.tree]\n"
     ]
    },
    {
     "data": {
      "text/html": [
       "<i>Table masked=True length=47</i>\n",
       "<table id=\"table139666998124384-638586\" class=\"table-striped table-bordered table-condensed\">\n",
       "<thead><tr><th>idx</th><th>source_name</th><th>n_data</th><th>n_fits</th><th>fit_id</th><th>model_name</th><th>chi2</th><th>av</th><th>scale</th><th>star.radius</th><th>star.temperature</th><th>scattering</th><th>inclination</th><th>star.luminosity</th><th>star.Lsun</th><th>star.Rsun</th><th>star.SpType</th></tr></thead>\n",
       "<thead><tr><th></th><th></th><th></th><th></th><th></th><th></th><th></th><th>mag</th><th></th><th>m</th><th>K</th><th></th><th>deg</th><th>W</th><th>solLum</th><th>solRad</th><th></th></tr></thead>\n",
       "<tr><td>0</td><td>PG0918+029D</td><td>16</td><td>1</td><td>1</td><td>muZ1DMfw_01</td><td>28362.101</td><td>0.064</td><td>0.153</td><td>5.783E+09</td><td>4688.0</td><td>1.0</td><td>45.0</td><td>1.151E+28</td><td>30.065</td><td>8.312</td><td>N/A</td></tr>\n",
       "<tr><td>1</td><td>PG1323-086D</td><td>16</td><td>1</td><td>1</td><td>OsOd6eo9_01</td><td>127270.155</td><td>1.455</td><td>-0.57</td><td>5.861E+08</td><td>8128.0</td><td>1.0</td><td>45.0</td><td>1.068E+27</td><td>2.791</td><td>0.843</td><td>N/A</td></tr>\n",
       "<tr><td>2</td><td>PG2336+004B</td><td>16</td><td>1</td><td>1</td><td>CHRkAYe4_01</td><td>55998.946</td><td>0.416</td><td>-0.346</td><td>7.931E+08</td><td>6742.0</td><td>1.0</td><td>45.0</td><td>9.260E+26</td><td>2.419</td><td>1.140</td><td>N/A</td></tr>\n",
       "<tr><td>3</td><td>Ru_149F</td><td>16</td><td>1</td><td>1</td><td>VBuU92yL_01</td><td>37507.418</td><td>0.0</td><td>0.543</td><td>7.945E+09</td><td>4674.0</td><td>1.0</td><td>45.0</td><td>2.147E+28</td><td>56.076</td><td>11.420</td><td>N/A</td></tr>\n",
       "<tr><td>4</td><td>SA_100_241</td><td>16</td><td>1</td><td>1</td><td>RPeWZ4ls_01</td><td>41298.124</td><td>0.0</td><td>-0.316</td><td>1.480E+09</td><td>7906.0</td><td>1.0</td><td>45.0</td><td>6.096E+27</td><td>15.924</td><td>2.127</td><td>A3</td></tr>\n",
       "<tr><td>5</td><td>SA_101_207</td><td>16</td><td>1</td><td>1</td><td>uhnlg6ZT_01</td><td>40819.476</td><td>0.0</td><td>-0.272</td><td>9.684E+08</td><td>6109.0</td><td>1.0</td><td>45.0</td><td>9.307E+26</td><td>2.431</td><td>1.392</td><td>F8</td></tr>\n",
       "<tr><td>6</td><td>SA_101_315</td><td>16</td><td>1</td><td>1</td><td>9GXHxI7x_01</td><td>48091.127</td><td>0.0</td><td>-0.147</td><td>4.783E+09</td><td>4570.0</td><td>1.0</td><td>45.0</td><td>7.110E+27</td><td>18.574</td><td>6.875</td><td>K0III</td></tr>\n",
       "<tr><td>7</td><td>SA_101_316</td><td>16</td><td>1</td><td>1</td><td>VRgt2o6W_01</td><td>78343.094</td><td>0.0</td><td>-0.184</td><td>1.330E+09</td><td>6865.0</td><td>1.0</td><td>45.0</td><td>2.800E+27</td><td>7.315</td><td>1.912</td><td>F6</td></tr>\n",
       "<tr><td>8</td><td>SA_103_626</td><td>16</td><td>2</td><td>1</td><td>0TouQGQi_01</td><td>17510.084</td><td>0.0</td><td>-0.151</td><td>1.318E+09</td><td>6788.0</td><td>1.0</td><td>45.0</td><td>2.629E+27</td><td>6.869</td><td>1.895</td><td>F3</td></tr>\n",
       "<tr><td>9</td><td>SA_104_428</td><td>16</td><td>1</td><td>1</td><td>TW6Ws3MK_01</td><td>27126.092</td><td>0.112</td><td>0.084</td><td>3.963E+09</td><td>4795.0</td><td>1.0</td><td>45.0</td><td>5.915E+27</td><td>15.452</td><td>5.696</td><td>N/A</td></tr>\n",
       "<tr><td>10</td><td>SA_107_351</td><td>16</td><td>2</td><td>1</td><td>sTefUKp6_01</td><td>46200.329</td><td>0.0</td><td>-0.253</td><td>1.097E+09</td><td>5994.0</td><td>1.0</td><td>45.0</td><td>1.107E+27</td><td>2.892</td><td>1.577</td><td>F8</td></tr>\n",
       "<tr><td>11</td><td>SA_108_551</td><td>16</td><td>1</td><td>1</td><td>En3IvjhB_01</td><td>49041.595</td><td>0.0</td><td>-0.013</td><td>2.278E+09</td><td>7811.0</td><td>1.0</td><td>45.0</td><td>1.377E+28</td><td>35.970</td><td>3.275</td><td>A0</td></tr>\n",
       "<tr><td>12</td><td>SA_109_231</td><td>16</td><td>1</td><td>1</td><td>bOv73ClV_01</td><td>55941.953</td><td>0.989</td><td>-0.365</td><td>1.414E+10</td><td>4238.0</td><td>1.0</td><td>45.0</td><td>4.598E+28</td><td>120.119</td><td>20.330</td><td>K2II</td></tr>\n",
       "<tr><td>13</td><td>SA_109_381</td><td>16</td><td>1</td><td>1</td><td>ihc2Wl5l_01</td><td>52642.759</td><td>0.208</td><td>-0.433</td><td>1.234E+09</td><td>5629.0</td><td>1.0</td><td>45.0</td><td>1.090E+27</td><td>2.847</td><td>1.774</td><td>F2</td></tr>\n",
       "<tr><td>14</td><td>SA_109_537</td><td>16</td><td>1</td><td>1</td><td>jdIayk1A_01</td><td>22853.409</td><td>0.0</td><td>-0.68</td><td>1.133E+09</td><td>5743.0</td><td>1.0</td><td>45.0</td><td>9.943E+26</td><td>2.598</td><td>1.628</td><td>F1</td></tr>\n",
       "<tr><td>15</td><td>SA_109_71</td><td>16</td><td>1</td><td>1</td><td>0nIT8Crb_01</td><td>143727.098</td><td>0.0</td><td>-0.008</td><td>1.844E+09</td><td>7221.0</td><td>1.0</td><td>45.0</td><td>6.585E+27</td><td>17.202</td><td>2.650</td><td>A0</td></tr>\n",
       "<tr><td>16</td><td>SA_110_232</td><td>16</td><td>1</td><td>1</td><td>kOs6pip4_01</td><td>56169.948</td><td>1.928</td><td>-0.412</td><td>9.364E+08</td><td>7794.0</td><td>1.0</td><td>45.0</td><td>2.306E+27</td><td>6.023</td><td>1.346</td><td>N/A</td></tr>\n",
       "<tr><td>17</td><td>SA_110_340</td><td>16</td><td>1</td><td>1</td><td>8zTUZZvu_01</td><td>32425.058</td><td>0.71</td><td>-0.532</td><td>1.227E+09</td><td>8042.0</td><td>1.0</td><td>45.0</td><td>4.484E+27</td><td>11.713</td><td>1.763</td><td>A5II</td></tr>\n",
       "<tr><td>18</td><td>SA_110_499</td><td>16</td><td>1</td><td>1</td><td>nt9SEFfR_01</td><td>27975.198</td><td>0.0</td><td>-0.183</td><td>3.271E+09</td><td>4707.0</td><td>1.0</td><td>45.0</td><td>3.743E+27</td><td>9.778</td><td>4.702</td><td>B9</td></tr>\n",
       "<tr><td>19</td><td>SA_110_503</td><td>16</td><td>1</td><td>1</td><td>T9RkqkkN_01</td><td>51069.482</td><td>0.0</td><td>-0.239</td><td>1.909E+09</td><td>5331.0</td><td>1.0</td><td>45.0</td><td>2.097E+27</td><td>5.479</td><td>2.744</td><td>A0</td></tr>\n",
       "<tr><td>20</td><td>SA_111_1925</td><td>16</td><td>2</td><td>1</td><td>mpkqKvYp_01</td><td>26049.988</td><td>0.0</td><td>0.007</td><td>1.594E+09</td><td>6540.0</td><td>1.0</td><td>45.0</td><td>3.312E+27</td><td>8.651</td><td>2.291</td><td>A0</td></tr>\n",
       "<tr><td>21</td><td>SA_111_775</td><td>16</td><td>1</td><td>1</td><td>JForjPRI_01</td><td>27307.226</td><td>0.003</td><td>0.089</td><td>3.010E+10</td><td>3332.0</td><td>1.0</td><td>45.0</td><td>7.955E+28</td><td>207.819</td><td>43.260</td><td>N/A</td></tr>\n",
       "<tr><td>22</td><td>SA_112_223</td><td>16</td><td>1</td><td>1</td><td>2YD5efZt_01</td><td>36636.495</td><td>0.0</td><td>-0.275</td><td>1.345E+09</td><td>6424.0</td><td>1.0</td><td>45.0</td><td>2.195E+27</td><td>5.733</td><td>1.933</td><td>F5</td></tr>\n",
       "<tr><td>23</td><td>SA_112_250</td><td>16</td><td>1</td><td>1</td><td>EO4F7yXi_01</td><td>29631.438</td><td>0.0</td><td>-0.289</td><td>1.019E+09</td><td>6309.0</td><td>1.0</td><td>45.0</td><td>1.171E+27</td><td>3.059</td><td>1.464</td><td>F8</td></tr>\n",
       "<tr><td>24</td><td>SA_113_259</td><td>16</td><td>1</td><td>1</td><td>CEI0x0jB_01</td><td>51275.664</td><td>0.0</td><td>0.176</td><td>8.981E+09</td><td>4413.0</td><td>1.0</td><td>45.0</td><td>2.180E+28</td><td>56.948</td><td>12.910</td><td>K0III</td></tr>\n",
       "<tr><td>25</td><td>SA_113_260</td><td>16</td><td>1</td><td>1</td><td>8zTUZZvu_01</td><td>26782.173</td><td>1.119</td><td>-0.126</td><td>1.227E+09</td><td>8042.0</td><td>1.0</td><td>45.0</td><td>4.484E+27</td><td>11.713</td><td>1.763</td><td>N/A</td></tr>\n",
       "<tr><td>26</td><td>SA_113_339</td><td>16</td><td>1</td><td>1</td><td>hguU2zvW_01</td><td>87089.625</td><td>0.0</td><td>-0.359</td><td>8.348E+08</td><td>6120.0</td><td>1.0</td><td>45.0</td><td>6.967E+26</td><td>1.820</td><td>1.200</td><td>F8</td></tr>\n",
       "<tr><td>27</td><td>SA_114_548</td><td>16</td><td>1</td><td>1</td><td>bOv73ClV_01</td><td>49804.742</td><td>0.487</td><td>0.184</td><td>1.414E+10</td><td>4238.0</td><td>1.0</td><td>45.0</td><td>4.598E+28</td><td>120.119</td><td>20.330</td><td>K2</td></tr>\n",
       "<tr><td>28</td><td>SA_114_654</td><td>16</td><td>1</td><td>1</td><td>4p7cSnG9_01</td><td>137476.036</td><td>0.0</td><td>-0.461</td><td>8.501E+08</td><td>5928.0</td><td>1.0</td><td>45.0</td><td>6.360E+26</td><td>1.661</td><td>1.222</td><td>G0</td></tr>\n",
       "<tr><td>29</td><td>SA_114_656</td><td>16</td><td>1</td><td>1</td><td>jXS5Ta0y_01</td><td>46779.151</td><td>0.0</td><td>-0.122</td><td>2.081E+09</td><td>4985.0</td><td>1.0</td><td>45.0</td><td>1.905E+27</td><td>4.977</td><td>2.991</td><td>N/A</td></tr>\n",
       "<tr><td>30</td><td>SA_115_516</td><td>16</td><td>1</td><td>1</td><td>muZ1DMfw_01</td><td>29563.621</td><td>0.004</td><td>-0.205</td><td>5.783E+09</td><td>4688.0</td><td>1.0</td><td>45.0</td><td>1.151E+28</td><td>30.065</td><td>8.312</td><td>G8IV</td></tr>\n",
       "<tr><td>31</td><td>SA_92_263</td><td>16</td><td>1</td><td>1</td><td>OC2uC4YE_01</td><td>86644.545</td><td>0.0</td><td>0.032</td><td>5.330E+09</td><td>4661.0</td><td>1.0</td><td>45.0</td><td>9.556E+27</td><td>24.963</td><td>7.662</td><td>G8III</td></tr>\n",
       "<tr><td>32</td><td>SA_92_288</td><td>16</td><td>1</td><td>1</td><td>hs4GMSFj_01</td><td>37492.148</td><td>0.0</td><td>-0.911</td><td>5.465E+08</td><td>4973.0</td><td>1.0</td><td>45.0</td><td>1.302E+26</td><td>0.340</td><td>0.786</td><td>K3V</td></tr>\n",
       "<tr><td>33</td><td>SA_92_342</td><td>16</td><td>1</td><td>1</td><td>GetLhzmH_01</td><td>132580.007</td><td>0.0</td><td>-0.268</td><td>1.155E+09</td><td>6707.0</td><td>1.0</td><td>45.0</td><td>1.923E+27</td><td>5.024</td><td>1.660</td><td>F5</td></tr>\n",
       "<tr><td>34</td><td>SA_93_424</td><td>16</td><td>1</td><td>1</td><td>9J3366Mz_01</td><td>20866.411</td><td>0.0</td><td>0.157</td><td>7.861E+09</td><td>4632.0</td><td>1.0</td><td>45.0</td><td>2.027E+28</td><td>52.957</td><td>11.300</td><td>G8III</td></tr>\n",
       "<tr><td>35</td><td>SA_94_242</td><td>16</td><td>1</td><td>1</td><td>12muZ5uC_01</td><td>126928.496</td><td>0.0</td><td>-0.283</td><td>8.446E+08</td><td>7390.0</td><td>1.0</td><td>45.0</td><td>1.516E+27</td><td>3.960</td><td>1.214</td><td>A2</td></tr>\n",
       "<tr><td>36</td><td>SA_95_132</td><td>16</td><td>1</td><td>1</td><td>H3KLgd4F_01</td><td>46605.745</td><td>0.0</td><td>-0.127</td><td>1.428E+09</td><td>6420.0</td><td>1.0</td><td>45.0</td><td>2.469E+27</td><td>6.451</td><td>2.053</td><td>A4</td></tr>\n",
       "<tr><td>37</td><td>SA_95_142</td><td>16</td><td>2</td><td>1</td><td>my56XyXu_01</td><td>8750.442</td><td>0.593</td><td>-0.199</td><td>1.112E+09</td><td>6302.0</td><td>1.0</td><td>45.0</td><td>1.391E+27</td><td>3.633</td><td>1.599</td><td>N/A</td></tr>\n",
       "<tr><td>38</td><td>SA_95_190</td><td>16</td><td>3</td><td>1</td><td>1dnuRdhx_01</td><td>50036.958</td><td>0.97</td><td>0.403</td><td>3.460E+09</td><td>8223.0</td><td>1.0</td><td>45.0</td><td>3.900E+28</td><td>101.871</td><td>4.973</td><td>N/A</td></tr>\n",
       "<tr><td>39</td><td>SA_95_193</td><td>16</td><td>1</td><td>1</td><td>qo12cQzy_01</td><td>8596.899</td><td>0.027</td><td>-0.613</td><td>5.162E+08</td><td>4302.0</td><td>1.0</td><td>45.0</td><td>6.504E+25</td><td>0.170</td><td>0.742</td><td>N/A</td></tr>\n",
       "<tr><td>40</td><td>SA_95_218</td><td>16</td><td>1</td><td>1</td><td>tQ7jgmMD_01</td><td>50088.268</td><td>0.0</td><td>-0.491</td><td>7.764E+08</td><td>5707.0</td><td>1.0</td><td>45.0</td><td>4.556E+26</td><td>1.190</td><td>1.116</td><td>G2V</td></tr>\n",
       "<tr><td>41</td><td>SA_95_96</td><td>16</td><td>1</td><td>1</td><td>BainpGaQ_01</td><td>59109.578</td><td>0.0</td><td>-0.167</td><td>1.885E+09</td><td>8403.0</td><td>1.0</td><td>45.0</td><td>1.263E+28</td><td>32.989</td><td>2.710</td><td>A0</td></tr>\n",
       "<tr><td>42</td><td>SA_96_83</td><td>16</td><td>1</td><td>1</td><td>ofjPZMwK_01</td><td>39914.14</td><td>0.0</td><td>0.189</td><td>2.237E+09</td><td>7884.0</td><td>1.0</td><td>45.0</td><td>1.377E+28</td><td>35.978</td><td>3.215</td><td>A3</td></tr>\n",
       "<tr><td>43</td><td>SA_97_345</td><td>16</td><td>1</td><td>1</td><td>YT9yS5GC_01</td><td>37529.159</td><td>0.0</td><td>-0.26</td><td>7.827E+09</td><td>3458.0</td><td>1.0</td><td>45.0</td><td>6.241E+27</td><td>16.304</td><td>11.250</td><td>G8III</td></tr>\n",
       "<tr><td>44</td><td>SA_98_653</td><td>16</td><td>1</td><td>1</td><td>zX4RjfqK_01</td><td>55824.87</td><td>0.0</td><td>-0.034</td><td>2.659E+09</td><td>9787.0</td><td>1.0</td><td>45.0</td><td>4.622E+28</td><td>120.746</td><td>3.822</td><td>B9</td></tr>\n",
       "<tr><td>45</td><td>SA_98_685</td><td>16</td><td>1</td><td>1</td><td>yfRE1yam_01</td><td>21625.87</td><td>0.0</td><td>-0.011</td><td>2.088E+09</td><td>6291.0</td><td>1.0</td><td>45.0</td><td>4.865E+27</td><td>12.709</td><td>3.001</td><td>F8</td></tr>\n",
       "<tr><td>46</td><td>SA_99_447</td><td>16</td><td>1</td><td>1</td><td>tDxC0VHh_01</td><td>37247.631</td><td>0.0</td><td>-0.248</td><td>1.509E+09</td><td>11190.0</td><td>1.0</td><td>45.0</td><td>2.544E+28</td><td>66.456</td><td>2.169</td><td>B8</td></tr>\n",
       "</table><style>table.dataTable {clear: both; width: auto !important; margin: 0 !important;}\n",
       ".dataTables_info, .dataTables_length, .dataTables_filter, .dataTables_paginate{\n",
       "display: inline-block; margin-right: 1em; }\n",
       ".paginate_button { margin-right: 5px; }\n",
       "</style>\n",
       "<script>\n",
       "\n",
       "var astropy_sort_num = function(a, b) {\n",
       "    var a_num = parseFloat(a);\n",
       "    var b_num = parseFloat(b);\n",
       "\n",
       "    if (isNaN(a_num) && isNaN(b_num))\n",
       "        return ((a < b) ? -1 : ((a > b) ? 1 : 0));\n",
       "    else if (!isNaN(a_num) && !isNaN(b_num))\n",
       "        return ((a_num < b_num) ? -1 : ((a_num > b_num) ? 1 : 0));\n",
       "    else\n",
       "        return isNaN(a_num) ? -1 : 1;\n",
       "}\n",
       "\n",
       "require.config({paths: {\n",
       "    datatables: 'https://cdn.datatables.net/1.10.12/js/jquery.dataTables.min'\n",
       "}});\n",
       "require([\"datatables\"], function(){\n",
       "    console.log(\"$('#table139666998124384-638586').dataTable()\");\n",
       "    \n",
       "jQuery.extend( jQuery.fn.dataTableExt.oSort, {\n",
       "    \"optionalnum-asc\": astropy_sort_num,\n",
       "    \"optionalnum-desc\": function (a,b) { return -astropy_sort_num(a, b); }\n",
       "});\n",
       "\n",
       "    $('#table139666998124384-638586').dataTable({\n",
       "        order: [],\n",
       "        pageLength: 2,\n",
       "        lengthMenu: [[2, 10, 25, 50, 100, 500, 1000, -1], [2, 10, 25, 50, 100, 500, 1000, 'All']],\n",
       "        pagingType: \"full_numbers\",\n",
       "        columnDefs: [{targets: [0, 2, 3, 4, 6, 7, 8, 9, 10, 11, 12, 13, 14, 15], type: \"optionalnum\"}]\n",
       "    });\n",
       "});\n",
       "</script>\n"
      ],
      "text/plain": [
       "<IPython.core.display.HTML object>"
      ]
     },
     "execution_count": 6,
     "metadata": {},
     "output_type": "execute_result"
    }
   ],
   "source": [
    "#print(t['star.radius'])\n",
    "t['star.luminosity'] = 4.0*pi*sigma_sb*(t['star.radius']**2)*(t['star.temperature']**4)\n",
    "t['star.Lsun'] = t['star.luminosity']/L_sun\n",
    "t['star.luminosity'].unit = 'W'\n",
    "t['star.luminosity'].format='4.3E'\n",
    "t['star.radius'].format='4.3E'\n",
    "t['star.Lsun'].unit='Lsun'\n",
    "t['star.Lsun'].format='5.3f'\n",
    "t['star.Rsun'] = t['star.radius']/R_sun # yes I know...\n",
    "t['star.Rsun'].unit='Rsun'\n",
    "t['star.Rsun'].format='5.3f'\n",
    "\n",
    "#print(L_sun)\n",
    "#print(1*u.solRad.decompose().scale)\n",
    "#print((4*pi*sigma_sb*(R_sun**2)*(5830*u.K)**4)/L_sun)\n",
    "\n",
    "t['star.SpType'] = Column(name='star.SpType',length=len(t),dtype=np.object)\n",
    "#t['B_V'] = Column(length=len(t),dtype=np.float)\n",
    "#t['B_V_ERROR'] = Column(length=len(t),dtype=np.float)\n",
    "standards = Table.read(\"sdss_standards.votab\")\n",
    "standards.show_in_notebook(display_length=2)\n",
    "sptype = []\n",
    "standards.add_index('StarName')\n",
    "for sj in t['source_name']:\n",
    "    spacename = sj.replace('_',' ')\n",
    "    z = standards.loc[spacename]['SpType']\n",
    "    #t.loc[sj]['B_V'] = standards.loc[spacename]['B_V'] \n",
    "    #t.loc[sj]['B_V_ERROR'] = standards.loc[spacename]['B_V_ERROR'] \n",
    "    t.loc[sj]['star.SpType']= z.replace(\":\",\"\")\n",
    "#    print(standards.loc[spacename]['SpType'],standards.loc[spacename]['MK_Spectral_type'])\n",
    "t.show_in_notebook(display_length=2)\n",
    "#standards.show_in_notebook(display_length=5)\n"
   ]
  },
  {
   "cell_type": "code",
   "execution_count": 7,
   "metadata": {},
   "outputs": [],
   "source": [
    "classes = []\n",
    "colors = []\n",
    "for j in t['star.SpType']:\n",
    "    #print(j)\n",
    "    colors.append(getcolor(j))\n",
    "    classes.append(getlumclassmarker(j))"
   ]
  },
  {
   "cell_type": "code",
   "execution_count": 8,
   "metadata": {},
   "outputs": [],
   "source": [
    "\n",
    "t.write(output_table,format='votable',overwrite=True)\n"
   ]
  },
  {
   "cell_type": "code",
   "execution_count": 9,
   "metadata": {
    "scrolled": false
   },
   "outputs": [
    {
     "data": {
      "image/png": "[encoded data removed]",
      "text/plain": [
       "<Figure size 633.6x489.6 with 1 Axes>"
      ]
     },
     "metadata": {},
     "output_type": "display_data"
    }
   ],
   "source": [
    "%matplotlib inline\n",
    "plt.rcParams['figure.figsize'] = [8.8,6.8]\n",
    "import matplotlib.ticker\n",
    "for x,y,c,m in zip(t['star.temperature'],t['star.Lsun'],colors,classes):\n",
    "#plt.scatter((t['star.temperature']),(t['star.Lsun']),c=colors,s=10,marker=classes)\n",
    "    plt.scatter(x,y,c=c,s=23,marker=m)\n",
    "plt.xlim(2900,31000)\n",
    "plt.ylim(0.05,300)\n",
    "plt.xlabel(\"Temperature (K)\")\n",
    "plt.ylabel(\"Luminosity (L$_{\\odot}$)\")\n",
    "ax = plt.gca()\n",
    "ax.invert_xaxis()\n",
    "plt.text(34000,175,\"O9\",horizontalalignment='center',color=getcolor(\"O\"),weight='bold')\n",
    "plt.text(30000,175,\"B0\",horizontalalignment='center',color=getcolor(\"B\"),weight='bold')\n",
    "plt.text(20900,175,\"B5\",horizontalalignment='center',color=getcolor(\"B\"),weight='bold')\n",
    "plt.text(9790,175,\"A0\",horizontalalignment='center',color=getcolor(\"A\"),weight='bold')\n",
    "plt.text(7300,175,\"F0\",horizontalalignment='center',color=getcolor(\"F\"),weight='bold')#,backgroundcolor='gray')\n",
    "plt.text(5940,175,\"G0\",horizontalalignment='center',color=getcolor(\"G\"),weight='bold')\n",
    "plt.text(5150,175,\"K0\",horizontalalignment='center',color=getcolor(\"K\"),weight='bold')\n",
    "plt.text(3840,175,\"M0\",horizontalalignment='center',color=getcolor(\"M\"),weight='bold')\n",
    "plt.text(15000,0.1,\"WD\",horizontalalignment='center',color=getcolor(\"DA\"),weight='bold')\n",
    "\n",
    "ax.set_yscale('log')\n",
    "ax.set_xscale('log')\n",
    "ax.set_xticks([3000,5000,10000,15000,20000,30000])\n",
    "ax.tick_params(bottom=True,top=True,left=True,right=True)\n",
    "ax.tick_params(top=True, which=\"minor\",axis=\"x\")\n",
    "ax.tick_params(right=True, which=\"minor\",axis=\"y\")\n",
    "\n",
    "ax.get_xaxis().set_major_formatter(ScalarFormatter())\n",
    "#ax.get_xaxis().set_minor_formatter(ScalarFormatter())\n",
    "cu = list(set(classes))\n",
    "#print(cu)\n",
    "plt.title(pltitle)\n",
    "patches = [plt.plot([],[],marker=z,ls=\"\",color='black',label=lu[z])[0] for z in cu]\n",
    "plt.legend(handles=patches,loc='best',numpoints=1,ncol=1, bbox_to_anchor=(.9,0.65),framealpha=1)\n",
    "plt.savefig(figname)\n"
   ]
  },
  {
   "cell_type": "code",
   "execution_count": 5,
   "metadata": {},
   "outputs": [],
   "source": [
    "trobi = Table.read('/n/subaruraid/mpound/sedfittermodels/models_r17/s---s-i/parameters.fits')"
   ]
  },
  {
   "cell_type": "code",
   "execution_count": 6,
   "metadata": {},
   "outputs": [
    {
     "data": {
      "text/html": [
       "<i>Table length=15</i>\n",
       "<table id=\"table140343696566144\" class=\"table-striped table-bordered table-condensed\">\n",
       "<thead><tr><th>MODEL_NAME</th><th>star.radius</th><th>star.temperature</th><th>scattering</th><th>inclination</th></tr></thead>\n",
       "<thead><tr><th>bytes20</th><th>float64</th><th>float64</th><th>int64</th><th>float64</th></tr></thead>\n",
       "<tr><td>01QyhoBc_01</td><td>0.2728</td><td>4888.0</td><td>1</td><td>45.0</td></tr>\n",
       "<tr><td>01Xx6elC_01</td><td>0.383</td><td>12050.0</td><td>1</td><td>45.0</td></tr>\n",
       "<tr><td>03ZZRVTe_01</td><td>31.22</td><td>4967.0</td><td>1</td><td>45.0</td></tr>\n",
       "<tr><td>03amqKIp_01</td><td>13.81</td><td>7891.0</td><td>1</td><td>45.0</td></tr>\n",
       "<tr><td>03dloFhH_01</td><td>44.63</td><td>6450.0</td><td>1</td><td>45.0</td></tr>\n",
       "<tr><td>03jGXYVQ_01</td><td>4.797</td><td>9889.0</td><td>1</td><td>45.0</td></tr>\n",
       "<tr><td>05DVDxNM_01</td><td>0.6069</td><td>4998.0</td><td>1</td><td>45.0</td></tr>\n",
       "<tr><td>05qQySTl_01</td><td>8.242</td><td>7737.0</td><td>1</td><td>45.0</td></tr>\n",
       "<tr><td>05tRaRtL_01</td><td>50.31</td><td>6017.0</td><td>1</td><td>45.0</td></tr>\n",
       "<tr><td>06Xo35xd_01</td><td>4.711</td><td>28510.0</td><td>1</td><td>45.0</td></tr>\n",
       "<tr><td>07MlMhxq_01</td><td>0.1296</td><td>5922.0</td><td>1</td><td>45.0</td></tr>\n",
       "<tr><td>07RUrGEE_01</td><td>0.1938</td><td>23260.0</td><td>1</td><td>45.0</td></tr>\n",
       "<tr><td>07hfvkVw_01</td><td>1.79</td><td>4230.0</td><td>1</td><td>45.0</td></tr>\n",
       "<tr><td>080tzfe2_01</td><td>26.38</td><td>5936.0</td><td>1</td><td>45.0</td></tr>\n",
       "<tr><td>08EDk50n_01</td><td>98.54</td><td>3544.0</td><td>1</td><td>45.0</td></tr>\n",
       "</table>"
      ],
      "text/plain": [
       "<Table length=15>\n",
       " MODEL_NAME star.radius star.temperature scattering inclination\n",
       "  bytes20     float64       float64        int64      float64  \n",
       "----------- ----------- ---------------- ---------- -----------\n",
       "01QyhoBc_01      0.2728           4888.0          1        45.0\n",
       "01Xx6elC_01       0.383          12050.0          1        45.0\n",
       "03ZZRVTe_01       31.22           4967.0          1        45.0\n",
       "03amqKIp_01       13.81           7891.0          1        45.0\n",
       "03dloFhH_01       44.63           6450.0          1        45.0\n",
       "03jGXYVQ_01       4.797           9889.0          1        45.0\n",
       "05DVDxNM_01      0.6069           4998.0          1        45.0\n",
       "05qQySTl_01       8.242           7737.0          1        45.0\n",
       "05tRaRtL_01       50.31           6017.0          1        45.0\n",
       "06Xo35xd_01       4.711          28510.0          1        45.0\n",
       "07MlMhxq_01      0.1296           5922.0          1        45.0\n",
       "07RUrGEE_01      0.1938          23260.0          1        45.0\n",
       "07hfvkVw_01        1.79           4230.0          1        45.0\n",
       "080tzfe2_01       26.38           5936.0          1        45.0\n",
       "08EDk50n_01       98.54           3544.0          1        45.0"
      ]
     },
     "execution_count": 6,
     "metadata": {},
     "output_type": "execute_result"
    }
   ],
   "source": [
    "trobi[:15]"
   ]
  },
  {
   "cell_type": "code",
   "execution_count": 7,
   "metadata": {},
   "outputs": [
    {
     "name": "stderr",
     "output_type": "stream",
     "text": [
      "WARNING: hdu= was not specified but multiple tables are present, reading in first available table (hdu=1) [astropy.io.fits.connect]\n"
     ]
    }
   ],
   "source": [
    "trobistar=Table.read('/n/subaruraid/mpound/sedfittermodels/models_r17/s---s-i/stellar.fits')"
   ]
  },
  {
   "cell_type": "code",
   "execution_count": 8,
   "metadata": {},
   "outputs": [
    {
     "data": {
      "text/html": [
       "<i>Table length=15</i>\n",
       "<table id=\"table140343696566312\" class=\"table-striped table-bordered table-condensed\">\n",
       "<thead><tr><th>MODEL_NAME</th></tr></thead>\n",
       "<thead><tr><th>bytes20</th></tr></thead>\n",
       "<tr><td>01QyhoBc_01</td></tr>\n",
       "<tr><td>01Xx6elC_01</td></tr>\n",
       "<tr><td>03ZZRVTe_01</td></tr>\n",
       "<tr><td>03amqKIp_01</td></tr>\n",
       "<tr><td>03dloFhH_01</td></tr>\n",
       "<tr><td>03jGXYVQ_01</td></tr>\n",
       "<tr><td>05DVDxNM_01</td></tr>\n",
       "<tr><td>05qQySTl_01</td></tr>\n",
       "<tr><td>05tRaRtL_01</td></tr>\n",
       "<tr><td>06Xo35xd_01</td></tr>\n",
       "<tr><td>07MlMhxq_01</td></tr>\n",
       "<tr><td>07RUrGEE_01</td></tr>\n",
       "<tr><td>07hfvkVw_01</td></tr>\n",
       "<tr><td>080tzfe2_01</td></tr>\n",
       "<tr><td>08EDk50n_01</td></tr>\n",
       "</table>"
      ],
      "text/plain": [
       "<Table length=15>\n",
       " MODEL_NAME\n",
       "  bytes20  \n",
       "-----------\n",
       "01QyhoBc_01\n",
       "01Xx6elC_01\n",
       "03ZZRVTe_01\n",
       "03amqKIp_01\n",
       "03dloFhH_01\n",
       "03jGXYVQ_01\n",
       "05DVDxNM_01\n",
       "05qQySTl_01\n",
       "05tRaRtL_01\n",
       "06Xo35xd_01\n",
       "07MlMhxq_01\n",
       "07RUrGEE_01\n",
       "07hfvkVw_01\n",
       "080tzfe2_01\n",
       "08EDk50n_01"
      ]
     },
     "execution_count": 8,
     "metadata": {},
     "output_type": "execute_result"
    }
   ],
   "source": [
    "trobistar[0:15]"
   ]
  },
  {
   "cell_type": "code",
   "execution_count": 9,
   "metadata": {},
   "outputs": [
    {
     "name": "stderr",
     "output_type": "stream",
     "text": [
      "WARNING: W50: None:11:3: W50: Invalid unit string 'hms' [astropy.io.votable.tree]\n",
      "WARNING: W50: None:12:3: W50: Invalid unit string 'dms' [astropy.io.votable.tree]\n",
      "WARNING: W06: None:158:3: W06: Invalid UCD 'meta.bib;meta.number': Primary word 'meta.number' is not valid as a secondary word [astropy.io.votable.tree]\n",
      "WARNING: W06: None:163:3: W06: Invalid UCD 'instr.filter': Secondary word 'instr.filter' is not valid as a primary word [astropy.io.votable.tree]\n",
      "WARNING: W06: None:208:3: W06: Invalid UCD 'instr.filter': Secondary word 'instr.filter' is not valid as a primary word [astropy.io.votable.tree]\n",
      "WARNING: W06: None:253:3: W06: Invalid UCD 'instr.filter': Secondary word 'instr.filter' is not valid as a primary word [astropy.io.votable.tree]\n",
      "WARNING: W06: None:298:3: W06: Invalid UCD 'instr.filter': Secondary word 'instr.filter' is not valid as a primary word [astropy.io.votable.tree]\n",
      "WARNING: W06: None:343:3: W06: Invalid UCD 'instr.filter': Secondary word 'instr.filter' is not valid as a primary word [astropy.io.votable.tree]\n",
      "WARNING: W06: None:388:3: W06: Invalid UCD 'instr.filter': Secondary word 'instr.filter' is not valid as a primary word [astropy.io.votable.tree]\n",
      "WARNING: W06: None:433:3: W06: Invalid UCD 'instr.filter': Secondary word 'instr.filter' is not valid as a primary word [astropy.io.votable.tree]\n",
      "WARNING: W06: None:478:3: W06: Invalid UCD 'instr.filter': Secondary word 'instr.filter' is not valid as a primary word [astropy.io.votable.tree]\n",
      "WARNING: W06: None:523:3: W06: Invalid UCD 'instr.filter': Secondary word 'instr.filter' is not valid as a primary word (suppressing further warnings of this type...) [astropy.io.votable.tree]\n",
      "WARNING: W50: None:818:3: W50: Invalid unit string 'unit-degK' [astropy.io.votable.tree]\n",
      "WARNING: W50: None:823:3: W50: Invalid unit string 'cm/s**2' [astropy.io.votable.tree]\n",
      "WARNING: W50: None:859:3: W50: Invalid unit string 'h:m:s' [astropy.io.votable.tree]\n",
      "WARNING: W50: None:864:3: W50: Invalid unit string 'd:m:s' [astropy.io.votable.tree]\n",
      "WARNING: W50: None:1124:3: W50: Invalid unit string 'day' [astropy.io.votable.tree]\n",
      "WARNING: W50: None:1134:3: W50: Invalid unit string 'day' [astropy.io.votable.tree]\n"
     ]
    }
   ],
   "source": [
    "tsources = Table.read(\"sdss_standards+gaia.votab\")"
   ]
  },
  {
   "cell_type": "code",
   "execution_count": 17,
   "metadata": {},
   "outputs": [
    {
     "data": {
      "text/plain": [
       "0.0017320508075688774"
      ]
     },
     "execution_count": 17,
     "metadata": {},
     "output_type": "execute_result"
    }
   ],
   "source": [
    "np.min(tsources[\"rms_z\"])"
   ]
  },
  {
   "cell_type": "code",
   "execution_count": 14,
   "metadata": {},
   "outputs": [
    {
     "data": {
      "text/plain": [
       "(array([31., 36., 54., 16.,  9.,  2.,  2.,  2.,  2.,  2.]),\n",
       " array([0.00173205, 0.00337268, 0.00501331, 0.00665394, 0.00829457,\n",
       "        0.0099352 , 0.01157583, 0.01321647, 0.0148571 , 0.01649773,\n",
       "        0.01813836]),\n",
       " <a list of 10 Patch objects>)"
      ]
     },
     "execution_count": 14,
     "metadata": {},
     "output_type": "execute_result"
    },
    {
     "data": {
      "image/png": "[encoded data removed]",
      "text/plain": [
       "<Figure size 432x288 with 1 Axes>"
      ]
     },
     "metadata": {},
     "output_type": "display_data"
    }
   ],
   "source": [
    "plt.hist(tsources[\"rms_z\"])"
   ]
  },
  {
   "cell_type": "code",
   "execution_count": 18,
   "metadata": {},
   "outputs": [],
   "source": [
    "tyso = Table.read(\"SerpensNE_YSOs.tbl\",format='ipac')"
   ]
  },
  {
   "cell_type": "code",
   "execution_count": 19,
   "metadata": {},
   "outputs": [
    {
     "data": {
      "text/plain": [
       "172"
      ]
     },
     "execution_count": 19,
     "metadata": {},
     "output_type": "execute_result"
    }
   ],
   "source": [
    "len(tyso)"
   ]
  },
  {
   "cell_type": "code",
   "execution_count": 20,
   "metadata": {},
   "outputs": [
    {
     "data": {
      "text/html": [
       "<i>Table length=10</i>\n",
       "<table id=\"table140343695855120\" class=\"table-striped table-bordered table-condensed\">\n",
       "<thead><tr><th>GBS_ID</th><th>ra</th><th>D_ra</th><th>dec</th><th>D_dec</th><th>Q_pos</th><th>Q_merge</th><th>id2mass</th><th>Prob_Galc</th><th>alpha</th><th>D_alpha</th><th>alpha_chi2</th><th>alpha_nfit</th><th>object_type</th><th>Av</th><th>D_Av</th><th>mag_IR1</th><th>D_mag_IR1</th><th>Av_chi2</th><th>Av_nfit</th><th>J_flux_c</th><th>J_D_flux_c</th><th>J_date_c</th><th>J_Q_det_c</th><th>H_flux_c</th><th>H_D_flux_c</th><th>H_date_c</th><th>H_Q_det_c</th><th>Ks_flux_c</th><th>Ks_D_flux_c</th><th>Ks_date_c</th><th>Ks_Q_det_c</th><th>IR1_flux_1</th><th>IR1_D_flux_1</th><th>IR1_date_1</th><th>IR1_Q_det_1</th><th>IR1_flux_2</th><th>IR1_D_flux_2</th><th>IR1_date_2</th><th>IR1_Q_det_2</th><th>IR1_flux_c</th><th>IR1_D_flux_c</th><th>IR1_date_c</th><th>IR1_Q_det_c</th><th>IR1_Q_flux_m</th><th>IR1_imtype</th><th>IR1_src_area</th><th>IR1_amajor</th><th>IR1_aminor</th><th>IR1_tilt</th><th>IR2_flux_1</th><th>IR2_D_flux_1</th><th>IR2_date_1</th><th>IR2_Q_det_1</th><th>IR2_flux_2</th><th>IR2_D_flux_2</th><th>IR2_date_2</th><th>IR2_Q_det_2</th><th>IR2_flux_c</th><th>IR2_D_flux_c</th><th>IR2_date_c</th><th>IR2_Q_det_c</th><th>IR2_Q_flux_m</th><th>IR2_imtype</th><th>IR2_src_area</th><th>IR2_amajor</th><th>IR2_aminor</th><th>IR2_tilt</th><th>IR3_flux_1</th><th>IR3_D_flux_1</th><th>IR3_date_1</th><th>IR3_Q_det_1</th><th>IR3_flux_2</th><th>IR3_D_flux_2</th><th>IR3_date_2</th><th>IR3_Q_det_2</th><th>IR3_flux_c</th><th>IR3_D_flux_c</th><th>IR3_date_c</th><th>IR3_Q_det_c</th><th>IR3_Q_flux_m</th><th>IR3_imtype</th><th>IR3_src_area</th><th>IR3_amajor</th><th>IR3_aminor</th><th>IR3_tilt</th><th>IR4_flux_1</th><th>IR4_D_flux_1</th><th>IR4_date_1</th><th>IR4_Q_det_1</th><th>IR4_flux_2</th><th>IR4_D_flux_2</th><th>IR4_date_2</th><th>IR4_Q_det_2</th><th>IR4_flux_c</th><th>IR4_D_flux_c</th><th>IR4_date_c</th><th>IR4_Q_det_c</th><th>IR4_Q_flux_m</th><th>IR4_imtype</th><th>IR4_src_area</th><th>IR4_amajor</th><th>IR4_aminor</th><th>IR4_tilt</th><th>MP1_flux_1</th><th>MP1_D_flux_1</th><th>MP1_date_1</th><th>MP1_Q_det_1</th><th>MP1_flux_2</th><th>MP1_D_flux_2</th><th>MP1_date_2</th><th>MP1_Q_det_2</th><th>MP1_flux_c</th><th>MP1_D_flux_c</th><th>MP1_date_c</th><th>MP1_Q_det_c</th><th>MP1_Q_flux_m</th><th>MP1_imtype</th><th>MP1_src_area</th><th>MP1_amajor</th><th>MP1_aminor</th><th>MP1_tilt</th><th>MP2_flux_1</th><th>MP2_D_flux_1</th><th>MP2_date_1</th><th>MP2_Q_det_1</th><th>MP2_flux_2</th><th>MP2_D_flux_2</th><th>MP2_date_2</th><th>MP2_Q_det_2</th><th>MP2_flux_c</th><th>MP2_D_flux_c</th><th>MP2_date_c</th><th>MP2_Q_det_c</th><th>MP2_Q_flux_m</th><th>MP2_imtype</th><th>MP2_src_area</th><th>MP2_amajor</th><th>MP2_aminor</th><th>MP2_tilt</th></tr></thead>\n",
       "<thead><tr><th></th><th>deg</th><th>deg</th><th>deg</th><th>deg</th><th></th><th></th><th></th><th></th><th></th><th></th><th></th><th></th><th></th><th></th><th></th><th></th><th></th><th></th><th></th><th>mJy</th><th>mJy</th><th>dateTtime</th><th></th><th>mJy</th><th>mJy</th><th>dateTtime</th><th></th><th>mJy</th><th>mJy</th><th>dateTtime</th><th></th><th>mJy</th><th>mJy</th><th>dateTtime</th><th></th><th>mJy</th><th>mJy</th><th>dateTtime</th><th></th><th>mJy</th><th>mJy</th><th>dateTtime</th><th></th><th></th><th></th><th>pixel_sq</th><th>pixels</th><th>pixels</th><th>deg</th><th>mJy</th><th>mJy</th><th>dateTtime</th><th></th><th>mJy</th><th>mJy</th><th>dateTtime</th><th></th><th>mJy</th><th>mJy</th><th>dateTtime</th><th></th><th></th><th></th><th>pixel_sq</th><th>pixels</th><th>pixels</th><th>deg</th><th>mJy</th><th>mJy</th><th>dateTtime</th><th></th><th>mJy</th><th>mJy</th><th>dateTtime</th><th></th><th>mJy</th><th>mJy</th><th>dateTtime</th><th></th><th></th><th></th><th>pixel_sq</th><th>pixels</th><th>pixels</th><th>deg</th><th>mJy</th><th>mJy</th><th>dateTtime</th><th></th><th>mJy</th><th>mJy</th><th>dateTtime</th><th></th><th>mJy</th><th>mJy</th><th>dateTtime</th><th></th><th></th><th></th><th>pixel_sq</th><th>pixels</th><th>pixels</th><th>deg</th><th>mJy</th><th>mJy</th><th>dateTtime</th><th></th><th>mJy</th><th>mJy</th><th>dateTtime</th><th></th><th>mJy</th><th>mJy</th><th>dateTtime</th><th></th><th></th><th></th><th>pixel_sq</th><th>pixels</th><th>pixels</th><th>deg</th><th>mJy</th><th>mJy</th><th>dateTtime</th><th></th><th>mJy</th><th>mJy</th><th>dateTtime</th><th></th><th>mJy</th><th>mJy</th><th>dateTtime</th><th></th><th></th><th></th><th>pixel_sq</th><th>pixels</th><th>pixels</th><th>deg</th></tr></thead>\n",
       "<thead><tr><th>str25</th><th>float64</th><th>float64</th><th>float64</th><th>float64</th><th>str1</th><th>str1</th><th>str16</th><th>float64</th><th>float64</th><th>float64</th><th>float64</th><th>int64</th><th>str19</th><th>float64</th><th>float64</th><th>float64</th><th>float64</th><th>float64</th><th>int64</th><th>float64</th><th>float64</th><th>str19</th><th>str1</th><th>float64</th><th>float64</th><th>str19</th><th>str1</th><th>float64</th><th>float64</th><th>str19</th><th>str1</th><th>float64</th><th>float64</th><th>str23</th><th>str1</th><th>float64</th><th>float64</th><th>str23</th><th>str1</th><th>float64</th><th>float64</th><th>str23</th><th>str1</th><th>str1</th><th>int64</th><th>float64</th><th>float64</th><th>float64</th><th>float64</th><th>float64</th><th>float64</th><th>str23</th><th>str1</th><th>float64</th><th>float64</th><th>str23</th><th>str1</th><th>float64</th><th>float64</th><th>str23</th><th>str1</th><th>str1</th><th>int64</th><th>float64</th><th>float64</th><th>float64</th><th>float64</th><th>float64</th><th>float64</th><th>str23</th><th>str1</th><th>float64</th><th>float64</th><th>str23</th><th>str1</th><th>float64</th><th>float64</th><th>str23</th><th>str1</th><th>str1</th><th>int64</th><th>float64</th><th>float64</th><th>float64</th><th>float64</th><th>float64</th><th>float64</th><th>str23</th><th>str1</th><th>float64</th><th>float64</th><th>str23</th><th>str1</th><th>float64</th><th>float64</th><th>str23</th><th>str1</th><th>str1</th><th>int64</th><th>float64</th><th>float64</th><th>float64</th><th>float64</th><th>float64</th><th>float64</th><th>str23</th><th>str1</th><th>float64</th><th>float64</th><th>str23</th><th>str1</th><th>float64</th><th>float64</th><th>str23</th><th>str1</th><th>str1</th><th>int64</th><th>float64</th><th>float64</th><th>float64</th><th>float64</th><th>float64</th><th>float64</th><th>str4</th><th>str1</th><th>float64</th><th>float64</th><th>str4</th><th>str1</th><th>float64</th><th>float64</th><th>str23</th><th>str1</th><th>str1</th><th>int64</th><th>float64</th><th>float64</th><th>float64</th><th>float64</th></tr></thead>\n",
       "<tr><td>SSTGBS J183608.5+000205</td><td>279.0353208</td><td>5.56e-07</td><td>0.0345973</td><td>5.56e-07</td><td>A</td><td>A</td><td>18360847+0002046</td><td>-1.91</td><td>-1.42</td><td>0.0526</td><td>34.1</td><td>6</td><td>YSOc_star+dust(MP1)</td><td>11.11</td><td>1.1</td><td>11.23</td><td>0.0986</td><td>1.47</td><td>7</td><td>3.26</td><td>0.0841</td><td>1999-04-18T21:47:48</td><td>A</td><td>5.9</td><td>0.114</td><td>1999-04-18T21:47:48</td><td>A</td><td>5.37</td><td>0.129</td><td>1999-04-18T21:47:48</td><td>A</td><td>4.37</td><td>0.213</td><td>2007-05-15T20:03:12.871</td><td>A</td><td>4.16</td><td>0.202</td><td>2007-05-15T20:03:12.871</td><td>A</td><td>4.26</td><td>0.203</td><td>2007-05-15T20:03:12.871</td><td>A</td><td>A</td><td>1</td><td>3.09</td><td>1.5</td><td>1.5</td><td>-45.0</td><td>3.3</td><td>0.165</td><td>2007-05-15T20:03:12.871</td><td>A</td><td>3.02</td><td>0.155</td><td>2007-05-15T20:03:12.871</td><td>A</td><td>3.15</td><td>0.155</td><td>2007-05-15T20:03:12.871</td><td>A</td><td>A</td><td>1</td><td>2.97</td><td>1.7</td><td>1.7</td><td>-45.0</td><td>2.47</td><td>0.137</td><td>2007-05-15T20:03:12.871</td><td>A</td><td>2.28</td><td>0.123</td><td>2007-05-15T20:03:12.871</td><td>A</td><td>2.38</td><td>0.121</td><td>2007-05-15T20:03:12.871</td><td>A</td><td>A</td><td>1</td><td>3.92</td><td>1.8</td><td>1.8</td><td>-45.0</td><td>1.66</td><td>0.125</td><td>2007-05-15T20:03:12.871</td><td>A</td><td>1.52</td><td>0.119</td><td>2007-05-15T20:03:12.871</td><td>A</td><td>1.62</td><td>0.1</td><td>2007-05-15T20:03:12.871</td><td>A</td><td>A</td><td>1</td><td>4.98</td><td>1.8</td><td>1.8</td><td>-45.0</td><td>3.84</td><td>0.486</td><td>2007-09-28T21:08:48.072</td><td>A</td><td>3.81</td><td>0.431</td><td>2007-09-28T16:04:36.638</td><td>A</td><td>3.75</td><td>0.405</td><td>2007-09-28T18:36:42.355</td><td>A</td><td>A</td><td>1</td><td>8.04</td><td>2.7</td><td>2.7</td><td>-45.0</td><td>-999.0</td><td>-999.0</td><td>null</td><td>N</td><td>-999.0</td><td>-999.0</td><td>null</td><td>N</td><td>-999.0</td><td>-999.0</td><td>null</td><td>U</td><td>Q</td><td>0</td><td>-999.0</td><td>-999.0</td><td>-999.0</td><td>-999.0</td></tr>\n",
       "<tr><td>SSTGBS J183610.4+000127</td><td>279.0432636</td><td>5.96e-07</td><td>0.0242084</td><td>5.96e-07</td><td>A</td><td>A</td><td>18361038+0001270</td><td>-1.47</td><td>-2.25</td><td>0.0691</td><td>4.93</td><td>6</td><td>YSOc_star+dust(MP1)</td><td>9.97</td><td>1.1</td><td>11.24</td><td>0.0988</td><td>0.175</td><td>7</td><td>2.53</td><td>0.0817</td><td>1998-10-06T11:45:19</td><td>A</td><td>6.7</td><td>0.154</td><td>1998-10-06T11:45:19</td><td>A</td><td>7.76</td><td>0.207</td><td>1998-10-06T11:45:19</td><td>A</td><td>5.01</td><td>0.245</td><td>2007-05-15T20:03:12.871</td><td>A</td><td>4.97</td><td>0.243</td><td>2007-05-15T20:03:12.871</td><td>A</td><td>4.85</td><td>0.235</td><td>2007-05-15T20:03:12.871</td><td>A</td><td>A</td><td>1</td><td>3.09</td><td>1.5</td><td>1.5</td><td>-45.0</td><td>3.11</td><td>0.155</td><td>2007-05-15T20:03:12.871</td><td>A</td><td>3.13</td><td>0.156</td><td>2007-05-15T20:03:12.871</td><td>A</td><td>3.12</td><td>0.151</td><td>2007-05-15T20:03:12.871</td><td>A</td><td>A</td><td>1</td><td>2.97</td><td>1.7</td><td>1.7</td><td>-45.0</td><td>2.3</td><td>0.126</td><td>2007-05-15T20:03:12.871</td><td>A</td><td>2.39</td><td>0.132</td><td>2007-05-15T20:03:12.871</td><td>A</td><td>2.35</td><td>0.121</td><td>2007-05-15T20:03:12.871</td><td>A</td><td>A</td><td>1</td><td>3.92</td><td>1.8</td><td>1.8</td><td>-45.0</td><td>1.4</td><td>0.111</td><td>2007-05-15T20:03:12.871</td><td>A</td><td>1.4</td><td>0.112</td><td>2007-05-15T20:03:12.871</td><td>A</td><td>1.43</td><td>0.0908</td><td>2007-05-15T20:03:12.871</td><td>A</td><td>A</td><td>1</td><td>4.98</td><td>1.8</td><td>1.8</td><td>-45.0</td><td>-999.0</td><td>-999.0</td><td>null</td><td>U</td><td>-999.0</td><td>-999.0</td><td>null</td><td>U</td><td>0.891</td><td>0.212</td><td>2007-09-28T18:36:42.355</td><td>C</td><td>Q</td><td>7</td><td>8.04</td><td>2.7</td><td>2.7</td><td>-45.0</td><td>-999.0</td><td>-999.0</td><td>null</td><td>N</td><td>-999.0</td><td>-999.0</td><td>null</td><td>N</td><td>-999.0</td><td>-999.0</td><td>null</td><td>U</td><td>Q</td><td>0</td><td>-999.0</td><td>-999.0</td><td>-999.0</td><td>-999.0</td></tr>\n",
       "<tr><td>SSTGBS J183610.9+000926</td><td>279.0453931</td><td>3.53e-07</td><td>0.1572453</td><td>3.53e-07</td><td>A</td><td>A</td><td>18361089+0009261</td><td>-5.0</td><td>-2.07</td><td>0.0482</td><td>1.68</td><td>6</td><td>YSOc_star+dust(MP1)</td><td>13.43</td><td>1.1</td><td>7.97</td><td>0.0979</td><td>1.24</td><td>7</td><td>26.7</td><td>0.614</td><td>1999-08-07T14:37:41</td><td>A</td><td>84.0</td><td>2.01</td><td>1999-08-07T14:37:41</td><td>A</td><td>102.0</td><td>2.34</td><td>1999-08-07T14:37:41</td><td>A</td><td>73.1</td><td>3.6</td><td>2007-05-15T20:03:12.871</td><td>A</td><td>73.9</td><td>3.66</td><td>2007-05-15T20:03:12.871</td><td>A</td><td>73.9</td><td>3.61</td><td>2007-05-15T20:03:12.871</td><td>A</td><td>A</td><td>1</td><td>3.09</td><td>1.5</td><td>1.5</td><td>-45.0</td><td>52.1</td><td>2.57</td><td>2007-05-15T20:03:12.871</td><td>A</td><td>52.5</td><td>2.58</td><td>2007-05-15T20:03:12.871</td><td>A</td><td>52.1</td><td>2.52</td><td>2007-05-15T20:03:12.871</td><td>A</td><td>A</td><td>1</td><td>2.97</td><td>1.7</td><td>1.7</td><td>-45.0</td><td>43.1</td><td>2.03</td><td>2007-05-15T20:03:12.871</td><td>A</td><td>43.1</td><td>2.02</td><td>2007-05-15T20:03:12.871</td><td>A</td><td>43.2</td><td>2.02</td><td>2007-05-15T20:03:12.871</td><td>A</td><td>A</td><td>1</td><td>3.92</td><td>1.8</td><td>1.8</td><td>-45.0</td><td>31.6</td><td>1.5</td><td>2007-05-15T20:03:12.871</td><td>A</td><td>31.6</td><td>1.5</td><td>2007-05-15T20:03:12.871</td><td>A</td><td>31.5</td><td>1.48</td><td>2007-05-15T20:03:12.871</td><td>A</td><td>A</td><td>1</td><td>4.98</td><td>1.8</td><td>1.8</td><td>-45.0</td><td>8.02</td><td>0.799</td><td>2007-09-28T21:08:48.072</td><td>A</td><td>8.1</td><td>0.776</td><td>2007-09-28T16:04:36.638</td><td>A</td><td>8.12</td><td>0.769</td><td>2007-09-28T18:36:42.355</td><td>A</td><td>A</td><td>1</td><td>8.04</td><td>2.7</td><td>2.7</td><td>-45.0</td><td>-999.0</td><td>-999.0</td><td>null</td><td>N</td><td>-999.0</td><td>-999.0</td><td>null</td><td>N</td><td>-999.0</td><td>-999.0</td><td>null</td><td>U</td><td>Q</td><td>0</td><td>-999.0</td><td>-999.0</td><td>-999.0</td><td>-999.0</td></tr>\n",
       "<tr><td>SSTGBS J183612.1+000-1504</td><td>279.0502995</td><td>4.28e-07</td><td>-0.2511454</td><td>4.28e-07</td><td>A</td><td>A</td><td>18361207-0015042</td><td>-5.0</td><td>-1.58</td><td>0.048</td><td>3.93</td><td>6</td><td>YSOc_star+dust(IR4)</td><td>13.94</td><td>1.13</td><td>8.57</td><td>0.105</td><td>0.332</td><td>6</td><td>12.7</td><td>0.257</td><td>1998-10-06T11:45:01</td><td>A</td><td>43.2</td><td>0.994</td><td>1998-10-06T11:45:01</td><td>A</td><td>58.3</td><td>1.18</td><td>1998-10-06T11:45:01</td><td>A</td><td>41.2</td><td>2.13</td><td>2007-05-15T20:03:12.871</td><td>A</td><td>43.4</td><td>2.35</td><td>2007-05-15T20:03:12.871</td><td>A</td><td>42.4</td><td>2.19</td><td>2007-05-15T20:03:12.871</td><td>A</td><td>A</td><td>1</td><td>3.09</td><td>1.5</td><td>1.5</td><td>-45.0</td><td>29.9</td><td>1.47</td><td>2007-05-15T20:03:12.871</td><td>A</td><td>29.8</td><td>1.44</td><td>2007-05-15T20:03:12.871</td><td>A</td><td>29.8</td><td>1.42</td><td>2007-05-15T20:03:12.871</td><td>A</td><td>A</td><td>1</td><td>2.97</td><td>1.7</td><td>1.7</td><td>-45.0</td><td>26.4</td><td>1.29</td><td>2007-05-15T20:03:12.871</td><td>A</td><td>26.3</td><td>1.29</td><td>2007-05-15T20:03:12.871</td><td>A</td><td>26.4</td><td>1.27</td><td>2007-05-15T20:03:12.871</td><td>A</td><td>A</td><td>1</td><td>3.92</td><td>1.8</td><td>1.8</td><td>-45.0</td><td>23.9</td><td>1.14</td><td>2007-05-15T20:03:12.871</td><td>A</td><td>24.0</td><td>1.15</td><td>2007-05-15T20:03:12.871</td><td>A</td><td>24.0</td><td>1.13</td><td>2007-05-15T20:03:12.871</td><td>A</td><td>A</td><td>1</td><td>4.98</td><td>1.8</td><td>1.8</td><td>-45.0</td><td>14.6</td><td>1.35</td><td>2007-09-28T21:08:48.072</td><td>A</td><td>13.9</td><td>1.31</td><td>2007-09-28T16:04:36.638</td><td>A</td><td>14.6</td><td>1.35</td><td>2007-09-28T18:36:42.355</td><td>A</td><td>A</td><td>1</td><td>8.04</td><td>2.7</td><td>2.7</td><td>-45.0</td><td>-999.0</td><td>-999.0</td><td>null</td><td>N</td><td>-999.0</td><td>-999.0</td><td>null</td><td>N</td><td>-999.0</td><td>-999.0</td><td>null</td><td>U</td><td>Q</td><td>0</td><td>-999.0</td><td>-999.0</td><td>-999.0</td><td>-999.0</td></tr>\n",
       "<tr><td>SSTGBS J183619.4+000-250</td><td>279.0808362</td><td>5.18e-07</td><td>-0.0471278</td><td>5.18e-07</td><td>A</td><td>A</td><td>18361941-0002494</td><td>-5.0</td><td>-2.01</td><td>0.0484</td><td>2.28</td><td>6</td><td>YSOc_star+dust(MP1)</td><td>14.14</td><td>1.1</td><td>4.47</td><td>0.0987</td><td>1.09</td><td>7</td><td>552.0</td><td>9.15</td><td>1998-10-06T11:45:10</td><td>A</td><td>1750.0</td><td>53.2</td><td>1998-10-06T11:45:10</td><td>A</td><td>2710.0</td><td>50.0</td><td>1998-10-06T11:45:10</td><td>A</td><td>1810.0</td><td>94.8</td><td>2007-05-15T20:03:12.871</td><td>A</td><td>1790.0</td><td>94.3</td><td>2007-05-15T20:03:12.871</td><td>A</td><td>1800.0</td><td>93.3</td><td>2007-05-15T20:03:12.871</td><td>A</td><td>A</td><td>1</td><td>3.09</td><td>1.5</td><td>1.5</td><td>-45.0</td><td>1180.0</td><td>59.9</td><td>2007-05-15T20:03:12.871</td><td>A</td><td>1200.0</td><td>61.5</td><td>2007-05-15T20:03:12.871</td><td>A</td><td>1190.0</td><td>60.7</td><td>2007-05-15T20:03:12.871</td><td>A</td><td>A</td><td>9</td><td>2.97</td><td>1.7</td><td>1.7</td><td>-45.0</td><td>1080.0</td><td>52.3</td><td>2007-05-15T20:03:12.871</td><td>A</td><td>1090.0</td><td>52.8</td><td>2007-05-15T20:03:12.871</td><td>A</td><td>1100.0</td><td>52.8</td><td>2007-05-15T20:03:12.871</td><td>A</td><td>A</td><td>1</td><td>3.92</td><td>1.8</td><td>1.8</td><td>-45.0</td><td>696.0</td><td>37.1</td><td>2007-05-15T20:03:12.871</td><td>A</td><td>693.0</td><td>34.1</td><td>2007-05-15T20:03:12.871</td><td>A</td><td>702.0</td><td>33.9</td><td>2007-05-15T20:03:12.871</td><td>A</td><td>A</td><td>1</td><td>4.98</td><td>1.8</td><td>1.8</td><td>-45.0</td><td>267.0</td><td>24.9</td><td>2007-09-28T21:08:48.072</td><td>A</td><td>248.0</td><td>23.3</td><td>2007-09-28T16:04:36.638</td><td>A</td><td>257.0</td><td>23.9</td><td>2007-09-28T18:36:42.355</td><td>A</td><td>A</td><td>1</td><td>8.04</td><td>2.7</td><td>2.7</td><td>-45.0</td><td>-999.0</td><td>-999.0</td><td>null</td><td>N</td><td>-999.0</td><td>-999.0</td><td>null</td><td>N</td><td>64.1</td><td>19.2</td><td>2007-09-28T21:08:48.072</td><td>C</td><td>Q</td><td>7</td><td>4.26</td><td>2.4</td><td>2.3</td><td>-45.0</td></tr>\n",
       "<tr><td>SSTGBS J183620.2+000-1915</td><td>279.084311</td><td>4.77e-07</td><td>-0.3209639</td><td>4.77e-07</td><td>A</td><td>A</td><td>18362024-0019153</td><td>-5.0</td><td>-2.15</td><td>0.0481</td><td>4.01</td><td>6</td><td>YSOc_star+dust(MP1)</td><td>12.28</td><td>1.09</td><td>5.86</td><td>0.0983</td><td>0.841</td><td>7</td><td>209.0</td><td>4.23</td><td>1998-10-06T11:44:53</td><td>A</td><td>658.0</td><td>12.1</td><td>1998-10-06T11:44:53</td><td>A</td><td>894.0</td><td>19.8</td><td>1998-10-06T11:44:53</td><td>A</td><td>601.0</td><td>30.6</td><td>2007-05-15T20:03:12.871</td><td>A</td><td>603.0</td><td>30.9</td><td>2007-05-15T20:03:12.871</td><td>A</td><td>601.0</td><td>30.7</td><td>2007-05-15T20:03:12.871</td><td>A</td><td>A</td><td>9</td><td>3.09</td><td>1.5</td><td>1.5</td><td>-45.0</td><td>365.0</td><td>22.7</td><td>2007-05-15T20:03:12.871</td><td>K</td><td>365.0</td><td>22.9</td><td>2007-05-15T20:03:12.871</td><td>K</td><td>352.0</td><td>17.7</td><td>2007-05-15T20:03:12.871</td><td>A</td><td>A</td><td>9</td><td>2.27</td><td>1.7</td><td>1.7</td><td>-45.0</td><td>317.0</td><td>15.6</td><td>2007-05-15T20:03:12.871</td><td>A</td><td>315.0</td><td>15.6</td><td>2007-05-15T20:03:12.871</td><td>A</td><td>319.0</td><td>15.3</td><td>2007-05-15T20:03:12.871</td><td>A</td><td>A</td><td>1</td><td>3.92</td><td>1.8</td><td>1.8</td><td>-45.0</td><td>197.0</td><td>9.61</td><td>2007-05-15T20:03:12.871</td><td>A</td><td>197.0</td><td>9.58</td><td>2007-05-15T20:03:12.871</td><td>A</td><td>198.0</td><td>9.44</td><td>2007-05-15T20:03:12.871</td><td>A</td><td>A</td><td>1</td><td>4.98</td><td>1.8</td><td>1.8</td><td>-45.0</td><td>63.9</td><td>5.9</td><td>2007-09-28T21:08:48.072</td><td>A</td><td>63.2</td><td>5.87</td><td>2007-09-28T16:04:36.638</td><td>A</td><td>64.2</td><td>5.93</td><td>2007-09-28T18:36:42.355</td><td>A</td><td>A</td><td>1</td><td>8.04</td><td>2.7</td><td>2.7</td><td>-45.0</td><td>-999.0</td><td>-999.0</td><td>null</td><td>N</td><td>-999.0</td><td>-999.0</td><td>null</td><td>N</td><td>-999.0</td><td>-999.0</td><td>null</td><td>U</td><td>Q</td><td>0</td><td>-999.0</td><td>-999.0</td><td>-999.0</td><td>-999.0</td></tr>\n",
       "<tr><td>SSTGBS J183622.1+000-1345</td><td>279.0919327</td><td>3.65e-07</td><td>-0.2291664</td><td>3.65e-07</td><td>A</td><td>A</td><td>18362206-0013449</td><td>-5.0</td><td>-0.82</td><td>0.048</td><td>8.14</td><td>6</td><td>YSOc_star+dust(IR1)</td><td>1.7</td><td>2.37</td><td>10.04</td><td>0.355</td><td>0.145</td><td>3</td><td>77.9</td><td>1.58</td><td>1998-10-06T11:45:01</td><td>A</td><td>66.7</td><td>1.6</td><td>1998-10-06T11:45:01</td><td>A</td><td>53.6</td><td>1.14</td><td>1998-10-06T11:45:01</td><td>A</td><td>39.1</td><td>2.05</td><td>2007-05-15T20:03:12.871</td><td>A</td><td>39.6</td><td>1.99</td><td>2007-05-15T20:03:12.871</td><td>A</td><td>39.1</td><td>1.99</td><td>2007-05-15T20:03:12.871</td><td>A</td><td>A</td><td>1</td><td>3.09</td><td>1.5</td><td>1.5</td><td>-45.0</td><td>47.6</td><td>2.31</td><td>2007-05-15T20:03:12.871</td><td>A</td><td>47.3</td><td>2.32</td><td>2007-05-15T20:03:12.871</td><td>A</td><td>47.1</td><td>2.27</td><td>2007-05-15T20:03:12.871</td><td>A</td><td>A</td><td>1</td><td>2.97</td><td>1.7</td><td>1.7</td><td>-45.0</td><td>50.2</td><td>2.38</td><td>2007-05-15T20:03:12.871</td><td>A</td><td>49.8</td><td>2.37</td><td>2007-05-15T20:03:12.871</td><td>A</td><td>50.1</td><td>2.36</td><td>2007-05-15T20:03:12.871</td><td>A</td><td>A</td><td>1</td><td>3.92</td><td>1.8</td><td>1.8</td><td>-45.0</td><td>63.1</td><td>2.98</td><td>2007-05-15T20:03:12.871</td><td>A</td><td>63.0</td><td>2.97</td><td>2007-05-15T20:03:12.871</td><td>A</td><td>63.1</td><td>2.95</td><td>2007-05-15T20:03:12.871</td><td>A</td><td>A</td><td>1</td><td>4.98</td><td>1.8</td><td>1.8</td><td>-45.0</td><td>50.7</td><td>4.72</td><td>2007-09-28T21:08:48.072</td><td>A</td><td>52.6</td><td>4.89</td><td>2007-09-28T16:04:36.638</td><td>A</td><td>51.7</td><td>4.79</td><td>2007-09-28T18:36:42.355</td><td>A</td><td>A</td><td>1</td><td>8.04</td><td>2.7</td><td>2.7</td><td>-45.0</td><td>-999.0</td><td>-999.0</td><td>null</td><td>N</td><td>-999.0</td><td>-999.0</td><td>null</td><td>N</td><td>214.0</td><td>34.2</td><td>2007-09-28T21:08:48.072</td><td>B</td><td>Q</td><td>7</td><td>4.26</td><td>2.4</td><td>2.3</td><td>-45.0</td></tr>\n",
       "<tr><td>SSTGBS J183623.7+000-1448</td><td>279.098814</td><td>5.97e-07</td><td>-0.2467106</td><td>5.97e-07</td><td>A</td><td>A</td><td>18362371-0014481</td><td>-5.0</td><td>0.74</td><td>0.0488</td><td>95.8</td><td>6</td><td>YSOc_star+dust(IR1)</td><td>14.5</td><td>2.37</td><td>10.64</td><td>0.356</td><td>0.43</td><td>3</td><td>1.86</td><td>0.0634</td><td>1998-10-06T11:45:01</td><td>A</td><td>5.48</td><td>0.172</td><td>1998-10-06T11:45:01</td><td>A</td><td>8.31</td><td>0.199</td><td>1998-10-06T11:45:01</td><td>A</td><td>41.3</td><td>2.14</td><td>2007-05-15T20:03:12.871</td><td>A</td><td>43.3</td><td>2.16</td><td>2007-05-15T20:03:12.871</td><td>A</td><td>42.1</td><td>2.1</td><td>2007-05-15T20:03:12.871</td><td>A</td><td>A</td><td>1</td><td>3.09</td><td>1.5</td><td>1.5</td><td>-45.0</td><td>97.1</td><td>4.96</td><td>2007-05-15T20:03:12.871</td><td>A</td><td>98.7</td><td>5.02</td><td>2007-05-15T20:03:12.871</td><td>A</td><td>97.2</td><td>4.9</td><td>2007-05-15T20:03:12.871</td><td>A</td><td>A</td><td>1</td><td>2.97</td><td>1.7</td><td>1.7</td><td>-45.0</td><td>190.0</td><td>9.34</td><td>2007-05-15T20:03:12.871</td><td>A</td><td>190.0</td><td>9.24</td><td>2007-05-15T20:03:12.871</td><td>A</td><td>192.0</td><td>9.32</td><td>2007-05-15T20:03:12.871</td><td>A</td><td>A</td><td>2</td><td>9.2</td><td>2.9</td><td>2.8</td><td>-63.5</td><td>307.0</td><td>15.0</td><td>2007-05-15T20:03:12.871</td><td>A</td><td>313.0</td><td>16.9</td><td>2007-05-15T20:03:12.871</td><td>A</td><td>315.0</td><td>16.9</td><td>2007-05-15T20:03:12.871</td><td>A</td><td>A</td><td>9</td><td>4.98</td><td>1.8</td><td>1.8</td><td>-45.0</td><td>466.0</td><td>43.5</td><td>2007-09-28T21:08:48.072</td><td>A</td><td>464.0</td><td>43.3</td><td>2007-09-28T16:04:36.638</td><td>A</td><td>462.0</td><td>43.0</td><td>2007-09-28T18:36:42.355</td><td>A</td><td>A</td><td>1</td><td>8.04</td><td>2.7</td><td>2.7</td><td>-45.0</td><td>-999.0</td><td>-999.0</td><td>null</td><td>N</td><td>-999.0</td><td>-999.0</td><td>null</td><td>N</td><td>-999.0</td><td>-999.0</td><td>null</td><td>U</td><td>Q</td><td>0</td><td>-999.0</td><td>-999.0</td><td>-999.0</td><td>-999.0</td></tr>\n",
       "<tr><td>SSTGBS J183635.9+000542</td><td>279.1497141</td><td>4.95e-07</td><td>0.0950165</td><td>4.95e-07</td><td>A</td><td>A</td><td>18363593+0005421</td><td>-5.0</td><td>-1.87</td><td>0.0483</td><td>3.44</td><td>6</td><td>YSOc_star+dust(MP1)</td><td>13.86</td><td>1.1</td><td>4.75</td><td>0.0987</td><td>1.63</td><td>7</td><td>417.0</td><td>6.91</td><td>1999-08-07T14:37:49</td><td>A</td><td>1440.0</td><td>41.0</td><td>1999-08-07T14:37:49</td><td>A</td><td>2170.0</td><td>34.0</td><td>1999-08-07T14:37:49</td><td>A</td><td>1400.0</td><td>76.6</td><td>2007-05-15T20:03:12.871</td><td>A</td><td>1390.0</td><td>75.3</td><td>2007-05-15T20:03:12.871</td><td>A</td><td>1410.0</td><td>74.8</td><td>2007-05-15T20:03:12.871</td><td>A</td><td>A</td><td>1</td><td>3.09</td><td>1.5</td><td>1.5</td><td>-45.0</td><td>927.0</td><td>46.7</td><td>2007-05-15T20:03:12.871</td><td>A</td><td>920.0</td><td>46.8</td><td>2007-05-15T20:03:12.871</td><td>A</td><td>914.0</td><td>46.5</td><td>2007-05-15T20:03:12.871</td><td>A</td><td>A</td><td>9</td><td>2.97</td><td>1.7</td><td>1.7</td><td>-45.0</td><td>806.0</td><td>39.0</td><td>2007-05-15T20:03:12.871</td><td>A</td><td>805.0</td><td>39.0</td><td>2007-05-15T20:03:12.871</td><td>A</td><td>826.0</td><td>39.5</td><td>2007-05-15T20:03:12.871</td><td>A</td><td>A</td><td>1</td><td>3.92</td><td>1.8</td><td>1.8</td><td>-45.0</td><td>604.0</td><td>30.9</td><td>2007-05-15T20:03:12.871</td><td>A</td><td>595.0</td><td>28.5</td><td>2007-05-15T20:03:12.871</td><td>A</td><td>599.0</td><td>28.3</td><td>2007-05-15T20:03:12.871</td><td>A</td><td>A</td><td>1</td><td>4.98</td><td>1.8</td><td>1.8</td><td>-45.0</td><td>285.0</td><td>26.5</td><td>2007-09-28T21:08:48.072</td><td>A</td><td>280.0</td><td>26.1</td><td>2007-09-28T16:04:36.638</td><td>A</td><td>281.0</td><td>26.1</td><td>2007-09-28T18:36:42.355</td><td>A</td><td>A</td><td>1</td><td>8.04</td><td>2.7</td><td>2.7</td><td>-45.0</td><td>-999.0</td><td>-999.0</td><td>null</td><td>N</td><td>-999.0</td><td>-999.0</td><td>null</td><td>N</td><td>-999.0</td><td>-999.0</td><td>null</td><td>U</td><td>Q</td><td>0</td><td>-999.0</td><td>-999.0</td><td>-999.0</td><td>-999.0</td></tr>\n",
       "<tr><td>SSTGBS J183639.8+000-601</td><td>279.1660192</td><td>1.11e-08</td><td>-0.1003463</td><td>1.11e-08</td><td>A</td><td>A</td><td>18363985-0006010</td><td>-5.0</td><td>-2.89</td><td>0.0818</td><td>9.16</td><td>6</td><td>YSOc</td><td>-999.0</td><td>-999.0</td><td>-999.0</td><td>-999.0</td><td>-999.0</td><td>0</td><td>29.2</td><td>3.15</td><td>1998-10-06T11:46:11</td><td>E</td><td>536.0</td><td>74.1</td><td>1998-10-06T11:46:11</td><td>B</td><td>420.0</td><td>45.7</td><td>1998-10-06T11:46:11</td><td>B</td><td>73.5</td><td>4.73</td><td>2007-05-15T20:03:12.871</td><td>A</td><td>78.6</td><td>4.97</td><td>2007-05-15T20:03:12.871</td><td>A</td><td>77.9</td><td>4.65</td><td>2007-05-15T20:03:12.871</td><td>A</td><td>A</td><td>1</td><td>3.09</td><td>1.5</td><td>1.5</td><td>-45.0</td><td>43.9</td><td>2.12</td><td>2007-05-15T20:03:12.871</td><td>A</td><td>43.9</td><td>2.14</td><td>2007-05-15T20:03:12.871</td><td>A</td><td>44.2</td><td>2.11</td><td>2007-05-15T20:03:12.871</td><td>A</td><td>A</td><td>1</td><td>2.97</td><td>1.7</td><td>1.7</td><td>-45.0</td><td>33.4</td><td>1.94</td><td>2007-05-15T20:03:12.871</td><td>A</td><td>33.6</td><td>2.07</td><td>2007-05-15T20:03:12.871</td><td>A</td><td>33.5</td><td>1.85</td><td>2007-05-15T20:03:12.871</td><td>A</td><td>A</td><td>1</td><td>3.92</td><td>1.8</td><td>1.8</td><td>-45.0</td><td>-999.0</td><td>-999.0</td><td>null</td><td>U</td><td>-999.0</td><td>-999.0</td><td>null</td><td>U</td><td>19.0</td><td>3.14</td><td>2007-05-15T20:03:12.871</td><td>B</td><td>Q</td><td>-2</td><td>4.98</td><td>1.8</td><td>1.8</td><td>-45.0</td><td>-999.0</td><td>-999.0</td><td>null</td><td>U</td><td>-999.0</td><td>-999.0</td><td>null</td><td>U</td><td>3.07</td><td>0.552</td><td>2007-09-28T18:36:42.355</td><td>B</td><td>Q</td><td>-2</td><td>8.04</td><td>2.7</td><td>2.7</td><td>-45.0</td><td>-999.0</td><td>-999.0</td><td>null</td><td>N</td><td>-999.0</td><td>-999.0</td><td>null</td><td>N</td><td>-999.0</td><td>-999.0</td><td>null</td><td>U</td><td>Q</td><td>0</td><td>-999.0</td><td>-999.0</td><td>-999.0</td><td>-999.0</td></tr>\n",
       "</table>"
      ],
      "text/plain": [
       "<Table length=10>\n",
       "          GBS_ID               ra       D_ra   ... MP2_aminor MP2_tilt\n",
       "                              deg       deg    ...   pixels     deg   \n",
       "          str25             float64   float64  ...  float64   float64 \n",
       "------------------------- ----------- -------- ... ---------- --------\n",
       "  SSTGBS J183608.5+000205 279.0353208 5.56e-07 ...     -999.0   -999.0\n",
       "  SSTGBS J183610.4+000127 279.0432636 5.96e-07 ...     -999.0   -999.0\n",
       "  SSTGBS J183610.9+000926 279.0453931 3.53e-07 ...     -999.0   -999.0\n",
       "SSTGBS J183612.1+000-1504 279.0502995 4.28e-07 ...     -999.0   -999.0\n",
       " SSTGBS J183619.4+000-250 279.0808362 5.18e-07 ...        2.3    -45.0\n",
       "SSTGBS J183620.2+000-1915  279.084311 4.77e-07 ...     -999.0   -999.0\n",
       "SSTGBS J183622.1+000-1345 279.0919327 3.65e-07 ...        2.3    -45.0\n",
       "SSTGBS J183623.7+000-1448  279.098814 5.97e-07 ...     -999.0   -999.0\n",
       "  SSTGBS J183635.9+000542 279.1497141 4.95e-07 ...     -999.0   -999.0\n",
       " SSTGBS J183639.8+000-601 279.1660192 1.11e-08 ...     -999.0   -999.0"
      ]
     },
     "execution_count": 20,
     "metadata": {},
     "output_type": "execute_result"
    }
   ],
   "source": [
    "tyso[:10]"
   ]
  },
  {
   "cell_type": "code",
   "execution_count": null,
   "metadata": {},
   "outputs": [],
   "source": []
  }
 ],
 "metadata": {
  "kernelspec": {
   "display_name": "Python 3",
   "language": "python",
   "name": "python3"
  },
  "language_info": {
   "codemirror_mode": {
    "name": "ipython",
    "version": 3
   },
   "file_extension": ".py",
   "mimetype": "text/x-python",
   "name": "python",
   "nbconvert_exporter": "python",
   "pygments_lexer": "ipython3",
   "version": "3.6.5"
  }
 },
 "nbformat": 4,
 "nbformat_minor": 2
}
