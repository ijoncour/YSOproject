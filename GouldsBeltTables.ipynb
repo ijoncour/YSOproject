{
 "cells": [
  {
   "cell_type": "code",
   "execution_count": 1,
   "metadata": {},
   "outputs": [],
   "source": [
    "GBysodir='/n/subaruraid/lgm/Spitzer-Serpens/GB-YSOc/'\n",
    "GBfulldir='/n/subaruraid/lgm/Spitzer-Serpens/GB-Full/'\n",
    "ysofname = 'catalog-SERAQU_%d-YSOc.tbl'\n",
    "fullfname = 'catalog-SERAQU_%d-FULL.tbl'\n",
    "indx = range(1,7)"
   ]
  },
  {
   "cell_type": "code",
   "execution_count": 2,
   "metadata": {},
   "outputs": [],
   "source": [
    "import numpy as np\n",
    "import numpy.ma as ma\n",
    "from astropy.io import ascii\n",
    "from astropy.table import Table\n",
    "from astropy import units as u\n",
    "from astropy.visualization import quantity_support\n",
    "quantity_support()\n",
    "import matplotlib.pyplot as plt\n",
    "%matplotlib inline"
   ]
  },
  {
   "cell_type": "code",
   "execution_count": 3,
   "metadata": {},
   "outputs": [
    {
     "name": "stdout",
     "output_type": "stream",
     "text": [
      "/n/subaruraid/lgm/Spitzer-Serpens/GB-YSOc/catalog-SERAQU_1-YSOc.tbl\n",
      "/n/subaruraid/lgm/Spitzer-Serpens/GB-YSOc/catalog-SERAQU_2-YSOc.tbl\n",
      "/n/subaruraid/lgm/Spitzer-Serpens/GB-YSOc/catalog-SERAQU_3-YSOc.tbl\n",
      "/n/subaruraid/lgm/Spitzer-Serpens/GB-YSOc/catalog-SERAQU_4-YSOc.tbl\n",
      "/n/subaruraid/lgm/Spitzer-Serpens/GB-YSOc/catalog-SERAQU_5-YSOc.tbl\n",
      "/n/subaruraid/lgm/Spitzer-Serpens/GB-YSOc/catalog-SERAQU_6-YSOc.tbl\n"
     ]
    }
   ],
   "source": [
    "tables = list()\n",
    "for i in indx:\n",
    "    print(GBysodir+ysofname%(i))\n",
    "    f=GBysodir+ysofname%(i)\n",
    "    t =Table.read(f,format='ipac')\n",
    "    tables.append(t)\n",
    "    #plt.plot(t['ra']*u.degree,t['dec']*u.degree)\n",
    "    "
   ]
  },
  {
   "cell_type": "code",
   "execution_count": 5,
   "metadata": {},
   "outputs": [
    {
     "name": "stdout",
     "output_type": "stream",
     "text": [
      "['GBS_ID', 'ra', 'D_ra', 'dec', 'D_dec', 'Q_pos', 'Q_merge', 'id2mass', 'Prob_Galc', 'alpha', 'D_alpha', 'alpha_chi2', 'alpha_nfit', 'object_type', 'Av', 'D_Av', 'mag_IR1', 'D_mag_IR1', 'Av_chi2', 'Av_nfit', 'J_flux_c', 'J_D_flux_c', 'J_date_c', 'J_Q_det_c', 'H_flux_c', 'H_D_flux_c', 'H_date_c', 'H_Q_det_c', 'Ks_flux_c', 'Ks_D_flux_c', 'Ks_date_c', 'Ks_Q_det_c', 'IR1_flux_1', 'IR1_D_flux_1', 'IR1_date_1', 'IR1_Q_det_1', 'IR1_flux_2', 'IR1_D_flux_2', 'IR1_date_2', 'IR1_Q_det_2', 'IR1_flux_c', 'IR1_D_flux_c', 'IR1_date_c', 'IR1_Q_det_c', 'IR1_Q_flux_m', 'IR1_imtype', 'IR1_src_area', 'IR1_amajor', 'IR1_aminor', 'IR1_tilt', 'IR2_flux_1', 'IR2_D_flux_1', 'IR2_date_1', 'IR2_Q_det_1', 'IR2_flux_2', 'IR2_D_flux_2', 'IR2_date_2', 'IR2_Q_det_2', 'IR2_flux_c', 'IR2_D_flux_c', 'IR2_date_c', 'IR2_Q_det_c', 'IR2_Q_flux_m', 'IR2_imtype', 'IR2_src_area', 'IR2_amajor', 'IR2_aminor', 'IR2_tilt', 'IR3_flux_1', 'IR3_D_flux_1', 'IR3_date_1', 'IR3_Q_det_1', 'IR3_flux_2', 'IR3_D_flux_2', 'IR3_date_2', 'IR3_Q_det_2', 'IR3_flux_c', 'IR3_D_flux_c', 'IR3_date_c', 'IR3_Q_det_c', 'IR3_Q_flux_m', 'IR3_imtype', 'IR3_src_area', 'IR3_amajor', 'IR3_aminor', 'IR3_tilt', 'IR4_flux_1', 'IR4_D_flux_1', 'IR4_date_1', 'IR4_Q_det_1', 'IR4_flux_2', 'IR4_D_flux_2', 'IR4_date_2', 'IR4_Q_det_2', 'IR4_flux_c', 'IR4_D_flux_c', 'IR4_date_c', 'IR4_Q_det_c', 'IR4_Q_flux_m', 'IR4_imtype', 'IR4_src_area', 'IR4_amajor', 'IR4_aminor', 'IR4_tilt', 'MP1_flux_1', 'MP1_D_flux_1', 'MP1_date_1', 'MP1_Q_det_1', 'MP1_flux_2', 'MP1_D_flux_2', 'MP1_date_2', 'MP1_Q_det_2', 'MP1_flux_c', 'MP1_D_flux_c', 'MP1_date_c', 'MP1_Q_det_c', 'MP1_Q_flux_m', 'MP1_imtype', 'MP1_src_area', 'MP1_amajor', 'MP1_aminor', 'MP1_tilt', 'MP2_flux_1', 'MP2_D_flux_1', 'MP2_date_1', 'MP2_Q_det_1', 'MP2_flux_2', 'MP2_D_flux_2', 'MP2_date_2', 'MP2_Q_det_2', 'MP2_flux_c', 'MP2_D_flux_c', 'MP2_date_c', 'MP2_Q_det_c', 'MP2_Q_flux_m', 'MP2_imtype', 'MP2_src_area', 'MP2_amajor', 'MP2_aminor', 'MP2_tilt']\n",
      "{'YSOc_star+dust(IR4)', 'YSOc_red', 'YSOc_PAH-em', 'YSOc_star+dust(IR1)', 'YSOc_star+dust(MP1)', 'YSOc', 'YSOc_star+dust(IR2)', 'YSOc_star+dust(IR3)'}\n"
     ]
    }
   ],
   "source": [
    "print(t.colnames)\n",
    "#plt.scatter(tables[3]['ra'],tables[3]['dec'])\n",
    "print(set(t['object_type']))"
   ]
  },
  {
   "cell_type": "code",
   "execution_count": 19,
   "metadata": {},
   "outputs": [
    {
     "name": "stdout",
     "output_type": "stream",
     "text": [
      "223\n",
      "0\n"
     ]
    }
   ],
   "source": [
    "import pandas\n",
    "df = t.to_pandas()\n",
    "print(len(df))\n",
    "xdf = df[df[\"object_type\"].str.contains(\"red\")]\n",
    "xdf = df[df[\"Prob_Galc\"] == 999]\n",
    "print(len(xdf))"
   ]
  },
  {
   "cell_type": "code",
   "execution_count": 29,
   "metadata": {},
   "outputs": [
    {
     "name": "stderr",
     "output_type": "stream",
     "text": [
      "WARNING: MergeConflictWarning: Cannot merge meta key 'value' types <class 'str'> and <class 'str'>, choosing value='20100621' [astropy.utils.metadata]\n",
      "WARNING: MergeConflictWarning: Cannot merge meta key 'value' types <class 'str'> and <class 'str'>, choosing value='20100615' [astropy.utils.metadata]\n"
     ]
    }
   ],
   "source": [
    "from astropy.table import vstack\n",
    "alltab = vstack(tables)"
   ]
  },
  {
   "cell_type": "code",
   "execution_count": 34,
   "metadata": {},
   "outputs": [
    {
     "data": {
      "text/plain": [
       "<matplotlib.collections.PathCollection at 0x7f286cec7438>"
      ]
     },
     "execution_count": 34,
     "metadata": {},
     "output_type": "execute_result"
    },
    {
     "data": {
      "image/png": "[encoded data removed]",
      "text/plain": [
       "<Figure size 432x288 with 1 Axes>"
      ]
     },
     "metadata": {},
     "output_type": "display_data"
    }
   ],
   "source": [
    "plt.scatter(tables[5]['ra'],tables[5]['dec'])"
   ]
  },
  {
   "cell_type": "code",
   "execution_count": null,
   "metadata": {},
   "outputs": [],
   "source": [
    "z=GBfulldir+fullfname%5\n",
    "#NO! too big!tfull = Table.read(z,format='ipac')\n"
   ]
  },
  {
   "cell_type": "code",
   "execution_count": null,
   "metadata": {},
   "outputs": [],
   "source": []
  }
 ],
 "metadata": {
  "kernelspec": {
   "display_name": "Python 3",
   "language": "python",
   "name": "python3"
  },
  "language_info": {
   "codemirror_mode": {
    "name": "ipython",
    "version": 3
   },
   "file_extension": ".py",
   "mimetype": "text/x-python",
   "name": "python",
   "nbconvert_exporter": "python",
   "pygments_lexer": "ipython3",
   "version": "3.6.5"
  }
 },
 "nbformat": 4,
 "nbformat_minor": 2
}
